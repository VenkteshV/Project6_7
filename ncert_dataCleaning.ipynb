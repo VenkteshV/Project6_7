{
  "nbformat": 4,
  "nbformat_minor": 0,
  "metadata": {
    "colab": {
      "name": "ncert_dataCleaning.ipynb",
      "provenance": [],
      "collapsed_sections": [],
      "include_colab_link": true
    },
    "kernelspec": {
      "name": "python3",
      "display_name": "Python 3"
    },
    "language_info": {
      "name": "python"
    }
  },
  "cells": [
    {
      "cell_type": "markdown",
      "metadata": {
        "id": "view-in-github",
        "colab_type": "text"
      },
      "source": [
        "<a href=\"https://colab.research.google.com/github/VenkteshV/Project6_7/blob/main/ncert_dataCleaning.ipynb\" target=\"_parent\"><img src=\"https://colab.research.google.com/assets/colab-badge.svg\" alt=\"Open In Colab\"/></a>"
      ]
    },
    {
      "cell_type": "code",
      "execution_count": null,
      "metadata": {
        "id": "vNsiOD9wGMK2"
      },
      "outputs": [],
      "source": [
        "import os\n",
        "import pickle\n",
        "import pandas as pd"
      ]
    },
    {
      "cell_type": "code",
      "source": [
        "from google.colab import drive\n",
        "drive.mount('/content/drive')"
      ],
      "metadata": {
        "colab": {
          "base_uri": "https://localhost:8080/"
        },
        "id": "RZ1DkG01HSkG",
        "outputId": "896d791d-ce4b-470b-aa00-ac829324a5a9"
      },
      "execution_count": null,
      "outputs": [
        {
          "output_type": "stream",
          "name": "stdout",
          "text": [
            "Mounted at /content/drive\n"
          ]
        }
      ]
    },
    {
      "cell_type": "code",
      "source": [
        "out_dir = \"/content/drive/MyDrive/K12/Class6_Class10_Science_Social_Science\""
      ],
      "metadata": {
        "id": "SKgT1nhLI8iv"
      },
      "execution_count": null,
      "outputs": []
    },
    {
      "cell_type": "markdown",
      "source": [
        ""
      ],
      "metadata": {
        "id": "0hPfa61vsvk9"
      }
    },
    {
      "cell_type": "code",
      "source": [
        "classes = os.listdir(out_dir)"
      ],
      "metadata": {
        "id": "U0bQ9zlpHq3Q"
      },
      "execution_count": null,
      "outputs": []
    },
    {
      "cell_type": "code",
      "source": [
        "classes"
      ],
      "metadata": {
        "colab": {
          "base_uri": "https://localhost:8080/"
        },
        "id": "tLbEdSrfKe4z",
        "outputId": "7bb948f3-ef2e-4662-9ef5-9b57d85b2183"
      },
      "execution_count": null,
      "outputs": [
        {
          "output_type": "execute_result",
          "data": {
            "text/plain": [
              "['class_9', 'class_8', 'class_7', 'class_6', 'class_10']"
            ]
          },
          "metadata": {},
          "execution_count": 11
        }
      ]
    },
    {
      "cell_type": "code",
      "source": [
        "folders = []\n",
        "\n",
        "for i in classes:\n",
        "  path = out_dir + \"/\" + i \n",
        "  folders.append(path)\n",
        "  \n",
        "sub = []\n",
        "# folders\n",
        "for j in folders:\n",
        "  files = os.listdir(j+\"/\")\n",
        "  for k in files:\n",
        "    sub.append(j+\"/\"+k+ \"/\")\n",
        "    \n",
        "\n"
      ],
      "metadata": {
        "id": "b2XhfZzHH1Gf"
      },
      "execution_count": null,
      "outputs": []
    },
    {
      "cell_type": "code",
      "source": [
        "sub\n"
      ],
      "metadata": {
        "colab": {
          "base_uri": "https://localhost:8080/"
        },
        "id": "hrDx9NYdv3-0",
        "outputId": "36a7832c-aeea-4d2e-9714-99d3b502cf09"
      },
      "execution_count": null,
      "outputs": [
        {
          "output_type": "execute_result",
          "data": {
            "text/plain": [
              "['/content/drive/MyDrive/K12/Class6_Class10_Science_Social_Science/class_9/Science/',\n",
              " '/content/drive/MyDrive/K12/Class6_Class10_Science_Social_Science/class_8/science/',\n",
              " '/content/drive/MyDrive/K12/Class6_Class10_Science_Social_Science/class_7/Science/',\n",
              " '/content/drive/MyDrive/K12/Class6_Class10_Science_Social_Science/class_6/Science/',\n",
              " '/content/drive/MyDrive/K12/Class6_Class10_Science_Social_Science/class_10/Science/']"
            ]
          },
          "metadata": {},
          "execution_count": 17
        }
      ]
    },
    {
      "cell_type": "code",
      "source": [
        "c = [\"FOOD: WHERE DOES IT COME FROM?\",\"COMPONENTS OF FOOD\",\"FIBRE TO FABRIC\",\"SORTING MATERIALS INTO GROUPS\",\n",
        " \"SEPARATION OF SUBSTANCES\",\"CHANGES AROUND US\",\"GETTING TO KNOW PLANTS\",\"BODY MOVEMENTS\",\"THE LIVING ORGANISMS — CHARACTERISTICS AND HABITATS\",\n",
        " \"MOTION AND MEASUREMENT OF DISTANCES\",\"LIGHT, SHADOWS AND REFLECTIONS\",\"ELECTRICITY AND CIRCUITS\",\"FUN WITH MAGNETS\",\"WATER\",\"AIR AROUND US\",\"GARBAGE IN, GARBAGE OUT\",\n",
        " \"Nutrition in Plants\",\"Nutrition in Animals\",\"Fibre to Fabric\",\"Heat\",\"Acids, Bases and Salts\",\"Physical and Chemical Changes\",\n",
        " \"Weather, Climate and Adaptations of Animals to Climate\",\n",
        " \"Winds, Storms and Cyclones\",\"Soil\",\"Respiration in Organisms\",\n",
        " \"Transportation in Animals and Plants\",\"Reproduction in Plants\",\"Motion and Time\",\"Electric Current and its 14 Effects\",\"Light\",\"Water: A Precious Resource\"\n",
        " ,\"Forests: Our Lifeline\",\"Wastewater Story\",\n",
        " \"CROP PRODUCTION AND MANAGEMENT\", \"MICROORGANISMS : FRIEND AND FOE\", \"SYNTHETIC FIBRES AND PLASTICS\",\n",
        "                \"MATERIALS : METALS AND NON-METALS\", \"COAL AND PETROLEUM\", \"COMBUSTION AND FLAME\",\n",
        "                \"CONSERVATION OF PLANTS AND ANIMALS\", \"CELL — STRUCTURE AND FUNCTIONS\", \"REPRODUCTION IN ANIMALS\",\n",
        "                \"REACHING THE AGE OF ADOLESCENCE\", \"FORCE AND PRESSURE\", \"FRICTION\", \"SOUND\", \n",
        "                \"CHEMICAL EFFECTS OF ELECTRIC CURRENT\", \"SOME NATURAL PHENOMENA\", \"LIGHT\", \"STARS AND THE SOLAR SYSTEM\",\n",
        "                \"POLLUTION OF AIR AND WATER\",\"MATTER IN OUR SURROUNDINGS\", \"IS MATTER AROUND US PURE?\", \"ATOMS AND MOLECULES\",\n",
        "                \"STRUCTURE OF THE ATOM\", \"THE FUNDAMENTAL UNIT OF LIFE\", \"TISSUES\", \"DIVERSITY IN LIVING ORGANISMS\",\n",
        "                \"MOTION\", \"FORCE AND LAWS OF MOTION\", \"GRAVITATION\", \"WORK AND ENERGY\", \"SOUND\", \"WHY DO WE FALL ILL?\",\n",
        "                \"NATURAL RESOURCES\", \"IMPROVEMENT IN FOOD RESOURCES\",\"Chemical Reactions and Equations\", \"Acids, Bases and Salts\", \"Metals and Non-metals\", \"Carbon and its Compounds\",\n",
        "                 \"Periodic Classification of Elements\", \"Life Processes\", \"Control and Coordination\",\n",
        "                 \"How do Organisms Reproduce?\", \"Heredity and Evolution\", \"Light – Reflection and Refraction\",\n",
        "                 \"The Human Eye and the Colourful World\", \"Electricity \", \"Magnetic Effects of Electric Current\",\n",
        "                 \"Sources of Energy\", \"Our Environment\", \"Sustainable Management of Natural Resources\"]"
      ],
      "metadata": {
        "id": "mD7CIp7xPYEJ"
      },
      "execution_count": null,
      "outputs": []
    },
    {
      "cell_type": "code",
      "source": [
        "chapters = []\n",
        "for i in c:\n",
        "  chapters.append(i.lower())"
      ],
      "metadata": {
        "id": "OneJ-eD3Pdox"
      },
      "execution_count": null,
      "outputs": []
    },
    {
      "cell_type": "markdown",
      "source": [
        "materials : metals and non-metals materials"
      ],
      "metadata": {
        "id": "HEUYdaw-Qfpp"
      }
    },
    {
      "cell_type": "code",
      "source": [
        "chapters.sort(reverse = True)"
      ],
      "metadata": {
        "id": "m1__i_vyPpB3"
      },
      "execution_count": null,
      "outputs": []
    },
    {
      "cell_type": "code",
      "source": [
        "chapters"
      ],
      "metadata": {
        "id": "Ck2UOaDkROi8",
        "colab": {
          "base_uri": "https://localhost:8080/"
        },
        "outputId": "714daa3c-9de6-4c31-cccc-903179339f5c"
      },
      "execution_count": null,
      "outputs": [
        {
          "output_type": "execute_result",
          "data": {
            "text/plain": [
              "['work and energy',\n",
              " 'winds, storms and cyclones',\n",
              " 'why do we fall ill?',\n",
              " 'weather, climate and adaptations of animals to climate',\n",
              " 'water: a precious resource',\n",
              " 'water',\n",
              " 'wastewater story',\n",
              " 'transportation in animals and plants',\n",
              " 'tissues',\n",
              " 'the living organisms — characteristics and habitats',\n",
              " 'the human eye and the colourful world',\n",
              " 'the fundamental unit of life',\n",
              " 'synthetic fibres and plastics',\n",
              " 'sustainable management of natural resources',\n",
              " 'structure of the atom',\n",
              " 'stars and the solar system',\n",
              " 'sources of energy',\n",
              " 'sound',\n",
              " 'sound',\n",
              " 'sorting materials into groups',\n",
              " 'some natural phenomena',\n",
              " 'soil',\n",
              " 'separation of substances',\n",
              " 'respiration in organisms',\n",
              " 'reproduction in plants',\n",
              " 'reproduction in animals',\n",
              " 'reaching the age of adolescence',\n",
              " 'pollution of air and water',\n",
              " 'physical and chemical changes',\n",
              " 'periodic classification of elements',\n",
              " 'our environment',\n",
              " 'nutrition in plants',\n",
              " 'nutrition in animals',\n",
              " 'natural resources',\n",
              " 'motion and time',\n",
              " 'motion and measurement of distances',\n",
              " 'motion',\n",
              " 'microorganisms : friend and foe',\n",
              " 'metals and non-metals',\n",
              " 'matter in our surroundings',\n",
              " 'materials : metals and non-metals',\n",
              " 'magnetic effects of electric current',\n",
              " 'light, shadows and reflections',\n",
              " 'light – reflection and refraction',\n",
              " 'light',\n",
              " 'light',\n",
              " 'life processes',\n",
              " 'is matter around us pure?',\n",
              " 'improvement in food resources',\n",
              " 'how do organisms reproduce?',\n",
              " 'heredity and evolution',\n",
              " 'heat',\n",
              " 'gravitation',\n",
              " 'getting to know plants',\n",
              " 'garbage in, garbage out',\n",
              " 'fun with magnets',\n",
              " 'friction',\n",
              " 'forests: our lifeline',\n",
              " 'force and pressure',\n",
              " 'force and laws of motion',\n",
              " 'food: where does it come from?',\n",
              " 'fibre to fabric',\n",
              " 'fibre to fabric',\n",
              " 'electricity and circuits',\n",
              " 'electricity ',\n",
              " 'electric current and its 14 effects',\n",
              " 'diversity in living organisms',\n",
              " 'crop production and management',\n",
              " 'control and coordination',\n",
              " 'conservation of plants and animals',\n",
              " 'components of food',\n",
              " 'combustion and flame',\n",
              " 'coal and petroleum',\n",
              " 'chemical reactions and equations',\n",
              " 'chemical effects of electric current',\n",
              " 'changes around us',\n",
              " 'cell — structure and functions',\n",
              " 'carbon and its compounds',\n",
              " 'body movements',\n",
              " 'atoms and molecules',\n",
              " 'air around us',\n",
              " 'acids, bases and salts',\n",
              " 'acids, bases and salts']"
            ]
          },
          "metadata": {},
          "execution_count": 27
        }
      ]
    },
    {
      "cell_type": "code",
      "source": [
        "text_final = []\n",
        "taxonomy = []\n",
        "for i in sub:\n",
        "  f = os.listdir(i)\n",
        "  for j in f:\n",
        "    path = i+j\n",
        "    tax = \"\"\n",
        "    sent = \"Class6_Class10_Science_Social_Science/\"\n",
        "    pos = len(sent) + i.find(sent)\n",
        "    tax = tax+i[pos:]\n",
        "    # print(tax)\n",
        "    # print(path)\n",
        "    fi = open(path, \"r\")\n",
        "    text = fi.read()\n",
        "    text_final.append(text)\n",
        "    text = text[:1000]\n",
        "    chapter = \"\"\n",
        "    l = 0\n",
        "    for k in chapters:\n",
        "      c_pos = text.find(k)\n",
        "      # print(c_pos)\n",
        "      if(c_pos != -1 and len(k)>l):\n",
        "        # print(l)\n",
        "        l = len(k)\n",
        "        chapter = k\n",
        "        # print(k)\n",
        "\n",
        "        # break\n",
        "    tax = tax + chapter\n",
        "    taxonomy.append(tax)\n"
      ],
      "metadata": {
        "id": "kV01kEqpJLTm"
      },
      "execution_count": null,
      "outputs": []
    },
    {
      "cell_type": "code",
      "source": [
        "len(taxonomy)"
      ],
      "metadata": {
        "colab": {
          "base_uri": "https://localhost:8080/"
        },
        "id": "1mndKDLcwpJ5",
        "outputId": "53607fae-3a54-435f-e594-951f6353eda7"
      },
      "execution_count": null,
      "outputs": [
        {
          "output_type": "execute_result",
          "data": {
            "text/plain": [
              "86"
            ]
          },
          "metadata": {},
          "execution_count": 30
        }
      ]
    },
    {
      "cell_type": "code",
      "source": [
        "taxonomy"
      ],
      "metadata": {
        "id": "V_pVTEuTwziT"
      },
      "execution_count": null,
      "outputs": []
    },
    {
      "cell_type": "code",
      "source": [
        "tax_f =[]\n",
        "tax_final=[]\n",
        "for i in taxonomy:\n",
        "  tax_f.append(i.replace(\"//\", \"/\"))\n",
        "  \n",
        "for i in tax_f:\n",
        "  tax_final.append(i.replace(\"_\",\"/\"))"
      ],
      "metadata": {
        "id": "rRrRg8yqOrED"
      },
      "execution_count": null,
      "outputs": []
    },
    {
      "cell_type": "code",
      "source": [
        "tax_final"
      ],
      "metadata": {
        "colab": {
          "base_uri": "https://localhost:8080/"
        },
        "id": "aPWCgYGdxeBf",
        "outputId": "d0d262b2-1fa4-462c-a507-7bf2789d9cb9"
      },
      "execution_count": null,
      "outputs": [
        {
          "output_type": "execute_result",
          "data": {
            "text/plain": [
              "['class/9/Science/motion',\n",
              " 'class/9/Science/life processes',\n",
              " 'class/9/Science/gravitation',\n",
              " 'class/9/Science/motion',\n",
              " 'class/9/Science/water',\n",
              " 'class/9/Science/',\n",
              " 'class/9/Science/',\n",
              " 'class/9/Science/water',\n",
              " 'class/9/Science/water',\n",
              " 'class/9/Science/structure of the atom',\n",
              " 'class/9/Science/tissues',\n",
              " 'class/9/Science/water',\n",
              " 'class/9/Science/',\n",
              " 'class/9/Science/',\n",
              " 'class/9/Science/sound',\n",
              " 'class/8/science/sound',\n",
              " 'class/8/science/friction',\n",
              " 'class/8/science/force and pressure',\n",
              " 'class/8/science/materials : metals and non-metals',\n",
              " 'class/8/science/combustion and flame',\n",
              " 'class/8/science/synthetic fibres and plastics',\n",
              " 'class/8/science/microorganisms : friend and foe',\n",
              " 'class/8/science/',\n",
              " 'class/8/science/crop production and management',\n",
              " 'class/8/science/reaching the age of adolescence',\n",
              " 'class/8/science/gravitation',\n",
              " 'class/8/science/pollution of air and water',\n",
              " 'class/8/science/reproduction in animals',\n",
              " 'class/8/science/cell — structure and functions',\n",
              " 'class/8/science/conservation of plants and animals',\n",
              " 'class/8/science/stars and the solar system',\n",
              " 'class/8/science/light',\n",
              " 'class/8/science/coal and petroleum',\n",
              " 'class/8/science/some natural phenomena',\n",
              " 'class/8/science/chemical effects of electric current',\n",
              " 'class/7/Science/motion',\n",
              " 'class/7/Science/wastewater story',\n",
              " 'class/7/Science/forests: our lifeline',\n",
              " 'class/7/Science/',\n",
              " 'class/7/Science/water',\n",
              " 'class/7/Science/winds, storms and cyclones',\n",
              " 'class/7/Science/weather, climate and adaptations of animals to climate',\n",
              " 'class/7/Science/transportation in animals and plants',\n",
              " 'class/7/Science/reproduction in plants',\n",
              " 'class/7/Science/water',\n",
              " 'class/7/Science/light',\n",
              " 'class/7/Science/acids, bases and salts',\n",
              " 'class/7/Science/physical and chemical changes',\n",
              " 'class/7/Science/',\n",
              " 'class/7/Science/motion and time',\n",
              " 'class/7/Science/light',\n",
              " 'class/7/Science/fibre to fabric',\n",
              " 'class/7/Science/nutrition in animals',\n",
              " 'class/7/Science/nutrition in plants',\n",
              " 'class/6/Science/air around us',\n",
              " 'class/6/Science/garbage in, garbage out',\n",
              " 'class/6/Science/water',\n",
              " 'class/6/Science/fun with magnets',\n",
              " 'class/6/Science/electricity and circuits',\n",
              " 'class/6/Science/the living organisms — characteristics and habitats',\n",
              " 'class/6/Science/body movements',\n",
              " 'class/6/Science/changes around us',\n",
              " 'class/6/Science/getting to know plants',\n",
              " 'class/6/Science/separation of substances',\n",
              " 'class/6/Science/fibre to fabric',\n",
              " 'class/6/Science/sorting materials into groups',\n",
              " 'class/6/Science/components of food',\n",
              " 'class/6/Science/light',\n",
              " 'class/6/Science/motion and measurement of distances',\n",
              " 'class/6/Science/water',\n",
              " 'class/10/Science/electricity ',\n",
              " 'class/10/Science/magnetic effects of electric current',\n",
              " 'class/10/Science/the human eye and the colourful world',\n",
              " 'class/10/Science/light',\n",
              " 'class/10/Science/',\n",
              " 'class/10/Science/natural resources',\n",
              " 'class/10/Science/',\n",
              " 'class/10/Science/our environment',\n",
              " 'class/10/Science/life processes',\n",
              " 'class/10/Science/life processes',\n",
              " 'class/10/Science/sound',\n",
              " 'class/10/Science/acids, bases and salts',\n",
              " 'class/10/Science/chemical reactions and equations',\n",
              " 'class/10/Science/periodic classification of elements',\n",
              " 'class/10/Science/',\n",
              " 'class/10/Science/metals and non-metals']"
            ]
          },
          "metadata": {},
          "execution_count": 60
        }
      ]
    },
    {
      "cell_type": "code",
      "source": [
        "len(tax_final)"
      ],
      "metadata": {
        "colab": {
          "base_uri": "https://localhost:8080/"
        },
        "id": "DEdWkTBowu6-",
        "outputId": "e362ee54-5fd2-471a-9eb0-b0700f1d9386"
      },
      "execution_count": null,
      "outputs": [
        {
          "output_type": "execute_result",
          "data": {
            "text/plain": [
              "86"
            ]
          },
          "metadata": {},
          "execution_count": 61
        }
      ]
    },
    {
      "cell_type": "code",
      "source": [
        "text_final"
      ],
      "metadata": {
        "id": "yZsJzbJ6y7YI"
      },
      "execution_count": null,
      "outputs": []
    },
    {
      "cell_type": "code",
      "source": [
        "len(text_final)"
      ],
      "metadata": {
        "colab": {
          "base_uri": "https://localhost:8080/"
        },
        "id": "JZkpYiJDrQbH",
        "outputId": "50500046-678f-4c34-8b2e-8c2b109a886d"
      },
      "execution_count": null,
      "outputs": [
        {
          "output_type": "execute_result",
          "data": {
            "text/plain": [
              "86"
            ]
          },
          "metadata": {},
          "execution_count": 63
        }
      ]
    },
    {
      "cell_type": "code",
      "source": [
        "data = {\n",
        "    \"taxonomy\":tax_final,\n",
        "    \"text\":text_final\n",
        "    }"
      ],
      "metadata": {
        "id": "u1dPpAHezmmy"
      },
      "execution_count": null,
      "outputs": []
    },
    {
      "cell_type": "code",
      "source": [
        "df = pd.DataFrame(data)"
      ],
      "metadata": {
        "id": "rrgzgPkBq4Nt"
      },
      "execution_count": null,
      "outputs": []
    },
    {
      "cell_type": "code",
      "source": [
        "df"
      ],
      "metadata": {
        "colab": {
          "base_uri": "https://localhost:8080/",
          "height": 424
        },
        "id": "UQ2ti5JJ0Rm4",
        "outputId": "7f63c747-5fd2-43b9-b374-141a6acb5870"
      },
      "execution_count": null,
      "outputs": [
        {
          "output_type": "execute_result",
          "data": {
            "text/plain": [
              "                                             taxonomy  \\\n",
              "0                              class/9/Science/motion   \n",
              "1                      class/9/Science/life processes   \n",
              "2                         class/9/Science/gravitation   \n",
              "3                              class/9/Science/motion   \n",
              "4                               class/9/Science/water   \n",
              "..                                                ...   \n",
              "81            class/10/Science/acids, bases and salts   \n",
              "82  class/10/Science/chemical reactions and equations   \n",
              "83  class/10/Science/periodic classification of el...   \n",
              "84                                  class/10/Science/   \n",
              "85             class/10/Science/metals and non-metals   \n",
              "\n",
              "                                                 text  \n",
              "0   ffffforceorceorceorceorce     andandandandand ...  \n",
              "1   wwwwworkorkorkorkork     andandandandand e e e...  \n",
              "2   in chapters 8 and 9, we have learnt about the ...  \n",
              "3   in everyday life, we see some objects at rest ...  \n",
              "4   atter     ininininin o o o o oururururur s s s...  \n",
              "..                                                ...  \n",
              "81  acids, bases and salts you  have  learnt  in  ...  \n",
              "82  “facts are not science — as the dictionary is ...  \n",
              "83  periodic classification of elements in class i...  \n",
              "84  carbon and its in the last chapter, we came to...  \n",
              "85  metals and non-metals in class ix you have lea...  \n",
              "\n",
              "[86 rows x 2 columns]"
            ],
            "text/html": [
              "\n",
              "  <div id=\"df-0134f827-3d26-4565-9cb7-59f64f245ec4\">\n",
              "    <div class=\"colab-df-container\">\n",
              "      <div>\n",
              "<style scoped>\n",
              "    .dataframe tbody tr th:only-of-type {\n",
              "        vertical-align: middle;\n",
              "    }\n",
              "\n",
              "    .dataframe tbody tr th {\n",
              "        vertical-align: top;\n",
              "    }\n",
              "\n",
              "    .dataframe thead th {\n",
              "        text-align: right;\n",
              "    }\n",
              "</style>\n",
              "<table border=\"1\" class=\"dataframe\">\n",
              "  <thead>\n",
              "    <tr style=\"text-align: right;\">\n",
              "      <th></th>\n",
              "      <th>taxonomy</th>\n",
              "      <th>text</th>\n",
              "    </tr>\n",
              "  </thead>\n",
              "  <tbody>\n",
              "    <tr>\n",
              "      <th>0</th>\n",
              "      <td>class/9/Science/motion</td>\n",
              "      <td>ffffforceorceorceorceorce     andandandandand ...</td>\n",
              "    </tr>\n",
              "    <tr>\n",
              "      <th>1</th>\n",
              "      <td>class/9/Science/life processes</td>\n",
              "      <td>wwwwworkorkorkorkork     andandandandand e e e...</td>\n",
              "    </tr>\n",
              "    <tr>\n",
              "      <th>2</th>\n",
              "      <td>class/9/Science/gravitation</td>\n",
              "      <td>in chapters 8 and 9, we have learnt about the ...</td>\n",
              "    </tr>\n",
              "    <tr>\n",
              "      <th>3</th>\n",
              "      <td>class/9/Science/motion</td>\n",
              "      <td>in everyday life, we see some objects at rest ...</td>\n",
              "    </tr>\n",
              "    <tr>\n",
              "      <th>4</th>\n",
              "      <td>class/9/Science/water</td>\n",
              "      <td>atter     ininininin o o o o oururururur s s s...</td>\n",
              "    </tr>\n",
              "    <tr>\n",
              "      <th>...</th>\n",
              "      <td>...</td>\n",
              "      <td>...</td>\n",
              "    </tr>\n",
              "    <tr>\n",
              "      <th>81</th>\n",
              "      <td>class/10/Science/acids, bases and salts</td>\n",
              "      <td>acids, bases and salts you  have  learnt  in  ...</td>\n",
              "    </tr>\n",
              "    <tr>\n",
              "      <th>82</th>\n",
              "      <td>class/10/Science/chemical reactions and equations</td>\n",
              "      <td>“facts are not science — as the dictionary is ...</td>\n",
              "    </tr>\n",
              "    <tr>\n",
              "      <th>83</th>\n",
              "      <td>class/10/Science/periodic classification of el...</td>\n",
              "      <td>periodic classification of elements in class i...</td>\n",
              "    </tr>\n",
              "    <tr>\n",
              "      <th>84</th>\n",
              "      <td>class/10/Science/</td>\n",
              "      <td>carbon and its in the last chapter, we came to...</td>\n",
              "    </tr>\n",
              "    <tr>\n",
              "      <th>85</th>\n",
              "      <td>class/10/Science/metals and non-metals</td>\n",
              "      <td>metals and non-metals in class ix you have lea...</td>\n",
              "    </tr>\n",
              "  </tbody>\n",
              "</table>\n",
              "<p>86 rows × 2 columns</p>\n",
              "</div>\n",
              "      <button class=\"colab-df-convert\" onclick=\"convertToInteractive('df-0134f827-3d26-4565-9cb7-59f64f245ec4')\"\n",
              "              title=\"Convert this dataframe to an interactive table.\"\n",
              "              style=\"display:none;\">\n",
              "        \n",
              "  <svg xmlns=\"http://www.w3.org/2000/svg\" height=\"24px\"viewBox=\"0 0 24 24\"\n",
              "       width=\"24px\">\n",
              "    <path d=\"M0 0h24v24H0V0z\" fill=\"none\"/>\n",
              "    <path d=\"M18.56 5.44l.94 2.06.94-2.06 2.06-.94-2.06-.94-.94-2.06-.94 2.06-2.06.94zm-11 1L8.5 8.5l.94-2.06 2.06-.94-2.06-.94L8.5 2.5l-.94 2.06-2.06.94zm10 10l.94 2.06.94-2.06 2.06-.94-2.06-.94-.94-2.06-.94 2.06-2.06.94z\"/><path d=\"M17.41 7.96l-1.37-1.37c-.4-.4-.92-.59-1.43-.59-.52 0-1.04.2-1.43.59L10.3 9.45l-7.72 7.72c-.78.78-.78 2.05 0 2.83L4 21.41c.39.39.9.59 1.41.59.51 0 1.02-.2 1.41-.59l7.78-7.78 2.81-2.81c.8-.78.8-2.07 0-2.86zM5.41 20L4 18.59l7.72-7.72 1.47 1.35L5.41 20z\"/>\n",
              "  </svg>\n",
              "      </button>\n",
              "      \n",
              "  <style>\n",
              "    .colab-df-container {\n",
              "      display:flex;\n",
              "      flex-wrap:wrap;\n",
              "      gap: 12px;\n",
              "    }\n",
              "\n",
              "    .colab-df-convert {\n",
              "      background-color: #E8F0FE;\n",
              "      border: none;\n",
              "      border-radius: 50%;\n",
              "      cursor: pointer;\n",
              "      display: none;\n",
              "      fill: #1967D2;\n",
              "      height: 32px;\n",
              "      padding: 0 0 0 0;\n",
              "      width: 32px;\n",
              "    }\n",
              "\n",
              "    .colab-df-convert:hover {\n",
              "      background-color: #E2EBFA;\n",
              "      box-shadow: 0px 1px 2px rgba(60, 64, 67, 0.3), 0px 1px 3px 1px rgba(60, 64, 67, 0.15);\n",
              "      fill: #174EA6;\n",
              "    }\n",
              "\n",
              "    [theme=dark] .colab-df-convert {\n",
              "      background-color: #3B4455;\n",
              "      fill: #D2E3FC;\n",
              "    }\n",
              "\n",
              "    [theme=dark] .colab-df-convert:hover {\n",
              "      background-color: #434B5C;\n",
              "      box-shadow: 0px 1px 3px 1px rgba(0, 0, 0, 0.15);\n",
              "      filter: drop-shadow(0px 1px 2px rgba(0, 0, 0, 0.3));\n",
              "      fill: #FFFFFF;\n",
              "    }\n",
              "  </style>\n",
              "\n",
              "      <script>\n",
              "        const buttonEl =\n",
              "          document.querySelector('#df-0134f827-3d26-4565-9cb7-59f64f245ec4 button.colab-df-convert');\n",
              "        buttonEl.style.display =\n",
              "          google.colab.kernel.accessAllowed ? 'block' : 'none';\n",
              "\n",
              "        async function convertToInteractive(key) {\n",
              "          const element = document.querySelector('#df-0134f827-3d26-4565-9cb7-59f64f245ec4');\n",
              "          const dataTable =\n",
              "            await google.colab.kernel.invokeFunction('convertToInteractive',\n",
              "                                                     [key], {});\n",
              "          if (!dataTable) return;\n",
              "\n",
              "          const docLinkHtml = 'Like what you see? Visit the ' +\n",
              "            '<a target=\"_blank\" href=https://colab.research.google.com/notebooks/data_table.ipynb>data table notebook</a>'\n",
              "            + ' to learn more about interactive tables.';\n",
              "          element.innerHTML = '';\n",
              "          dataTable['output_type'] = 'display_data';\n",
              "          await google.colab.output.renderOutput(dataTable, element);\n",
              "          const docLink = document.createElement('div');\n",
              "          docLink.innerHTML = docLinkHtml;\n",
              "          element.appendChild(docLink);\n",
              "        }\n",
              "      </script>\n",
              "    </div>\n",
              "  </div>\n",
              "  "
            ]
          },
          "metadata": {},
          "execution_count": 69
        }
      ]
    },
    {
      "cell_type": "code",
      "source": [
        "df.to_csv(\"ncert_updated.csv\")"
      ],
      "metadata": {
        "id": "4KPQwzw0r-6Q"
      },
      "execution_count": null,
      "outputs": []
    },
    {
      "cell_type": "code",
      "source": [
        ""
      ],
      "metadata": {
        "id": "lMYoaHb6xx93"
      },
      "execution_count": null,
      "outputs": []
    }
  ]
}