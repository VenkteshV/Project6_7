{
  "nbformat": 4,
  "nbformat_minor": 0,
  "metadata": {
    "colab": {
      "provenance": [],
      "mount_file_id": "1Hn6FmPRrzWcFu7qoOkWZYCzOMwaHrL6k",
      "authorship_tag": "ABX9TyP6Ejw8+1m3KDnxJQVAfvnd",
      "include_colab_link": true
    },
    "kernelspec": {
      "name": "python3",
      "display_name": "Python 3"
    },
    "language_info": {
      "name": "python"
    }
  },
  "cells": [
    {
      "cell_type": "markdown",
      "metadata": {
        "id": "view-in-github",
        "colab_type": "text"
      },
      "source": [
        "<a href=\"https://colab.research.google.com/github/VenkteshV/Project6_7/blob/main/FINAL_IR_q1_and_q2.ipynb\" target=\"_parent\"><img src=\"https://colab.research.google.com/assets/colab-badge.svg\" alt=\"Open In Colab\"/></a>"
      ]
    },
    {
      "cell_type": "code",
      "execution_count": 144,
      "metadata": {
        "id": "y43eZ4jiRe3s",
        "colab": {
          "base_uri": "https://localhost:8080/"
        },
        "outputId": "fa84d916-2bab-4dd3-b870-22ec9f04ca1e"
      },
      "outputs": [
        {
          "output_type": "stream",
          "name": "stdout",
          "text": [
            "Drive already mounted at /content/drive; to attempt to forcibly remount, call drive.mount(\"/content/drive\", force_remount=True).\n"
          ]
        }
      ],
      "source": [
        "from google.colab import drive\n",
        "drive.mount('/content/drive')"
      ]
    },
    {
      "cell_type": "code",
      "source": [
        "dataset_path = '/content/drive/MyDrive/IR_AssnDatasets_Sem6/Assn1/CSE508_Winter2023_Dataset'"
      ],
      "metadata": {
        "id": "pJzwVNhORitx"
      },
      "execution_count": 145,
      "outputs": []
    },
    {
      "cell_type": "code",
      "source": [
        "import os\n",
        "listofFiles = os.listdir(dataset_path)\n",
        "\n",
        "filename_dict ={}\n",
        "for i in range(len(listofFiles)):\n",
        "  filename_dict[i] = listofFiles[i]\n",
        "\n",
        "filename_dict"
      ],
      "metadata": {
        "id": "5GaEEWodTJFs",
        "colab": {
          "base_uri": "https://localhost:8080/"
        },
        "outputId": "693fe5e9-6793-4b9e-b260-c9f6588600e1"
      },
      "execution_count": 309,
      "outputs": [
        {
          "output_type": "execute_result",
          "data": {
            "text/plain": [
              "{0: 'cranfield0888',\n",
              " 1: 'cranfield0881',\n",
              " 2: 'cranfield0874',\n",
              " 3: 'cranfield0877',\n",
              " 4: 'cranfield0873',\n",
              " 5: 'cranfield0878',\n",
              " 6: 'cranfield0880',\n",
              " 7: 'cranfield0879',\n",
              " 8: 'cranfield0872',\n",
              " 9: 'cranfield0876',\n",
              " 10: 'cranfield0875',\n",
              " 11: 'cranfield0871',\n",
              " 12: 'cranfield0870',\n",
              " 13: 'cranfield0867',\n",
              " 14: 'cranfield0863',\n",
              " 15: 'cranfield0861',\n",
              " 16: 'cranfield0868',\n",
              " 17: 'cranfield0865',\n",
              " 18: 'cranfield0866',\n",
              " 19: 'cranfield0869',\n",
              " 20: 'cranfield0864',\n",
              " 21: 'cranfield0862',\n",
              " 22: 'cranfield0852',\n",
              " 23: 'cranfield0858',\n",
              " 24: 'cranfield0860',\n",
              " 25: 'cranfield0856',\n",
              " 26: 'cranfield0859',\n",
              " 27: 'cranfield0855',\n",
              " 28: 'cranfield0857',\n",
              " 29: 'cranfield0853',\n",
              " 30: 'cranfield0321',\n",
              " 31: 'cranfield0492',\n",
              " 32: 'cranfield0013',\n",
              " 33: 'cranfield0014',\n",
              " 34: 'cranfield0016',\n",
              " 35: 'cranfield0012',\n",
              " 36: 'cranfield0019',\n",
              " 37: 'cranfield0018',\n",
              " 38: 'cranfield0017',\n",
              " 39: 'cranfield0020',\n",
              " 40: 'cranfield0421',\n",
              " 41: 'cranfield0608',\n",
              " 42: 'cranfield0605',\n",
              " 43: 'cranfield0603',\n",
              " 44: 'cranfield0601',\n",
              " 45: 'cranfield0604',\n",
              " 46: 'cranfield0607',\n",
              " 47: 'cranfield0610',\n",
              " 48: 'cranfield0606',\n",
              " 49: 'cranfield0609',\n",
              " 50: 'cranfield0123',\n",
              " 51: 'cranfield0122',\n",
              " 52: 'cranfield0130',\n",
              " 53: 'cranfield0128',\n",
              " 54: 'cranfield0126',\n",
              " 55: 'cranfield0124',\n",
              " 56: 'cranfield0127',\n",
              " 57: 'cranfield0125',\n",
              " 58: 'cranfield0129',\n",
              " 59: 'cranfield0841',\n",
              " 60: 'cranfield0504',\n",
              " 61: 'cranfield0811',\n",
              " 62: 'cranfield0854',\n",
              " 63: 'cranfield0081',\n",
              " 64: 'cranfield0165',\n",
              " 65: 'cranfield0170',\n",
              " 66: 'cranfield0168',\n",
              " 67: 'cranfield0166',\n",
              " 68: 'cranfield0163',\n",
              " 69: 'cranfield0164',\n",
              " 70: 'cranfield0169',\n",
              " 71: 'cranfield0162',\n",
              " 72: 'cranfield0851',\n",
              " 73: 'cranfield0839',\n",
              " 74: 'cranfield0838',\n",
              " 75: 'cranfield0835',\n",
              " 76: 'cranfield0840',\n",
              " 77: 'cranfield0836',\n",
              " 78: 'cranfield0837',\n",
              " 79: 'cranfield0832',\n",
              " 80: 'cranfield0834',\n",
              " 81: 'cranfield0833',\n",
              " 82: 'cranfield0831',\n",
              " 83: 'cranfield0822',\n",
              " 84: 'cranfield0830',\n",
              " 85: 'cranfield0826',\n",
              " 86: 'cranfield0823',\n",
              " 87: 'cranfield0824',\n",
              " 88: 'cranfield0827',\n",
              " 89: 'cranfield0829',\n",
              " 90: 'cranfield0828',\n",
              " 91: 'cranfield0825',\n",
              " 92: 'cranfield0821',\n",
              " 93: 'cranfield0809',\n",
              " 94: 'cranfield0805',\n",
              " 95: 'cranfield0810',\n",
              " 96: 'cranfield0808',\n",
              " 97: 'cranfield0806',\n",
              " 98: 'cranfield0804',\n",
              " 99: 'cranfield0801',\n",
              " 100: 'cranfield0803',\n",
              " 101: 'cranfield0807',\n",
              " 102: 'cranfield0802',\n",
              " 103: 'cranfield0794',\n",
              " 104: 'cranfield0792',\n",
              " 105: 'cranfield0799',\n",
              " 106: 'cranfield0795',\n",
              " 107: 'cranfield0798',\n",
              " 108: 'cranfield0796',\n",
              " 109: 'cranfield0793',\n",
              " 110: 'cranfield0800',\n",
              " 111: 'cranfield0797',\n",
              " 112: 'cranfield0791',\n",
              " 113: 'cranfield0776',\n",
              " 114: 'cranfield0778',\n",
              " 115: 'cranfield0774',\n",
              " 116: 'cranfield0780',\n",
              " 117: 'cranfield0779',\n",
              " 118: 'cranfield0773',\n",
              " 119: 'cranfield0772',\n",
              " 120: 'cranfield0777',\n",
              " 121: 'cranfield0775',\n",
              " 122: 'cranfield0771',\n",
              " 123: 'cranfield0769',\n",
              " 124: 'cranfield0765',\n",
              " 125: 'cranfield0764',\n",
              " 126: 'cranfield0770',\n",
              " 127: 'cranfield0762',\n",
              " 128: 'cranfield0763',\n",
              " 129: 'cranfield0766',\n",
              " 130: 'cranfield0767',\n",
              " 131: 'cranfield0768',\n",
              " 132: 'cranfield0761',\n",
              " 133: 'cranfield0752',\n",
              " 134: 'cranfield0760',\n",
              " 135: 'cranfield0758',\n",
              " 136: 'cranfield0754',\n",
              " 137: 'cranfield0753',\n",
              " 138: 'cranfield0755',\n",
              " 139: 'cranfield0756',\n",
              " 140: 'cranfield0759',\n",
              " 141: 'cranfield0757',\n",
              " 142: 'cranfield0751',\n",
              " 143: 'cranfield0748',\n",
              " 144: 'cranfield0750',\n",
              " 145: 'cranfield0743',\n",
              " 146: 'cranfield0746',\n",
              " 147: 'cranfield0742',\n",
              " 148: 'cranfield0744',\n",
              " 149: 'cranfield0747',\n",
              " 150: 'cranfield0745',\n",
              " 151: 'cranfield0749',\n",
              " 152: 'cranfield0741',\n",
              " 153: 'cranfield0734',\n",
              " 154: 'cranfield0733',\n",
              " 155: 'cranfield0737',\n",
              " 156: 'cranfield0739',\n",
              " 157: 'cranfield0740',\n",
              " 158: 'cranfield0735',\n",
              " 159: 'cranfield0732',\n",
              " 160: 'cranfield0736',\n",
              " 161: 'cranfield0738',\n",
              " 162: 'cranfield0731',\n",
              " 163: 'cranfield0729',\n",
              " 164: 'cranfield0728',\n",
              " 165: 'cranfield0724',\n",
              " 166: 'cranfield0723',\n",
              " 167: 'cranfield0722',\n",
              " 168: 'cranfield0730',\n",
              " 169: 'cranfield0725',\n",
              " 170: 'cranfield0727',\n",
              " 171: 'cranfield0726',\n",
              " 172: 'cranfield0721',\n",
              " 173: 'cranfield0711',\n",
              " 174: 'cranfield0720',\n",
              " 175: 'cranfield0716',\n",
              " 176: 'cranfield0715',\n",
              " 177: 'cranfield0717',\n",
              " 178: 'cranfield0714',\n",
              " 179: 'cranfield0719',\n",
              " 180: 'cranfield0713',\n",
              " 181: 'cranfield0718',\n",
              " 182: 'cranfield0712',\n",
              " 183: 'cranfield0706',\n",
              " 184: 'cranfield0710',\n",
              " 185: 'cranfield0705',\n",
              " 186: 'cranfield0707',\n",
              " 187: 'cranfield0702',\n",
              " 188: 'cranfield0708',\n",
              " 189: 'cranfield0703',\n",
              " 190: 'cranfield0704',\n",
              " 191: 'cranfield0709',\n",
              " 192: 'cranfield0701',\n",
              " 193: 'cranfield0694',\n",
              " 194: 'cranfield0697',\n",
              " 195: 'cranfield0700',\n",
              " 196: 'cranfield0696',\n",
              " 197: 'cranfield0695',\n",
              " 198: 'cranfield0699',\n",
              " 199: 'cranfield0693',\n",
              " 200: 'cranfield0698',\n",
              " 201: 'cranfield0692',\n",
              " 202: 'cranfield0691',\n",
              " 203: 'cranfield0690',\n",
              " 204: 'cranfield0687',\n",
              " 205: 'cranfield0688',\n",
              " 206: 'cranfield0689',\n",
              " 207: 'cranfield0684',\n",
              " 208: 'cranfield0685',\n",
              " 209: 'cranfield0686',\n",
              " 210: 'cranfield0682',\n",
              " 211: 'cranfield0683',\n",
              " 212: 'cranfield0681',\n",
              " 213: 'cranfield0669',\n",
              " 214: 'cranfield0662',\n",
              " 215: 'cranfield0668',\n",
              " 216: 'cranfield0667',\n",
              " 217: 'cranfield0664',\n",
              " 218: 'cranfield0666',\n",
              " 219: 'cranfield0665',\n",
              " 220: 'cranfield0670',\n",
              " 221: 'cranfield0663',\n",
              " 222: 'cranfield0661',\n",
              " 223: 'cranfield0652',\n",
              " 224: 'cranfield0657',\n",
              " 225: 'cranfield0658',\n",
              " 226: 'cranfield0653',\n",
              " 227: 'cranfield0660',\n",
              " 228: 'cranfield0659',\n",
              " 229: 'cranfield0656',\n",
              " 230: 'cranfield0654',\n",
              " 231: 'cranfield0655',\n",
              " 232: 'cranfield0651',\n",
              " 233: 'cranfield0642',\n",
              " 234: 'cranfield0644',\n",
              " 235: 'cranfield0646',\n",
              " 236: 'cranfield0649',\n",
              " 237: 'cranfield0647',\n",
              " 238: 'cranfield0645',\n",
              " 239: 'cranfield0643',\n",
              " 240: 'cranfield0648',\n",
              " 241: 'cranfield0650',\n",
              " 242: 'cranfield0641',\n",
              " 243: 'cranfield0632',\n",
              " 244: 'cranfield0637',\n",
              " 245: 'cranfield0633',\n",
              " 246: 'cranfield0639',\n",
              " 247: 'cranfield0634',\n",
              " 248: 'cranfield0640',\n",
              " 249: 'cranfield0636',\n",
              " 250: 'cranfield0635',\n",
              " 251: 'cranfield0638',\n",
              " 252: 'cranfield0631',\n",
              " 253: 'cranfield0623',\n",
              " 254: 'cranfield0628',\n",
              " 255: 'cranfield0626',\n",
              " 256: 'cranfield0627',\n",
              " 257: 'cranfield0624',\n",
              " 258: 'cranfield0622',\n",
              " 259: 'cranfield0630',\n",
              " 260: 'cranfield0625',\n",
              " 261: 'cranfield0629',\n",
              " 262: 'cranfield0621',\n",
              " 263: 'cranfield0613',\n",
              " 264: 'cranfield0615',\n",
              " 265: 'cranfield0620',\n",
              " 266: 'cranfield0616',\n",
              " 267: 'cranfield0612',\n",
              " 268: 'cranfield0614',\n",
              " 269: 'cranfield0617',\n",
              " 270: 'cranfield0619',\n",
              " 271: 'cranfield0618',\n",
              " 272: 'cranfield0611',\n",
              " 273: 'cranfield0580',\n",
              " 274: 'cranfield0572',\n",
              " 275: 'cranfield0577',\n",
              " 276: 'cranfield0574',\n",
              " 277: 'cranfield0575',\n",
              " 278: 'cranfield0573',\n",
              " 279: 'cranfield0576',\n",
              " 280: 'cranfield0578',\n",
              " 281: 'cranfield0579',\n",
              " 282: 'cranfield0571',\n",
              " 283: 'cranfield0569',\n",
              " 284: 'cranfield0562',\n",
              " 285: 'cranfield0566',\n",
              " 286: 'cranfield0570',\n",
              " 287: 'cranfield0565',\n",
              " 288: 'cranfield0563',\n",
              " 289: 'cranfield0564',\n",
              " 290: 'cranfield0567',\n",
              " 291: 'cranfield0568',\n",
              " 292: 'cranfield0561',\n",
              " 293: 'cranfield0557',\n",
              " 294: 'cranfield0559',\n",
              " 295: 'cranfield0552',\n",
              " 296: 'cranfield0555',\n",
              " 297: 'cranfield0556',\n",
              " 298: 'cranfield0553',\n",
              " 299: 'cranfield0558',\n",
              " 300: 'cranfield0554',\n",
              " 301: 'cranfield0560',\n",
              " 302: 'cranfield0551',\n",
              " 303: 'cranfield0542',\n",
              " 304: 'cranfield0545',\n",
              " 305: 'cranfield0548',\n",
              " 306: 'cranfield0544',\n",
              " 307: 'cranfield0546',\n",
              " 308: 'cranfield0549',\n",
              " 309: 'cranfield0550',\n",
              " 310: 'cranfield0543',\n",
              " 311: 'cranfield0547',\n",
              " 312: 'cranfield0541',\n",
              " 313: 'cranfield0527',\n",
              " 314: 'cranfield0528',\n",
              " 315: 'cranfield0525',\n",
              " 316: 'cranfield0522',\n",
              " 317: 'cranfield0524',\n",
              " 318: 'cranfield0523',\n",
              " 319: 'cranfield0529',\n",
              " 320: 'cranfield0530',\n",
              " 321: 'cranfield0526',\n",
              " 322: 'cranfield0521',\n",
              " 323: 'cranfield0519',\n",
              " 324: 'cranfield0517',\n",
              " 325: 'cranfield0520',\n",
              " 326: 'cranfield0516',\n",
              " 327: 'cranfield0513',\n",
              " 328: 'cranfield0515',\n",
              " 329: 'cranfield0514',\n",
              " 330: 'cranfield0512',\n",
              " 331: 'cranfield0518',\n",
              " 332: 'cranfield0511',\n",
              " 333: 'cranfield0487',\n",
              " 334: 'cranfield0484',\n",
              " 335: 'cranfield0486',\n",
              " 336: 'cranfield0483',\n",
              " 337: 'cranfield0489',\n",
              " 338: 'cranfield0488',\n",
              " 339: 'cranfield0485',\n",
              " 340: 'cranfield0482',\n",
              " 341: 'cranfield0490',\n",
              " 342: 'cranfield0481',\n",
              " 343: 'cranfield0478',\n",
              " 344: 'cranfield0477',\n",
              " 345: 'cranfield0476',\n",
              " 346: 'cranfield0479',\n",
              " 347: 'cranfield0473',\n",
              " 348: 'cranfield0474',\n",
              " 349: 'cranfield0475',\n",
              " 350: 'cranfield0472',\n",
              " 351: 'cranfield0480',\n",
              " 352: 'cranfield0471',\n",
              " 353: 'cranfield0462',\n",
              " 354: 'cranfield0466',\n",
              " 355: 'cranfield0469',\n",
              " 356: 'cranfield0465',\n",
              " 357: 'cranfield0468',\n",
              " 358: 'cranfield0463',\n",
              " 359: 'cranfield0464',\n",
              " 360: 'cranfield0470',\n",
              " 361: 'cranfield0467',\n",
              " 362: 'cranfield0461',\n",
              " 363: 'cranfield0453',\n",
              " 364: 'cranfield0456',\n",
              " 365: 'cranfield0458',\n",
              " 366: 'cranfield0457',\n",
              " 367: 'cranfield0454',\n",
              " 368: 'cranfield0455',\n",
              " 369: 'cranfield0459',\n",
              " 370: 'cranfield0460',\n",
              " 371: 'cranfield0452',\n",
              " 372: 'cranfield0451',\n",
              " 373: 'cranfield0450',\n",
              " 374: 'cranfield0447',\n",
              " 375: 'cranfield0443',\n",
              " 376: 'cranfield0446',\n",
              " 377: 'cranfield0448',\n",
              " 378: 'cranfield0444',\n",
              " 379: 'cranfield0445',\n",
              " 380: 'cranfield0441',\n",
              " 381: 'cranfield0449',\n",
              " 382: 'cranfield0442',\n",
              " 383: 'cranfield0434',\n",
              " 384: 'cranfield0432',\n",
              " 385: 'cranfield0436',\n",
              " 386: 'cranfield0438',\n",
              " 387: 'cranfield0440',\n",
              " 388: 'cranfield0435',\n",
              " 389: 'cranfield0439',\n",
              " 390: 'cranfield0433',\n",
              " 391: 'cranfield0437',\n",
              " 392: 'cranfield0431',\n",
              " 393: 'cranfield0419',\n",
              " 394: 'cranfield0414',\n",
              " 395: 'cranfield0417',\n",
              " 396: 'cranfield0416',\n",
              " 397: 'cranfield0415',\n",
              " 398: 'cranfield0418',\n",
              " 399: 'cranfield0420',\n",
              " 400: 'cranfield0412',\n",
              " 401: 'cranfield0413',\n",
              " 402: 'cranfield0411',\n",
              " 403: 'cranfield0406',\n",
              " 404: 'cranfield0404',\n",
              " 405: 'cranfield0408',\n",
              " 406: 'cranfield0405',\n",
              " 407: 'cranfield0410',\n",
              " 408: 'cranfield0402',\n",
              " 409: 'cranfield0403',\n",
              " 410: 'cranfield0407',\n",
              " 411: 'cranfield0409',\n",
              " 412: 'cranfield0401',\n",
              " 413: 'cranfield0394',\n",
              " 414: 'cranfield0392',\n",
              " 415: 'cranfield0397',\n",
              " 416: 'cranfield0395',\n",
              " 417: 'cranfield0396',\n",
              " 418: 'cranfield0400',\n",
              " 419: 'cranfield0398',\n",
              " 420: 'cranfield0393',\n",
              " 421: 'cranfield0399',\n",
              " 422: 'cranfield0391',\n",
              " 423: 'cranfield0379',\n",
              " 424: 'cranfield0373',\n",
              " 425: 'cranfield0378',\n",
              " 426: 'cranfield0374',\n",
              " 427: 'cranfield0376',\n",
              " 428: 'cranfield0375',\n",
              " 429: 'cranfield0380',\n",
              " 430: 'cranfield0371',\n",
              " 431: 'cranfield0377',\n",
              " 432: 'cranfield0372',\n",
              " 433: 'cranfield0370',\n",
              " 434: 'cranfield0368',\n",
              " 435: 'cranfield0364',\n",
              " 436: 'cranfield0365',\n",
              " 437: 'cranfield0361',\n",
              " 438: 'cranfield0363',\n",
              " 439: 'cranfield0369',\n",
              " 440: 'cranfield0366',\n",
              " 441: 'cranfield0367',\n",
              " 442: 'cranfield0362',\n",
              " 443: 'cranfield0352',\n",
              " 444: 'cranfield0354',\n",
              " 445: 'cranfield0360',\n",
              " 446: 'cranfield0356',\n",
              " 447: 'cranfield0357',\n",
              " 448: 'cranfield0355',\n",
              " 449: 'cranfield0359',\n",
              " 450: 'cranfield0358',\n",
              " 451: 'cranfield0353',\n",
              " 452: 'cranfield0351',\n",
              " 453: 'cranfield0350',\n",
              " 454: 'cranfield0346',\n",
              " 455: 'cranfield0344',\n",
              " 456: 'cranfield0347',\n",
              " 457: 'cranfield0345',\n",
              " 458: 'cranfield0343',\n",
              " 459: 'cranfield0349',\n",
              " 460: 'cranfield0342',\n",
              " 461: 'cranfield0348',\n",
              " 462: 'cranfield0341',\n",
              " 463: 'cranfield0340',\n",
              " 464: 'cranfield0334',\n",
              " 465: 'cranfield0339',\n",
              " 466: 'cranfield0332',\n",
              " 467: 'cranfield0336',\n",
              " 468: 'cranfield0335',\n",
              " 469: 'cranfield0337',\n",
              " 470: 'cranfield0338',\n",
              " 471: 'cranfield0333',\n",
              " 472: 'cranfield0331',\n",
              " 473: 'cranfield0317',\n",
              " 474: 'cranfield0314',\n",
              " 475: 'cranfield0315',\n",
              " 476: 'cranfield0318',\n",
              " 477: 'cranfield0320',\n",
              " 478: 'cranfield0319',\n",
              " 479: 'cranfield0313',\n",
              " 480: 'cranfield0316',\n",
              " 481: 'cranfield0312',\n",
              " 482: 'cranfield0311',\n",
              " 483: 'cranfield0307',\n",
              " 484: 'cranfield0308',\n",
              " 485: 'cranfield0303',\n",
              " 486: 'cranfield0305',\n",
              " 487: 'cranfield0310',\n",
              " 488: 'cranfield0301',\n",
              " 489: 'cranfield0309',\n",
              " 490: 'cranfield0306',\n",
              " 491: 'cranfield0304',\n",
              " 492: 'cranfield0302',\n",
              " 493: 'cranfield0298',\n",
              " 494: 'cranfield0295',\n",
              " 495: 'cranfield0296',\n",
              " 496: 'cranfield0293',\n",
              " 497: 'cranfield0297',\n",
              " 498: 'cranfield0299',\n",
              " 499: 'cranfield0294',\n",
              " 500: 'cranfield0300',\n",
              " 501: 'cranfield0292',\n",
              " 502: 'cranfield0291',\n",
              " 503: 'cranfield0282',\n",
              " 504: 'cranfield0286',\n",
              " 505: 'cranfield0288',\n",
              " 506: 'cranfield0285',\n",
              " 507: 'cranfield0290',\n",
              " 508: 'cranfield0284',\n",
              " 509: 'cranfield0289',\n",
              " 510: 'cranfield0283',\n",
              " 511: 'cranfield0287',\n",
              " 512: 'cranfield0281',\n",
              " 513: 'cranfield0276',\n",
              " 514: 'cranfield0272',\n",
              " 515: 'cranfield0280',\n",
              " 516: 'cranfield0273',\n",
              " 517: 'cranfield0279',\n",
              " 518: 'cranfield0278',\n",
              " 519: 'cranfield0274',\n",
              " 520: 'cranfield0275',\n",
              " 521: 'cranfield0277',\n",
              " 522: 'cranfield0271',\n",
              " 523: 'cranfield0266',\n",
              " 524: 'cranfield0269',\n",
              " 525: 'cranfield0270',\n",
              " 526: 'cranfield0267',\n",
              " 527: 'cranfield0263',\n",
              " 528: 'cranfield0265',\n",
              " 529: 'cranfield0264',\n",
              " 530: 'cranfield0262',\n",
              " 531: 'cranfield0268',\n",
              " 532: 'cranfield0261',\n",
              " 533: 'cranfield0258',\n",
              " 534: 'cranfield0251',\n",
              " 535: 'cranfield0259',\n",
              " 536: 'cranfield0255',\n",
              " 537: 'cranfield0254',\n",
              " 538: 'cranfield0253',\n",
              " 539: 'cranfield0260',\n",
              " 540: 'cranfield0256',\n",
              " 541: 'cranfield0257',\n",
              " 542: 'cranfield0252',\n",
              " 543: 'cranfield0249',\n",
              " 544: 'cranfield0242',\n",
              " 545: 'cranfield0243',\n",
              " 546: 'cranfield0241',\n",
              " 547: 'cranfield0246',\n",
              " 548: 'cranfield0248',\n",
              " 549: 'cranfield0250',\n",
              " 550: 'cranfield0245',\n",
              " 551: 'cranfield0247',\n",
              " 552: 'cranfield0244',\n",
              " 553: 'cranfield0239',\n",
              " 554: 'cranfield0238',\n",
              " 555: 'cranfield0233',\n",
              " 556: 'cranfield0234',\n",
              " 557: 'cranfield0237',\n",
              " 558: 'cranfield0232',\n",
              " 559: 'cranfield0236',\n",
              " 560: 'cranfield0240',\n",
              " 561: 'cranfield0235',\n",
              " 562: 'cranfield0231',\n",
              " 563: 'cranfield0230',\n",
              " 564: 'cranfield0224',\n",
              " 565: 'cranfield0225',\n",
              " 566: 'cranfield0228',\n",
              " 567: 'cranfield0222',\n",
              " 568: 'cranfield0226',\n",
              " 569: 'cranfield0229',\n",
              " 570: 'cranfield0227',\n",
              " 571: 'cranfield0223',\n",
              " 572: 'cranfield0221',\n",
              " 573: 'cranfield0218',\n",
              " 574: 'cranfield0217',\n",
              " 575: 'cranfield0220',\n",
              " 576: 'cranfield0213',\n",
              " 577: 'cranfield0219',\n",
              " 578: 'cranfield0216',\n",
              " 579: 'cranfield0215',\n",
              " 580: 'cranfield0212',\n",
              " 581: 'cranfield0214',\n",
              " 582: 'cranfield0211',\n",
              " 583: 'cranfield0206',\n",
              " 584: 'cranfield0205',\n",
              " 585: 'cranfield0209',\n",
              " 586: 'cranfield0207',\n",
              " 587: 'cranfield0204',\n",
              " 588: 'cranfield0210',\n",
              " 589: 'cranfield0208',\n",
              " 590: 'cranfield0203',\n",
              " 591: 'cranfield0202',\n",
              " 592: 'cranfield0201',\n",
              " 593: 'cranfield0198',\n",
              " 594: 'cranfield0197',\n",
              " 595: 'cranfield0194',\n",
              " 596: 'cranfield0193',\n",
              " 597: 'cranfield0200',\n",
              " 598: 'cranfield0195',\n",
              " 599: 'cranfield0196',\n",
              " 600: 'cranfield0199',\n",
              " 601: 'cranfield0191',\n",
              " 602: 'cranfield0192',\n",
              " 603: 'cranfield0182',\n",
              " 604: 'cranfield0184',\n",
              " 605: 'cranfield0186',\n",
              " 606: 'cranfield0190',\n",
              " 607: 'cranfield0187',\n",
              " 608: 'cranfield0188',\n",
              " 609: 'cranfield0183',\n",
              " 610: 'cranfield0189',\n",
              " 611: 'cranfield0185',\n",
              " 612: 'cranfield0181',\n",
              " 613: 'cranfield0178',\n",
              " 614: 'cranfield0180',\n",
              " 615: 'cranfield0176',\n",
              " 616: 'cranfield0172',\n",
              " 617: 'cranfield0177',\n",
              " 618: 'cranfield0174',\n",
              " 619: 'cranfield0173',\n",
              " 620: 'cranfield0179',\n",
              " 621: 'cranfield0175',\n",
              " 622: 'cranfield0171',\n",
              " 623: 'cranfield0152',\n",
              " 624: 'cranfield0160',\n",
              " 625: 'cranfield0156',\n",
              " 626: 'cranfield0159',\n",
              " 627: 'cranfield0154',\n",
              " 628: 'cranfield0157',\n",
              " 629: 'cranfield0153',\n",
              " 630: 'cranfield0155',\n",
              " 631: 'cranfield0158',\n",
              " 632: 'cranfield0151',\n",
              " 633: 'cranfield0145',\n",
              " 634: 'cranfield0144',\n",
              " 635: 'cranfield0148',\n",
              " 636: 'cranfield0150',\n",
              " 637: 'cranfield0143',\n",
              " 638: 'cranfield0147',\n",
              " 639: 'cranfield0142',\n",
              " 640: 'cranfield0146',\n",
              " 641: 'cranfield0149',\n",
              " 642: 'cranfield0141',\n",
              " 643: 'cranfield0137',\n",
              " 644: 'cranfield0134',\n",
              " 645: 'cranfield0133',\n",
              " 646: 'cranfield0135',\n",
              " 647: 'cranfield0139',\n",
              " 648: 'cranfield0131',\n",
              " 649: 'cranfield0140',\n",
              " 650: 'cranfield0138',\n",
              " 651: 'cranfield0136',\n",
              " 652: 'cranfield0132',\n",
              " 653: 'cranfield0115',\n",
              " 654: 'cranfield0113',\n",
              " 655: 'cranfield0114',\n",
              " 656: 'cranfield0120',\n",
              " 657: 'cranfield0119',\n",
              " 658: 'cranfield0112',\n",
              " 659: 'cranfield0117',\n",
              " 660: 'cranfield0118',\n",
              " 661: 'cranfield0116',\n",
              " 662: 'cranfield0111',\n",
              " 663: 'cranfield0103',\n",
              " 664: 'cranfield0104',\n",
              " 665: 'cranfield0109',\n",
              " 666: 'cranfield0110',\n",
              " 667: 'cranfield0107',\n",
              " 668: 'cranfield0105',\n",
              " 669: 'cranfield0108',\n",
              " 670: 'cranfield0102',\n",
              " 671: 'cranfield0106',\n",
              " 672: 'cranfield0101',\n",
              " 673: 'cranfield0098',\n",
              " 674: 'cranfield0093',\n",
              " 675: 'cranfield0099',\n",
              " 676: 'cranfield0095',\n",
              " 677: 'cranfield0092',\n",
              " 678: 'cranfield0097',\n",
              " 679: 'cranfield0100',\n",
              " 680: 'cranfield0096',\n",
              " 681: 'cranfield0094',\n",
              " 682: 'cranfield0091',\n",
              " 683: 'cranfield0076',\n",
              " 684: 'cranfield0077',\n",
              " 685: 'cranfield0080',\n",
              " 686: 'cranfield0075',\n",
              " 687: 'cranfield0079',\n",
              " 688: 'cranfield0073',\n",
              " 689: 'cranfield0072',\n",
              " 690: 'cranfield0078',\n",
              " 691: 'cranfield0074',\n",
              " 692: 'cranfield0071',\n",
              " 693: 'cranfield0069',\n",
              " 694: 'cranfield0067',\n",
              " 695: 'cranfield0063',\n",
              " 696: 'cranfield0065',\n",
              " 697: 'cranfield0070',\n",
              " 698: 'cranfield0066',\n",
              " 699: 'cranfield0068',\n",
              " 700: 'cranfield0064',\n",
              " 701: 'cranfield0062',\n",
              " 702: 'cranfield0061',\n",
              " 703: 'cranfield0053',\n",
              " 704: 'cranfield0052',\n",
              " 705: 'cranfield0057',\n",
              " 706: 'cranfield0058',\n",
              " 707: 'cranfield0056',\n",
              " 708: 'cranfield0059',\n",
              " 709: 'cranfield0055',\n",
              " 710: 'cranfield0054',\n",
              " 711: 'cranfield0060',\n",
              " 712: 'cranfield0051',\n",
              " 713: 'cranfield0043',\n",
              " 714: 'cranfield0047',\n",
              " 715: 'cranfield0046',\n",
              " 716: 'cranfield0050',\n",
              " 717: 'cranfield0048',\n",
              " 718: 'cranfield0044',\n",
              " 719: 'cranfield0049',\n",
              " 720: 'cranfield0045',\n",
              " 721: 'cranfield0041',\n",
              " 722: 'cranfield0042',\n",
              " 723: 'cranfield0038',\n",
              " 724: 'cranfield0032',\n",
              " 725: 'cranfield0034',\n",
              " 726: 'cranfield0037',\n",
              " 727: 'cranfield0035',\n",
              " 728: 'cranfield0039',\n",
              " 729: 'cranfield0040',\n",
              " 730: 'cranfield0033',\n",
              " 731: 'cranfield0036',\n",
              " 732: 'cranfield0031',\n",
              " 733: 'cranfield0026',\n",
              " 734: 'cranfield0022',\n",
              " 735: 'cranfield0030',\n",
              " 736: 'cranfield0029',\n",
              " 737: 'cranfield0027',\n",
              " 738: 'cranfield0025',\n",
              " 739: 'cranfield0028',\n",
              " 740: 'cranfield0023',\n",
              " 741: 'cranfield0024',\n",
              " 742: 'cranfield0021',\n",
              " 743: 'cranfield0005',\n",
              " 744: 'cranfield0009',\n",
              " 745: 'cranfield0004',\n",
              " 746: 'cranfield0008',\n",
              " 747: 'cranfield0006',\n",
              " 748: 'cranfield0010',\n",
              " 749: 'cranfield0003',\n",
              " 750: 'cranfield0002',\n",
              " 751: 'cranfield0007',\n",
              " 752: 'cranfield0001',\n",
              " 753: 'cranfield1301',\n",
              " 754: 'cranfield1160',\n",
              " 755: 'cranfield0161',\n",
              " 756: 'cranfield1287',\n",
              " 757: 'cranfield1353',\n",
              " 758: 'cranfield1042',\n",
              " 759: 'cranfield1008',\n",
              " 760: 'cranfield0989',\n",
              " 761: 'cranfield1110',\n",
              " 762: 'cranfield1385',\n",
              " 763: 'cranfield1367',\n",
              " 764: 'cranfield0845',\n",
              " 765: 'cranfield1370',\n",
              " 766: 'cranfield0907',\n",
              " 767: 'cranfield1002',\n",
              " 768: 'cranfield1330',\n",
              " 769: 'cranfield1394',\n",
              " 770: 'cranfield0015',\n",
              " 771: 'cranfield1216',\n",
              " 772: 'cranfield1068',\n",
              " 773: 'cranfield1241',\n",
              " 774: 'cranfield1021',\n",
              " 775: 'cranfield1343',\n",
              " 776: 'cranfield0903',\n",
              " 777: 'cranfield1127',\n",
              " 778: 'cranfield0882',\n",
              " 779: 'cranfield0928',\n",
              " 780: 'cranfield1070',\n",
              " 781: 'cranfield0389',\n",
              " 782: 'cranfield1140',\n",
              " 783: 'cranfield1090',\n",
              " 784: 'cranfield1337',\n",
              " 785: 'cranfield1146',\n",
              " 786: 'cranfield0902',\n",
              " 787: 'cranfield1091',\n",
              " 788: 'cranfield0958',\n",
              " 789: 'cranfield0996',\n",
              " 790: 'cranfield0893',\n",
              " 791: 'cranfield0430',\n",
              " 792: 'cranfield0089',\n",
              " 793: 'cranfield0847',\n",
              " 794: 'cranfield1263',\n",
              " 795: 'cranfield1051',\n",
              " 796: 'cranfield1245',\n",
              " 797: 'cranfield1360',\n",
              " 798: 'cranfield0938',\n",
              " 799: 'cranfield1325',\n",
              " 800: 'cranfield0886',\n",
              " 801: 'cranfield0587',\n",
              " 802: 'cranfield1348',\n",
              " 803: 'cranfield1321',\n",
              " 804: 'cranfield0896',\n",
              " 805: 'cranfield1147',\n",
              " 806: 'cranfield1102',\n",
              " 807: 'cranfield1376',\n",
              " 808: 'cranfield1289',\n",
              " 809: 'cranfield0961',\n",
              " 810: 'cranfield1282',\n",
              " 811: 'cranfield1075',\n",
              " 812: 'cranfield1161',\n",
              " 813: 'cranfield0671',\n",
              " 814: 'cranfield1214',\n",
              " 815: 'cranfield1076',\n",
              " 816: 'cranfield1026',\n",
              " 817: 'cranfield1379',\n",
              " 818: 'cranfield1314',\n",
              " 819: 'cranfield1347',\n",
              " 820: 'cranfield1164',\n",
              " 821: 'cranfield1167',\n",
              " 822: 'cranfield0962',\n",
              " 823: 'cranfield1222',\n",
              " 824: 'cranfield1097',\n",
              " 825: 'cranfield0918',\n",
              " 826: 'cranfield1213',\n",
              " 827: 'cranfield1170',\n",
              " 828: 'cranfield0675',\n",
              " 829: 'cranfield1001',\n",
              " 830: 'cranfield1202',\n",
              " 831: 'cranfield1236',\n",
              " 832: 'cranfield1248',\n",
              " 833: 'cranfield1119',\n",
              " 834: 'cranfield0786',\n",
              " 835: 'cranfield0595',\n",
              " 836: 'cranfield1338',\n",
              " 837: 'cranfield0843',\n",
              " 838: 'cranfield1310',\n",
              " 839: 'cranfield0883',\n",
              " 840: 'cranfield0982',\n",
              " 841: 'cranfield1061',\n",
              " 842: 'cranfield0503',\n",
              " 843: 'cranfield1017',\n",
              " 844: 'cranfield0508',\n",
              " 845: 'cranfield0990',\n",
              " 846: 'cranfield0848',\n",
              " 847: 'cranfield1020',\n",
              " 848: 'cranfield0970',\n",
              " 849: 'cranfield0947',\n",
              " 850: 'cranfield1187',\n",
              " 851: 'cranfield1268',\n",
              " 852: 'cranfield1261',\n",
              " 853: 'cranfield1162',\n",
              " 854: 'cranfield1153',\n",
              " 855: 'cranfield0581',\n",
              " 856: 'cranfield1083',\n",
              " 857: 'cranfield1046',\n",
              " 858: 'cranfield1034',\n",
              " 859: 'cranfield0814',\n",
              " 860: 'cranfield0997',\n",
              " 861: 'cranfield1141',\n",
              " 862: 'cranfield0584',\n",
              " 863: 'cranfield1125',\n",
              " 864: 'cranfield1039',\n",
              " 865: 'cranfield1256',\n",
              " 866: 'cranfield1371',\n",
              " 867: 'cranfield1262',\n",
              " 868: 'cranfield0090',\n",
              " 869: 'cranfield1387',\n",
              " 870: 'cranfield1129',\n",
              " 871: 'cranfield1130',\n",
              " 872: 'cranfield1196',\n",
              " 873: 'cranfield1100',\n",
              " 874: 'cranfield1258',\n",
              " 875: 'cranfield1397',\n",
              " 876: 'cranfield1031',\n",
              " 877: 'cranfield0905',\n",
              " 878: 'cranfield0495',\n",
              " 879: 'cranfield0922',\n",
              " 880: 'cranfield1018',\n",
              " 881: 'cranfield1152',\n",
              " 882: 'cranfield1298',\n",
              " 883: 'cranfield1058',\n",
              " 884: 'cranfield0842',\n",
              " 885: 'cranfield1322',\n",
              " 886: 'cranfield1305',\n",
              " 887: 'cranfield1117',\n",
              " 888: 'cranfield0917',\n",
              " 889: 'cranfield1204',\n",
              " 890: 'cranfield0491',\n",
              " 891: 'cranfield0583',\n",
              " 892: 'cranfield1205',\n",
              " 893: 'cranfield0085',\n",
              " 894: 'cranfield1035',\n",
              " 895: 'cranfield1259',\n",
              " 896: 'cranfield0979',\n",
              " 897: 'cranfield1114',\n",
              " 898: 'cranfield1212',\n",
              " 899: 'cranfield0946',\n",
              " 900: 'cranfield0819',\n",
              " 901: 'cranfield1133',\n",
              " 902: 'cranfield1080',\n",
              " 903: 'cranfield0086',\n",
              " 904: 'cranfield0422',\n",
              " 905: 'cranfield1207',\n",
              " 906: 'cranfield1224',\n",
              " 907: 'cranfield1019',\n",
              " 908: 'cranfield1290',\n",
              " 909: 'cranfield1255',\n",
              " 910: 'cranfield1215',\n",
              " 911: 'cranfield0325',\n",
              " 912: 'cranfield1033',\n",
              " 913: 'cranfield1053',\n",
              " 914: 'cranfield0329',\n",
              " 915: 'cranfield1351',\n",
              " 916: 'cranfield1029',\n",
              " 917: 'cranfield0785',\n",
              " 918: 'cranfield0788',\n",
              " 919: 'cranfield1038',\n",
              " 920: 'cranfield0385',\n",
              " 921: 'cranfield0960',\n",
              " 922: 'cranfield1264',\n",
              " 923: 'cranfield1227',\n",
              " 924: 'cranfield0951',\n",
              " 925: 'cranfield1342',\n",
              " 926: 'cranfield1175',\n",
              " 927: 'cranfield0382',\n",
              " 928: 'cranfield1220',\n",
              " 929: 'cranfield1300',\n",
              " 930: 'cranfield1094',\n",
              " 931: 'cranfield1398',\n",
              " 932: 'cranfield0949',\n",
              " 933: 'cranfield0781',\n",
              " 934: 'cranfield1277',\n",
              " 935: 'cranfield0981',\n",
              " 936: 'cranfield1044',\n",
              " 937: 'cranfield1025',\n",
              " 938: 'cranfield0496',\n",
              " 939: 'cranfield1173',\n",
              " 940: 'cranfield0673',\n",
              " 941: 'cranfield1176',\n",
              " 942: 'cranfield0426',\n",
              " 943: 'cranfield1201',\n",
              " 944: 'cranfield0943',\n",
              " 945: 'cranfield1206',\n",
              " 946: 'cranfield1040',\n",
              " 947: 'cranfield1052',\n",
              " 948: 'cranfield1037',\n",
              " 949: 'cranfield1023',\n",
              " 950: 'cranfield1098',\n",
              " 951: 'cranfield1132',\n",
              " 952: 'cranfield1381',\n",
              " 953: 'cranfield0987',\n",
              " 954: 'cranfield0968',\n",
              " 955: 'cranfield1232',\n",
              " 956: 'cranfield1118',\n",
              " 957: 'cranfield0506',\n",
              " 958: 'cranfield1169',\n",
              " 959: 'cranfield1359',\n",
              " 960: 'cranfield1189',\n",
              " 961: 'cranfield0597',\n",
              " 962: 'cranfield0600',\n",
              " 963: 'cranfield0679',\n",
              " 964: 'cranfield1209',\n",
              " 965: 'cranfield1234',\n",
              " 966: 'cranfield1134',\n",
              " 967: 'cranfield1357',\n",
              " 968: 'cranfield1235',\n",
              " 969: 'cranfield0941',\n",
              " 970: 'cranfield0901',\n",
              " 971: 'cranfield1307',\n",
              " 972: 'cranfield1356',\n",
              " 973: 'cranfield0812',\n",
              " 974: 'cranfield1238',\n",
              " 975: 'cranfield1194',\n",
              " 976: 'cranfield1003',\n",
              " 977: 'cranfield1103',\n",
              " 978: 'cranfield1078',\n",
              " 979: 'cranfield0929',\n",
              " 980: 'cranfield1188',\n",
              " 981: 'cranfield1380',\n",
              " 982: 'cranfield1032',\n",
              " 983: 'cranfield1191',\n",
              " 984: 'cranfield0986',\n",
              " 985: 'cranfield1340',\n",
              " 986: 'cranfield0327',\n",
              " 987: 'cranfield0969',\n",
              " 988: 'cranfield0885',\n",
              " 989: 'cranfield0537',\n",
              " 990: 'cranfield0988',\n",
              " 991: 'cranfield1112',\n",
              " 992: 'cranfield1269',\n",
              " 993: 'cranfield1000',\n",
              " 994: 'cranfield1065',\n",
              " 995: 'cranfield0950',\n",
              " 996: 'cranfield1279',\n",
              " 997: 'cranfield0973',\n",
              " 998: 'cranfield0680',\n",
              " 999: 'cranfield1319',\n",
              " ...}"
            ]
          },
          "metadata": {},
          "execution_count": 309
        }
      ]
    },
    {
      "cell_type": "code",
      "source": [
        "len(listofFiles)"
      ],
      "metadata": {
        "id": "FCofD36PTpYw",
        "colab": {
          "base_uri": "https://localhost:8080/"
        },
        "outputId": "3c479f2b-f418-4766-83df-3f81af45f610"
      },
      "execution_count": 147,
      "outputs": [
        {
          "output_type": "execute_result",
          "data": {
            "text/plain": [
              "1400"
            ]
          },
          "metadata": {},
          "execution_count": 147
        }
      ]
    },
    {
      "cell_type": "code",
      "source": [
        "#for convenient sampling we getting all the files in a list before\n",
        "import os\n",
        "docs= []\n",
        "folder_path = '/content/drive/MyDrive/IR_AssnDatasets_Sem6/Assn1/CSE508_Winter2023_Dataset'\n",
        "for file_name in os.listdir(folder_path):\n",
        "    file_path = os.path.join(folder_path, file_name)\n",
        "    if os.path.isfile(file_path):\n",
        "        with open(file_path, 'rb') as f:\n",
        "            file_content = f.read()\n",
        "            file_content = str(file_content, 'UTF-8')\n",
        "            docs.append(file_content)"
      ],
      "metadata": {
        "id": "jEH-EngBitRH"
      },
      "execution_count": 148,
      "outputs": []
    },
    {
      "cell_type": "code",
      "source": [
        "len(docs)"
      ],
      "metadata": {
        "colab": {
          "base_uri": "https://localhost:8080/"
        },
        "id": "uXUr0TyKm9fO",
        "outputId": "19b93bb8-21e5-4915-8574-99e65928222c"
      },
      "execution_count": 149,
      "outputs": [
        {
          "output_type": "execute_result",
          "data": {
            "text/plain": [
              "1400"
            ]
          },
          "metadata": {},
          "execution_count": 149
        }
      ]
    },
    {
      "cell_type": "code",
      "source": [
        "sample_before= (docs[2], docs[3], docs[878], docs[332], docs[1200])\n",
        "len(sample_before)"
      ],
      "metadata": {
        "colab": {
          "base_uri": "https://localhost:8080/"
        },
        "id": "af5vwJGPerDn",
        "outputId": "ce8a4642-b07b-4d2d-b4e1-01e4574eeba7"
      },
      "execution_count": 150,
      "outputs": [
        {
          "output_type": "execute_result",
          "data": {
            "text/plain": [
              "5"
            ]
          },
          "metadata": {},
          "execution_count": 150
        }
      ]
    },
    {
      "cell_type": "code",
      "source": [
        "sample_before[2]\n"
      ],
      "metadata": {
        "colab": {
          "base_uri": "https://localhost:8080/",
          "height": 91
        },
        "id": "wIBDpuAZehEA",
        "outputId": "6f0f2293-9536-4dbf-fb29-77cc157e5a17"
      },
      "execution_count": 151,
      "outputs": [
        {
          "output_type": "execute_result",
          "data": {
            "text/plain": [
              "'<DOC>\\n<DOCNO>\\n495\\n</DOCNO>\\n<TITLE>\\non similar solutions for strong blast waves and their\\napplication to steady hypersonic flow .\\n</TITLE>\\n<AUTHOR>\\nborcher,e.f.\\n</AUTHOR>\\n<BIBLIO>\\nj. ae. scs. 29, 1962, 694.\\n</BIBLIO>\\n<TEXT>\\n  the general solution of the strong blast wave is found in the\\nnewtonian approximation--i.e., neglecting terms of order\\nthe expressions obtained for the pressure, temperature, density,\\nand velocity profiles are simple .  the results are applied to\\npower-law bodies in hypersonic flow using the equivalence\\nprinciple .\\n  higher-order approximations for strong blast waves are investigated\\nfor the cases in which the shock layer is thin .  a\\nsimple pressure formula is found, which constitutes an improvement\\nupon the newton-busemann formula, and some of its applications\\nare shown .\\n</TEXT>\\n</DOC>\\n'"
            ],
            "application/vnd.google.colaboratory.intrinsic+json": {
              "type": "string"
            }
          },
          "metadata": {},
          "execution_count": 151
        }
      ]
    },
    {
      "cell_type": "code",
      "source": [
        "# sample_before=[]\n",
        "# samplebeforecount= 0\n",
        "newdocsample = []\n",
        "for filename in listofFiles:\n",
        "  \n",
        "  newcontent=\"\"\n",
        "  with open(dataset_path + \"/\" + filename, 'r') as f:\n",
        "  # with open(os.path.join(dataset_path, filename), 'rb') as f:\n",
        "\n",
        "    filedata = f.read()\n",
        "    # filedata = str(filedata, 'UTF-8')\n",
        "    #for title: \n",
        "\n",
        "    # if(samplebeforecount<5):\n",
        "    #   sample_before.append(filedata)        \n",
        "    \n",
        "    index1 = filedata.find('<TITLE>') + len('<TITLE>')\n",
        "    index2 = filedata.find('</TITLE>')\n",
        "    final_title = filedata[index1:index2].strip()\n",
        "    \n",
        "    #for text\n",
        "    index1 = filedata.find('<TEXT>') + len('<TEXT>')\n",
        "    index2 = filedata.find('</TEXT>')\n",
        "    final_text = filedata[index1:index2].strip()\n",
        "    \n",
        "    newcontent = final_title + ' ' + final_text\n",
        "    # print(newcontent)\n",
        "    newdocsample.append(newcontent)\n",
        "    # samplebeforecount+=1\n",
        "  with open(dataset_path + \"/\" + filename, 'w') as f:\n",
        "  # with open(os.path.join(dataset_path, filename), 'w') as f:\n",
        "    # f = str(f, 'UTF-8')\n",
        "    f.write(newcontent)\n",
        "  \n",
        "        "
      ],
      "metadata": {
        "id": "hbPtNqylTrOi"
      },
      "execution_count": 152,
      "outputs": []
    },
    {
      "cell_type": "code",
      "source": [
        "len(sample_before)"
      ],
      "metadata": {
        "id": "fc-waXpsg-vg",
        "colab": {
          "base_uri": "https://localhost:8080/"
        },
        "outputId": "6737e462-72f3-4263-f347-683763f41668"
      },
      "execution_count": 153,
      "outputs": [
        {
          "output_type": "execute_result",
          "data": {
            "text/plain": [
              "5"
            ]
          },
          "metadata": {},
          "execution_count": 153
        }
      ]
    },
    {
      "cell_type": "code",
      "source": [
        "sample_before[0]"
      ],
      "metadata": {
        "id": "2NFiZQLziUpT",
        "colab": {
          "base_uri": "https://localhost:8080/",
          "height": 91
        },
        "outputId": "e9c64af6-820c-4097-d2aa-315f9789addd"
      },
      "execution_count": 154,
      "outputs": [
        {
          "output_type": "execute_result",
          "data": {
            "text/plain": [
              "'<DOC>\\n<DOCNO>\\n874\\n</DOCNO>\\n<TITLE>\\nthe use of models for the determination of critical flutter speeds .\\n</TITLE>\\n<AUTHOR>\\nduncan, w.j.\\n</AUTHOR>\\n<BIBLIO>\\nr + m 1425, july 1931 .\\n</BIBLIO>\\n<TEXT>\\nthe use of model tests in the prediction of full-scale critical flutter\\nspeeds is now well established, and the technique of such tests is\\ntherefore worthy of discussion . in order to obtain critical speeds for\\nthe model within the speed range of ordinary wind tunnels it is\\nnecessary that the model should differ in some respect from a mere small\\nsuggested by mckinnon wood the modification of the model consists in a\\nreduction of its effective stiffnesses . this method has the defect /in\\nmost cases probably not serious/ that the model experiment is conducted\\nat a reynolds number much below that for full-scale . in the present\\npaper it is pointed out that an alternative method of reducing the\\ncritical speed is to increase the mass loading of the model and to make\\nthe flutter tests in compressed air . * it is then quite feasible to\\nreach the full-scale reynolds number . this method of reducing the\\ncritical speeds by a proportionate increase of all effective densities\\nmay also be combined with a reduction of the elasticity of the model .\\nthe relation of model and full-scale stresses at the critical flutter\\nspeeds is considered . where the reduction in critical speed is effected\\n by increase of density only, the model and full-scale stresses are\\nequal . in a model of reduced elasticity the stresses in the wires are\\nthe same as for full-scale,  whereas, the stresses in the spars are less\\n than for full-scale . this is in accord with the usual experience that\\nthe wires of such a model are the first parts of the structure to fail\\nin a flutter .\\nlastly, the influence of gravity on flutter is considered . this is\\nnegligibly small for full-scale, but not necessarily so for the model .\\ngravitational effects can sometimes be corrected by suitable orientation\\n of the model .\\n</TEXT>\\n</DOC>\\n'"
            ],
            "application/vnd.google.colaboratory.intrinsic+json": {
              "type": "string"
            }
          },
          "metadata": {},
          "execution_count": 154
        }
      ]
    },
    {
      "cell_type": "code",
      "source": [
        "len(newdocsample)"
      ],
      "metadata": {
        "id": "rLCwPZXjlrV2",
        "colab": {
          "base_uri": "https://localhost:8080/"
        },
        "outputId": "3466ef92-42d3-42e3-bc64-2dcae939caa0"
      },
      "execution_count": 155,
      "outputs": [
        {
          "output_type": "execute_result",
          "data": {
            "text/plain": [
              "1400"
            ]
          },
          "metadata": {},
          "execution_count": 155
        }
      ]
    },
    {
      "cell_type": "code",
      "source": [
        "newdocsample[0]"
      ],
      "metadata": {
        "colab": {
          "base_uri": "https://localhost:8080/",
          "height": 73
        },
        "id": "BgAU74SNRGzo",
        "outputId": "07f75378-a0aa-4664-a749-8f5b8586da0d"
      },
      "execution_count": 156,
      "outputs": [
        {
          "output_type": "execute_result",
          "data": {
            "text/plain": [
              "'combinations of temperature and axial compression required\\nfor buckling of a ring-stiffened cylinder . a theory is presented to predict the buckling temperature of an\\naxially compressed, uniformly heated ring-stiffened cylinder .  the\\ncylinder buckles because of the interaction of the axial stress due to\\napplied compressive loads and the circumferential stress resulting\\nfrom restraint of thermal expansion by the rings .  buckling charts\\ncovering a wide range of cylinder proportions are presented for both\\nclamped and simply supported cylinders .  the buckling temperature for a\\ngiven axial loading is determined from a simple equation involving a\\ncoefficient given in the buckling charts and the radius-thickness ratio\\nof the cylinder .'"
            ],
            "application/vnd.google.colaboratory.intrinsic+json": {
              "type": "string"
            }
          },
          "metadata": {},
          "execution_count": 156
        }
      ]
    },
    {
      "cell_type": "code",
      "source": [
        "#for checking if the extraction is done properly or not\n",
        "for filename in listofFiles:\n",
        "  # newcontent=\"\"\n",
        "  with open(dataset_path + \"/\" + filename, 'r') as f:\n",
        "    print(f.read())\n",
        "    break"
      ],
      "metadata": {
        "id": "cmtHWyGPVG7x",
        "colab": {
          "base_uri": "https://localhost:8080/"
        },
        "outputId": "54371f96-5308-4f12-a2d5-9f947d436301"
      },
      "execution_count": 157,
      "outputs": [
        {
          "output_type": "stream",
          "name": "stdout",
          "text": [
            "combinations of temperature and axial compression required\n",
            "for buckling of a ring-stiffened cylinder . a theory is presented to predict the buckling temperature of an\n",
            "axially compressed, uniformly heated ring-stiffened cylinder .  the\n",
            "cylinder buckles because of the interaction of the axial stress due to\n",
            "applied compressive loads and the circumferential stress resulting\n",
            "from restraint of thermal expansion by the rings .  buckling charts\n",
            "covering a wide range of cylinder proportions are presented for both\n",
            "clamped and simply supported cylinders .  the buckling temperature for a\n",
            "given axial loading is determined from a simple equation involving a\n",
            "coefficient given in the buckling charts and the radius-thickness ratio\n",
            "of the cylinder .\n"
          ]
        }
      ]
    },
    {
      "cell_type": "code",
      "source": [
        "#sampling of 5 files:\n",
        "sample_after= (newdocsample[2], newdocsample[3], newdocsample[878], newdocsample[332], newdocsample[1200])"
      ],
      "metadata": {
        "id": "BST3YBRhZxSs"
      },
      "execution_count": 158,
      "outputs": []
    },
    {
      "cell_type": "code",
      "source": [
        "for i in range(5):\n",
        "  print(\"SAMPLE \" + str(i+1) + \" BEFORE: \\n\\n\" + sample_before[i])\n",
        "  print()\n",
        "  print(\"SAMPLE \" + str(i+1) + \" AFTER: \\n\\n\" + sample_after[i])\n",
        "  \n",
        "  print(\"\\n------------------------------------------------------------------------------------------------------------------------------------\\n\")"
      ],
      "metadata": {
        "colab": {
          "base_uri": "https://localhost:8080/"
        },
        "id": "mNR_sjEu-scM",
        "outputId": "dd047801-94f0-4f14-d7a7-3c9e50b65159"
      },
      "execution_count": 159,
      "outputs": [
        {
          "output_type": "stream",
          "name": "stdout",
          "text": [
            "SAMPLE 1 BEFORE: \n",
            "\n",
            "<DOC>\n",
            "<DOCNO>\n",
            "874\n",
            "</DOCNO>\n",
            "<TITLE>\n",
            "the use of models for the determination of critical flutter speeds .\n",
            "</TITLE>\n",
            "<AUTHOR>\n",
            "duncan, w.j.\n",
            "</AUTHOR>\n",
            "<BIBLIO>\n",
            "r + m 1425, july 1931 .\n",
            "</BIBLIO>\n",
            "<TEXT>\n",
            "the use of model tests in the prediction of full-scale critical flutter\n",
            "speeds is now well established, and the technique of such tests is\n",
            "therefore worthy of discussion . in order to obtain critical speeds for\n",
            "the model within the speed range of ordinary wind tunnels it is\n",
            "necessary that the model should differ in some respect from a mere small\n",
            "suggested by mckinnon wood the modification of the model consists in a\n",
            "reduction of its effective stiffnesses . this method has the defect /in\n",
            "most cases probably not serious/ that the model experiment is conducted\n",
            "at a reynolds number much below that for full-scale . in the present\n",
            "paper it is pointed out that an alternative method of reducing the\n",
            "critical speed is to increase the mass loading of the model and to make\n",
            "the flutter tests in compressed air . * it is then quite feasible to\n",
            "reach the full-scale reynolds number . this method of reducing the\n",
            "critical speeds by a proportionate increase of all effective densities\n",
            "may also be combined with a reduction of the elasticity of the model .\n",
            "the relation of model and full-scale stresses at the critical flutter\n",
            "speeds is considered . where the reduction in critical speed is effected\n",
            " by increase of density only, the model and full-scale stresses are\n",
            "equal . in a model of reduced elasticity the stresses in the wires are\n",
            "the same as for full-scale,  whereas, the stresses in the spars are less\n",
            " than for full-scale . this is in accord with the usual experience that\n",
            "the wires of such a model are the first parts of the structure to fail\n",
            "in a flutter .\n",
            "lastly, the influence of gravity on flutter is considered . this is\n",
            "negligibly small for full-scale, but not necessarily so for the model .\n",
            "gravitational effects can sometimes be corrected by suitable orientation\n",
            " of the model .\n",
            "</TEXT>\n",
            "</DOC>\n",
            "\n",
            "\n",
            "SAMPLE 1 AFTER: \n",
            "\n",
            "the use of models for the determination of critical flutter speeds . the use of model tests in the prediction of full-scale critical flutter\n",
            "speeds is now well established, and the technique of such tests is\n",
            "therefore worthy of discussion . in order to obtain critical speeds for\n",
            "the model within the speed range of ordinary wind tunnels it is\n",
            "necessary that the model should differ in some respect from a mere small\n",
            "suggested by mckinnon wood the modification of the model consists in a\n",
            "reduction of its effective stiffnesses . this method has the defect /in\n",
            "most cases probably not serious/ that the model experiment is conducted\n",
            "at a reynolds number much below that for full-scale . in the present\n",
            "paper it is pointed out that an alternative method of reducing the\n",
            "critical speed is to increase the mass loading of the model and to make\n",
            "the flutter tests in compressed air . * it is then quite feasible to\n",
            "reach the full-scale reynolds number . this method of reducing the\n",
            "critical speeds by a proportionate increase of all effective densities\n",
            "may also be combined with a reduction of the elasticity of the model .\n",
            "the relation of model and full-scale stresses at the critical flutter\n",
            "speeds is considered . where the reduction in critical speed is effected\n",
            " by increase of density only, the model and full-scale stresses are\n",
            "equal . in a model of reduced elasticity the stresses in the wires are\n",
            "the same as for full-scale,  whereas, the stresses in the spars are less\n",
            " than for full-scale . this is in accord with the usual experience that\n",
            "the wires of such a model are the first parts of the structure to fail\n",
            "in a flutter .\n",
            "lastly, the influence of gravity on flutter is considered . this is\n",
            "negligibly small for full-scale, but not necessarily so for the model .\n",
            "gravitational effects can sometimes be corrected by suitable orientation\n",
            " of the model .\n",
            "\n",
            "------------------------------------------------------------------------------------------------------------------------------------\n",
            "\n",
            "SAMPLE 2 BEFORE: \n",
            "\n",
            "<DOC>\n",
            "<DOCNO>\n",
            "877\n",
            "</DOCNO>\n",
            "<TITLE>\n",
            "the influence of aerodynamic heating on the flexural\n",
            "rigidity of a thin wing .\n",
            "</TITLE>\n",
            "<AUTHOR>\n",
            "mansfield,e.h.\n",
            "</AUTHOR>\n",
            "<BIBLIO>\n",
            "arc r + m.3115, 1957.\n",
            "</BIBLIO>\n",
            "<TEXT>\n",
            "  this report considers the loss of flexural rigidity of a thin wing due\n",
            "to the presence of middle-surface stresses resulting from aerodynamic\n",
            "heating .  the spanwise properties of the wing are assumed constant but\n",
            "the wing section is arbitrary .  the loss of flexural rigidity is\n",
            "comparable with the corresponding loss of torsional rigidity .\n",
            "</TEXT>\n",
            "</DOC>\n",
            "\n",
            "\n",
            "SAMPLE 2 AFTER: \n",
            "\n",
            "the influence of aerodynamic heating on the flexural\n",
            "rigidity of a thin wing . this report considers the loss of flexural rigidity of a thin wing due\n",
            "to the presence of middle-surface stresses resulting from aerodynamic\n",
            "heating .  the spanwise properties of the wing are assumed constant but\n",
            "the wing section is arbitrary .  the loss of flexural rigidity is\n",
            "comparable with the corresponding loss of torsional rigidity .\n",
            "\n",
            "------------------------------------------------------------------------------------------------------------------------------------\n",
            "\n",
            "SAMPLE 3 BEFORE: \n",
            "\n",
            "<DOC>\n",
            "<DOCNO>\n",
            "495\n",
            "</DOCNO>\n",
            "<TITLE>\n",
            "on similar solutions for strong blast waves and their\n",
            "application to steady hypersonic flow .\n",
            "</TITLE>\n",
            "<AUTHOR>\n",
            "borcher,e.f.\n",
            "</AUTHOR>\n",
            "<BIBLIO>\n",
            "j. ae. scs. 29, 1962, 694.\n",
            "</BIBLIO>\n",
            "<TEXT>\n",
            "  the general solution of the strong blast wave is found in the\n",
            "newtonian approximation--i.e., neglecting terms of order\n",
            "the expressions obtained for the pressure, temperature, density,\n",
            "and velocity profiles are simple .  the results are applied to\n",
            "power-law bodies in hypersonic flow using the equivalence\n",
            "principle .\n",
            "  higher-order approximations for strong blast waves are investigated\n",
            "for the cases in which the shock layer is thin .  a\n",
            "simple pressure formula is found, which constitutes an improvement\n",
            "upon the newton-busemann formula, and some of its applications\n",
            "are shown .\n",
            "</TEXT>\n",
            "</DOC>\n",
            "\n",
            "\n",
            "SAMPLE 3 AFTER: \n",
            "\n",
            "on similar solutions for strong blast waves and their\n",
            "application to steady hypersonic flow . the general solution of the strong blast wave is found in the\n",
            "newtonian approximation--i.e., neglecting terms of order\n",
            "the expressions obtained for the pressure, temperature, density,\n",
            "and velocity profiles are simple .  the results are applied to\n",
            "power-law bodies in hypersonic flow using the equivalence\n",
            "principle .\n",
            "  higher-order approximations for strong blast waves are investigated\n",
            "for the cases in which the shock layer is thin .  a\n",
            "simple pressure formula is found, which constitutes an improvement\n",
            "upon the newton-busemann formula, and some of its applications\n",
            "are shown .\n",
            "\n",
            "------------------------------------------------------------------------------------------------------------------------------------\n",
            "\n",
            "SAMPLE 4 BEFORE: \n",
            "\n",
            "<DOC>\n",
            "<DOCNO>\n",
            "511\n",
            "</DOCNO>\n",
            "<TITLE>\n",
            "tunnel tests on a double cascade to determine the interaction\n",
            "between the rotor and the nozzles of a supersonic turbine .\n",
            "</TITLE>\n",
            "<AUTHOR>\n",
            "stratford,b.s.\n",
            "</AUTHOR>\n",
            "<BIBLIO>\n",
            "ngte m359.\n",
            "</BIBLIO>\n",
            "<TEXT>\n",
            "  experimental confirmation has been required that in a supersonic\n",
            "turbine the leading edges of the rotor governs the rotor incidence and,\n",
            "hence, the gas exit angle from the nozzles .  evidence has also been\n",
            "required that, once the rotor incidence has been allowed for, there is\n",
            "no adverse effect of the rotors on the nozzle flow, even when the rotors\n",
            "have a large turning angle .\n",
            "  the present test cascade represented the stationary configuration\n",
            "of a turbine of 2.5 nozzle mach number and 74 swirl angle, the rotors\n",
            "being designed to operate at 1.9 relative mach number and to provide a\n",
            "turning angle of 140 .  in the tests, fully supersonic flow could be\n",
            "established through the system, but the losses were fairly high and an\n",
            "increase in loss of about 25 per cent would have caused choking in the\n",
            "rotor .\n",
            "</TEXT>\n",
            "</DOC>\n",
            "\n",
            "\n",
            "SAMPLE 4 AFTER: \n",
            "\n",
            "tunnel tests on a double cascade to determine the interaction\n",
            "between the rotor and the nozzles of a supersonic turbine . experimental confirmation has been required that in a supersonic\n",
            "turbine the leading edges of the rotor governs the rotor incidence and,\n",
            "hence, the gas exit angle from the nozzles .  evidence has also been\n",
            "required that, once the rotor incidence has been allowed for, there is\n",
            "no adverse effect of the rotors on the nozzle flow, even when the rotors\n",
            "have a large turning angle .\n",
            "  the present test cascade represented the stationary configuration\n",
            "of a turbine of 2.5 nozzle mach number and 74 swirl angle, the rotors\n",
            "being designed to operate at 1.9 relative mach number and to provide a\n",
            "turning angle of 140 .  in the tests, fully supersonic flow could be\n",
            "established through the system, but the losses were fairly high and an\n",
            "increase in loss of about 25 per cent would have caused choking in the\n",
            "rotor .\n",
            "\n",
            "------------------------------------------------------------------------------------------------------------------------------------\n",
            "\n",
            "SAMPLE 5 BEFORE: \n",
            "\n",
            "<DOC>\n",
            "<DOCNO>\n",
            "959\n",
            "</DOCNO>\n",
            "<TITLE>\n",
            "heat transfer in separated flows .\n",
            "</TITLE>\n",
            "<AUTHOR>\n",
            "larson,h.k.\n",
            "</AUTHOR>\n",
            "<BIBLIO>\n",
            "j. ae. scs. 1959, 731.\n",
            "</BIBLIO>\n",
            "<TEXT>\n",
            "  results of an experimental heat-transfer investigation in regions\n",
            "of separated flow are presented and compared with the\n",
            "theoretical analysis of naca tn 3792 .  the average heat\n",
            "transfer for both laminar and turbulent separated boundary\n",
            "layers was found to be from 35 to 50 per cent less than that for\n",
            "equivalent attached boundary layers .  the overall scope of the\n",
            "measurements included mach numbers from 0.3 to 4.0 and\n",
            "reynolds numbers from 10 to 4 x 10 .  the results for laminar\n",
            "boundary layers agree well with the analysis of tn 3792 .  the\n",
            "results for turbulent boundary layers, however, disagree considerably\n",
            ".  results of velocity and temperature surveys in the\n",
            "separated turbulent boundary layer are presented and partially\n",
            "explain the discrepancy between the experiments and analysis .\n",
            "the maximum local heat-transfer rates were found to occur in\n",
            "the reattachment region of the separated boundary layers investigated\n",
            ".  the effect of transition on heat transfer in the separated\n",
            "laminar boundary layers is described and data showing effects\n",
            "of mach number and wall temperature on the transition reynolds\n",
            "number of separated laminar flows are also included .\n",
            "</TEXT>\n",
            "</DOC>\n",
            "\n",
            "\n",
            "SAMPLE 5 AFTER: \n",
            "\n",
            "heat transfer in separated flows . results of an experimental heat-transfer investigation in regions\n",
            "of separated flow are presented and compared with the\n",
            "theoretical analysis of naca tn 3792 .  the average heat\n",
            "transfer for both laminar and turbulent separated boundary\n",
            "layers was found to be from 35 to 50 per cent less than that for\n",
            "equivalent attached boundary layers .  the overall scope of the\n",
            "measurements included mach numbers from 0.3 to 4.0 and\n",
            "reynolds numbers from 10 to 4 x 10 .  the results for laminar\n",
            "boundary layers agree well with the analysis of tn 3792 .  the\n",
            "results for turbulent boundary layers, however, disagree considerably\n",
            ".  results of velocity and temperature surveys in the\n",
            "separated turbulent boundary layer are presented and partially\n",
            "explain the discrepancy between the experiments and analysis .\n",
            "the maximum local heat-transfer rates were found to occur in\n",
            "the reattachment region of the separated boundary layers investigated\n",
            ".  the effect of transition on heat transfer in the separated\n",
            "laminar boundary layers is described and data showing effects\n",
            "of mach number and wall temperature on the transition reynolds\n",
            "number of separated laminar flows are also included .\n",
            "\n",
            "------------------------------------------------------------------------------------------------------------------------------------\n",
            "\n"
          ]
        }
      ]
    },
    {
      "cell_type": "markdown",
      "source": [
        "## Q1) PART (ii): PREPROCESSING"
      ],
      "metadata": {
        "id": "rLwhU3BI_1RB"
      }
    },
    {
      "cell_type": "markdown",
      "source": [
        "Getting the dataset in a list: "
      ],
      "metadata": {
        "id": "ftTMU-9-AR4n"
      }
    },
    {
      "cell_type": "code",
      "source": [
        "newdocsample[0]"
      ],
      "metadata": {
        "colab": {
          "base_uri": "https://localhost:8080/",
          "height": 73
        },
        "id": "oK0Knhd4MjgP",
        "outputId": "667f0c92-1176-4449-d0e6-3c213430318c"
      },
      "execution_count": 160,
      "outputs": [
        {
          "output_type": "execute_result",
          "data": {
            "text/plain": [
              "'combinations of temperature and axial compression required\\nfor buckling of a ring-stiffened cylinder . a theory is presented to predict the buckling temperature of an\\naxially compressed, uniformly heated ring-stiffened cylinder .  the\\ncylinder buckles because of the interaction of the axial stress due to\\napplied compressive loads and the circumferential stress resulting\\nfrom restraint of thermal expansion by the rings .  buckling charts\\ncovering a wide range of cylinder proportions are presented for both\\nclamped and simply supported cylinders .  the buckling temperature for a\\ngiven axial loading is determined from a simple equation involving a\\ncoefficient given in the buckling charts and the radius-thickness ratio\\nof the cylinder .'"
            ],
            "application/vnd.google.colaboratory.intrinsic+json": {
              "type": "string"
            }
          },
          "metadata": {},
          "execution_count": 160
        }
      ]
    },
    {
      "cell_type": "code",
      "source": [
        "# dataset[0]"
      ],
      "metadata": {
        "id": "tLnzzkY6Mo0_"
      },
      "execution_count": 161,
      "outputs": []
    },
    {
      "cell_type": "code",
      "source": [
        "dataset= newdocsample"
      ],
      "metadata": {
        "id": "0SzfoA5dAfsG"
      },
      "execution_count": 162,
      "outputs": []
    },
    {
      "cell_type": "code",
      "source": [
        "newdocsample[0]"
      ],
      "metadata": {
        "colab": {
          "base_uri": "https://localhost:8080/",
          "height": 73
        },
        "id": "lG9z8Z7dAt66",
        "outputId": "cb8ce4c4-1c02-44f4-b4c0-d4b4a183c6a2"
      },
      "execution_count": 163,
      "outputs": [
        {
          "output_type": "execute_result",
          "data": {
            "text/plain": [
              "'combinations of temperature and axial compression required\\nfor buckling of a ring-stiffened cylinder . a theory is presented to predict the buckling temperature of an\\naxially compressed, uniformly heated ring-stiffened cylinder .  the\\ncylinder buckles because of the interaction of the axial stress due to\\napplied compressive loads and the circumferential stress resulting\\nfrom restraint of thermal expansion by the rings .  buckling charts\\ncovering a wide range of cylinder proportions are presented for both\\nclamped and simply supported cylinders .  the buckling temperature for a\\ngiven axial loading is determined from a simple equation involving a\\ncoefficient given in the buckling charts and the radius-thickness ratio\\nof the cylinder .'"
            ],
            "application/vnd.google.colaboratory.intrinsic+json": {
              "type": "string"
            }
          },
          "metadata": {},
          "execution_count": 163
        }
      ]
    },
    {
      "cell_type": "code",
      "source": [
        "len(dataset)"
      ],
      "metadata": {
        "colab": {
          "base_uri": "https://localhost:8080/"
        },
        "id": "epWkQeZdAlVe",
        "outputId": "bc757b20-59ac-4faf-c42b-dd7e89d91000"
      },
      "execution_count": 164,
      "outputs": [
        {
          "output_type": "execute_result",
          "data": {
            "text/plain": [
              "1400"
            ]
          },
          "metadata": {},
          "execution_count": 164
        }
      ]
    },
    {
      "cell_type": "code",
      "source": [
        "dataset[0]"
      ],
      "metadata": {
        "colab": {
          "base_uri": "https://localhost:8080/",
          "height": 73
        },
        "id": "ZOY6XGtoAm1N",
        "outputId": "feb74616-3f0b-4aeb-9b00-ec09150a65a5"
      },
      "execution_count": 165,
      "outputs": [
        {
          "output_type": "execute_result",
          "data": {
            "text/plain": [
              "'combinations of temperature and axial compression required\\nfor buckling of a ring-stiffened cylinder . a theory is presented to predict the buckling temperature of an\\naxially compressed, uniformly heated ring-stiffened cylinder .  the\\ncylinder buckles because of the interaction of the axial stress due to\\napplied compressive loads and the circumferential stress resulting\\nfrom restraint of thermal expansion by the rings .  buckling charts\\ncovering a wide range of cylinder proportions are presented for both\\nclamped and simply supported cylinders .  the buckling temperature for a\\ngiven axial loading is determined from a simple equation involving a\\ncoefficient given in the buckling charts and the radius-thickness ratio\\nof the cylinder .'"
            ],
            "application/vnd.google.colaboratory.intrinsic+json": {
              "type": "string"
            }
          },
          "metadata": {},
          "execution_count": 165
        }
      ]
    },
    {
      "cell_type": "code",
      "source": [
        "# def sampleGen():\n",
        "#   print(\"SAMPLE BEFORE: \")\n",
        "#   for i in range(5):\n",
        "#     print(dataset[i])\n",
        "    \n",
        "\n",
        "\n",
        "# for i in range(5):\n",
        "#   print(\"SAMPLE \" + str(i+1) + \" BEFORE: \\n\\n\" + sample_before[i])\n",
        "#   print()\n",
        "#   print(\"SAMPLE \" + str(i+1) + \" AFTER: \\n\\n\" + sample_after[i])\n",
        "  \n",
        "#   print(\"\\n------------------------------------------------------------------------------------------------------------------------------------\\n\")\n"
      ],
      "metadata": {
        "id": "d8jfmVyRA_IR"
      },
      "execution_count": 166,
      "outputs": []
    },
    {
      "cell_type": "markdown",
      "source": [
        "1. Lowercasing\n"
      ],
      "metadata": {
        "id": "AayI9cBAAADK"
      }
    },
    {
      "cell_type": "code",
      "source": [
        "dataset[0]"
      ],
      "metadata": {
        "colab": {
          "base_uri": "https://localhost:8080/",
          "height": 73
        },
        "id": "D33wf71tMx-h",
        "outputId": "d14b7efd-0648-405d-d491-2b5b1e2d1a93"
      },
      "execution_count": 167,
      "outputs": [
        {
          "output_type": "execute_result",
          "data": {
            "text/plain": [
              "'combinations of temperature and axial compression required\\nfor buckling of a ring-stiffened cylinder . a theory is presented to predict the buckling temperature of an\\naxially compressed, uniformly heated ring-stiffened cylinder .  the\\ncylinder buckles because of the interaction of the axial stress due to\\napplied compressive loads and the circumferential stress resulting\\nfrom restraint of thermal expansion by the rings .  buckling charts\\ncovering a wide range of cylinder proportions are presented for both\\nclamped and simply supported cylinders .  the buckling temperature for a\\ngiven axial loading is determined from a simple equation involving a\\ncoefficient given in the buckling charts and the radius-thickness ratio\\nof the cylinder .'"
            ],
            "application/vnd.google.colaboratory.intrinsic+json": {
              "type": "string"
            }
          },
          "metadata": {},
          "execution_count": 167
        }
      ]
    },
    {
      "cell_type": "code",
      "source": [
        "count=0\n",
        "for i in range(len(dataset)):\n",
        "  if(count<5):\n",
        "    print(\"\\nSAMPLE \"+ str(count+1) + \" BEFORE: \\n\\n\" + dataset[i])\n",
        "  dataset[i] = dataset[i].lower()\n",
        "  if(count<5):\n",
        "    print(\"\\nSAMPLE \"+ str(count+1) + \" AFTER: \\n\\n\" + dataset[i]+ '\\n')\n",
        "    print(\"=============================================================\")\n",
        "  count+=1"
      ],
      "metadata": {
        "colab": {
          "base_uri": "https://localhost:8080/"
        },
        "id": "CFWkiRUw-5rI",
        "outputId": "d74f3dde-160e-4a0d-9932-8ef3315c0f16"
      },
      "execution_count": 168,
      "outputs": [
        {
          "output_type": "stream",
          "name": "stdout",
          "text": [
            "\n",
            "SAMPLE 1 BEFORE: \n",
            "\n",
            "combinations of temperature and axial compression required\n",
            "for buckling of a ring-stiffened cylinder . a theory is presented to predict the buckling temperature of an\n",
            "axially compressed, uniformly heated ring-stiffened cylinder .  the\n",
            "cylinder buckles because of the interaction of the axial stress due to\n",
            "applied compressive loads and the circumferential stress resulting\n",
            "from restraint of thermal expansion by the rings .  buckling charts\n",
            "covering a wide range of cylinder proportions are presented for both\n",
            "clamped and simply supported cylinders .  the buckling temperature for a\n",
            "given axial loading is determined from a simple equation involving a\n",
            "coefficient given in the buckling charts and the radius-thickness ratio\n",
            "of the cylinder .\n",
            "\n",
            "SAMPLE 1 AFTER: \n",
            "\n",
            "combinations of temperature and axial compression required\n",
            "for buckling of a ring-stiffened cylinder . a theory is presented to predict the buckling temperature of an\n",
            "axially compressed, uniformly heated ring-stiffened cylinder .  the\n",
            "cylinder buckles because of the interaction of the axial stress due to\n",
            "applied compressive loads and the circumferential stress resulting\n",
            "from restraint of thermal expansion by the rings .  buckling charts\n",
            "covering a wide range of cylinder proportions are presented for both\n",
            "clamped and simply supported cylinders .  the buckling temperature for a\n",
            "given axial loading is determined from a simple equation involving a\n",
            "coefficient given in the buckling charts and the radius-thickness ratio\n",
            "of the cylinder .\n",
            "\n",
            "=============================================================\n",
            "\n",
            "SAMPLE 2 BEFORE: \n",
            "\n",
            "cumulative damage in fatigue . the phenomenon of cumulative damage under repeated\n",
            "loads was assumed to be related to the net work absorbed\n",
            "by a specimen .  the number of loading cycles applied\n",
            "expressed as a percentage of the number to failure at a\n",
            "given stress level would be the proportion of useful life\n",
            "expended .  when the total damage, as defined by this\n",
            "concept, reached 100 per cent, the fatigue specimen should\n",
            "fail .  experimental verification of this concept for an\n",
            "aluminum alloy, using different types of specimens, various\n",
            "stress ratios, and various combinations of loading\n",
            "cycles is presented .  these data are also analyzed to provide\n",
            "information on different stress ratios when an s-n\n",
            "curve for any one ratio is known .  results of a sample\n",
            "analysis based on experiments are given .  it is concluded\n",
            "that a simple and conservative analysis is possible\n",
            "using the concept of cumulative fatigue damage .\n",
            "\n",
            "SAMPLE 2 AFTER: \n",
            "\n",
            "cumulative damage in fatigue . the phenomenon of cumulative damage under repeated\n",
            "loads was assumed to be related to the net work absorbed\n",
            "by a specimen .  the number of loading cycles applied\n",
            "expressed as a percentage of the number to failure at a\n",
            "given stress level would be the proportion of useful life\n",
            "expended .  when the total damage, as defined by this\n",
            "concept, reached 100 per cent, the fatigue specimen should\n",
            "fail .  experimental verification of this concept for an\n",
            "aluminum alloy, using different types of specimens, various\n",
            "stress ratios, and various combinations of loading\n",
            "cycles is presented .  these data are also analyzed to provide\n",
            "information on different stress ratios when an s-n\n",
            "curve for any one ratio is known .  results of a sample\n",
            "analysis based on experiments are given .  it is concluded\n",
            "that a simple and conservative analysis is possible\n",
            "using the concept of cumulative fatigue damage .\n",
            "\n",
            "=============================================================\n",
            "\n",
            "SAMPLE 3 BEFORE: \n",
            "\n",
            "the use of models for the determination of critical flutter speeds . the use of model tests in the prediction of full-scale critical flutter\n",
            "speeds is now well established, and the technique of such tests is\n",
            "therefore worthy of discussion . in order to obtain critical speeds for\n",
            "the model within the speed range of ordinary wind tunnels it is\n",
            "necessary that the model should differ in some respect from a mere small\n",
            "suggested by mckinnon wood the modification of the model consists in a\n",
            "reduction of its effective stiffnesses . this method has the defect /in\n",
            "most cases probably not serious/ that the model experiment is conducted\n",
            "at a reynolds number much below that for full-scale . in the present\n",
            "paper it is pointed out that an alternative method of reducing the\n",
            "critical speed is to increase the mass loading of the model and to make\n",
            "the flutter tests in compressed air . * it is then quite feasible to\n",
            "reach the full-scale reynolds number . this method of reducing the\n",
            "critical speeds by a proportionate increase of all effective densities\n",
            "may also be combined with a reduction of the elasticity of the model .\n",
            "the relation of model and full-scale stresses at the critical flutter\n",
            "speeds is considered . where the reduction in critical speed is effected\n",
            " by increase of density only, the model and full-scale stresses are\n",
            "equal . in a model of reduced elasticity the stresses in the wires are\n",
            "the same as for full-scale,  whereas, the stresses in the spars are less\n",
            " than for full-scale . this is in accord with the usual experience that\n",
            "the wires of such a model are the first parts of the structure to fail\n",
            "in a flutter .\n",
            "lastly, the influence of gravity on flutter is considered . this is\n",
            "negligibly small for full-scale, but not necessarily so for the model .\n",
            "gravitational effects can sometimes be corrected by suitable orientation\n",
            " of the model .\n",
            "\n",
            "SAMPLE 3 AFTER: \n",
            "\n",
            "the use of models for the determination of critical flutter speeds . the use of model tests in the prediction of full-scale critical flutter\n",
            "speeds is now well established, and the technique of such tests is\n",
            "therefore worthy of discussion . in order to obtain critical speeds for\n",
            "the model within the speed range of ordinary wind tunnels it is\n",
            "necessary that the model should differ in some respect from a mere small\n",
            "suggested by mckinnon wood the modification of the model consists in a\n",
            "reduction of its effective stiffnesses . this method has the defect /in\n",
            "most cases probably not serious/ that the model experiment is conducted\n",
            "at a reynolds number much below that for full-scale . in the present\n",
            "paper it is pointed out that an alternative method of reducing the\n",
            "critical speed is to increase the mass loading of the model and to make\n",
            "the flutter tests in compressed air . * it is then quite feasible to\n",
            "reach the full-scale reynolds number . this method of reducing the\n",
            "critical speeds by a proportionate increase of all effective densities\n",
            "may also be combined with a reduction of the elasticity of the model .\n",
            "the relation of model and full-scale stresses at the critical flutter\n",
            "speeds is considered . where the reduction in critical speed is effected\n",
            " by increase of density only, the model and full-scale stresses are\n",
            "equal . in a model of reduced elasticity the stresses in the wires are\n",
            "the same as for full-scale,  whereas, the stresses in the spars are less\n",
            " than for full-scale . this is in accord with the usual experience that\n",
            "the wires of such a model are the first parts of the structure to fail\n",
            "in a flutter .\n",
            "lastly, the influence of gravity on flutter is considered . this is\n",
            "negligibly small for full-scale, but not necessarily so for the model .\n",
            "gravitational effects can sometimes be corrected by suitable orientation\n",
            " of the model .\n",
            "\n",
            "=============================================================\n",
            "\n",
            "SAMPLE 4 BEFORE: \n",
            "\n",
            "the influence of aerodynamic heating on the flexural\n",
            "rigidity of a thin wing . this report considers the loss of flexural rigidity of a thin wing due\n",
            "to the presence of middle-surface stresses resulting from aerodynamic\n",
            "heating .  the spanwise properties of the wing are assumed constant but\n",
            "the wing section is arbitrary .  the loss of flexural rigidity is\n",
            "comparable with the corresponding loss of torsional rigidity .\n",
            "\n",
            "SAMPLE 4 AFTER: \n",
            "\n",
            "the influence of aerodynamic heating on the flexural\n",
            "rigidity of a thin wing . this report considers the loss of flexural rigidity of a thin wing due\n",
            "to the presence of middle-surface stresses resulting from aerodynamic\n",
            "heating .  the spanwise properties of the wing are assumed constant but\n",
            "the wing section is arbitrary .  the loss of flexural rigidity is\n",
            "comparable with the corresponding loss of torsional rigidity .\n",
            "\n",
            "=============================================================\n",
            "\n",
            "SAMPLE 5 BEFORE: \n",
            "\n",
            "lagrangian thermodynamics of heat transfer in systems\n",
            "including fluid motion . the lagrangian thermodynamic equations of irreversible\n",
            "processes are extended to convective heat transfer .  this generalization\n",
            "provides equations for the unified analysis of transient\n",
            "heat flow in complex systems comprising solid structures and\n",
            "moving fluids in either laminar or turbulent flow .  the concept\n",
            "of a surface-heat-transfer coefficient is eliminated from the formulation\n",
            ".  the theory is developed along two different lines .  in\n",
            "one approach a new concept referred to as the /trailing function/\n",
            "is introduced .  it represents the surface-heat-transfer properties\n",
            "and may be evaluated by quite simple but remarkably accurate\n",
            "variational procedures .  the method of /associated fields/ is also\n",
            "generalized to convective phenomena .  the second line of approach\n",
            "extends to convective heat transfer the thermodynamic\n",
            "concept of entropy production for both laminar and turbulent\n",
            "flow .  the theory amounts to an extension of the thermodynamics\n",
            "of irreversible processes to systems for which onsager's\n",
            "relations are not valid .\n",
            "\n",
            "SAMPLE 5 AFTER: \n",
            "\n",
            "lagrangian thermodynamics of heat transfer in systems\n",
            "including fluid motion . the lagrangian thermodynamic equations of irreversible\n",
            "processes are extended to convective heat transfer .  this generalization\n",
            "provides equations for the unified analysis of transient\n",
            "heat flow in complex systems comprising solid structures and\n",
            "moving fluids in either laminar or turbulent flow .  the concept\n",
            "of a surface-heat-transfer coefficient is eliminated from the formulation\n",
            ".  the theory is developed along two different lines .  in\n",
            "one approach a new concept referred to as the /trailing function/\n",
            "is introduced .  it represents the surface-heat-transfer properties\n",
            "and may be evaluated by quite simple but remarkably accurate\n",
            "variational procedures .  the method of /associated fields/ is also\n",
            "generalized to convective phenomena .  the second line of approach\n",
            "extends to convective heat transfer the thermodynamic\n",
            "concept of entropy production for both laminar and turbulent\n",
            "flow .  the theory amounts to an extension of the thermodynamics\n",
            "of irreversible processes to systems for which onsager's\n",
            "relations are not valid .\n",
            "\n",
            "=============================================================\n"
          ]
        }
      ]
    },
    {
      "cell_type": "markdown",
      "source": [
        "2. Removing Blank spaces/ new lines"
      ],
      "metadata": {
        "id": "uQEClzQcFUoL"
      }
    },
    {
      "cell_type": "code",
      "source": [
        "# import re\n",
        "count=0\n",
        "for i in range(len(dataset)):\n",
        "  if(count<5):\n",
        "    print(\"\\nSAMPLE \"+ str(count+1) + \" BEFORE: \\n\\n\" + dataset[i])\n",
        "  # i= re.sub(' +', ' ', i)\n",
        "  # i= \" \".join(i.split())\n",
        "  tokens = dataset[i].split()\n",
        "  tokens = [token for token in tokens if token.strip()]\n",
        "  dataset[i] = \" \".join(tokens)\n",
        "\n",
        "  if(count<5):\n",
        "    print(\"\\nSAMPLE \"+ str(count+1) + \" AFTER: \\n\\n\" + dataset[i]+ '\\n')\n",
        "    print(\"=============================================================\")\n",
        "  count+=1\n",
        "\n"
      ],
      "metadata": {
        "colab": {
          "base_uri": "https://localhost:8080/"
        },
        "id": "WsgGYir6HG5n",
        "outputId": "2a1f0741-d017-438f-e4d6-ac2978263dab"
      },
      "execution_count": 169,
      "outputs": [
        {
          "output_type": "stream",
          "name": "stdout",
          "text": [
            "\n",
            "SAMPLE 1 BEFORE: \n",
            "\n",
            "combinations of temperature and axial compression required\n",
            "for buckling of a ring-stiffened cylinder . a theory is presented to predict the buckling temperature of an\n",
            "axially compressed, uniformly heated ring-stiffened cylinder .  the\n",
            "cylinder buckles because of the interaction of the axial stress due to\n",
            "applied compressive loads and the circumferential stress resulting\n",
            "from restraint of thermal expansion by the rings .  buckling charts\n",
            "covering a wide range of cylinder proportions are presented for both\n",
            "clamped and simply supported cylinders .  the buckling temperature for a\n",
            "given axial loading is determined from a simple equation involving a\n",
            "coefficient given in the buckling charts and the radius-thickness ratio\n",
            "of the cylinder .\n",
            "\n",
            "SAMPLE 1 AFTER: \n",
            "\n",
            "combinations of temperature and axial compression required for buckling of a ring-stiffened cylinder . a theory is presented to predict the buckling temperature of an axially compressed, uniformly heated ring-stiffened cylinder . the cylinder buckles because of the interaction of the axial stress due to applied compressive loads and the circumferential stress resulting from restraint of thermal expansion by the rings . buckling charts covering a wide range of cylinder proportions are presented for both clamped and simply supported cylinders . the buckling temperature for a given axial loading is determined from a simple equation involving a coefficient given in the buckling charts and the radius-thickness ratio of the cylinder .\n",
            "\n",
            "=============================================================\n",
            "\n",
            "SAMPLE 2 BEFORE: \n",
            "\n",
            "cumulative damage in fatigue . the phenomenon of cumulative damage under repeated\n",
            "loads was assumed to be related to the net work absorbed\n",
            "by a specimen .  the number of loading cycles applied\n",
            "expressed as a percentage of the number to failure at a\n",
            "given stress level would be the proportion of useful life\n",
            "expended .  when the total damage, as defined by this\n",
            "concept, reached 100 per cent, the fatigue specimen should\n",
            "fail .  experimental verification of this concept for an\n",
            "aluminum alloy, using different types of specimens, various\n",
            "stress ratios, and various combinations of loading\n",
            "cycles is presented .  these data are also analyzed to provide\n",
            "information on different stress ratios when an s-n\n",
            "curve for any one ratio is known .  results of a sample\n",
            "analysis based on experiments are given .  it is concluded\n",
            "that a simple and conservative analysis is possible\n",
            "using the concept of cumulative fatigue damage .\n",
            "\n",
            "SAMPLE 2 AFTER: \n",
            "\n",
            "cumulative damage in fatigue . the phenomenon of cumulative damage under repeated loads was assumed to be related to the net work absorbed by a specimen . the number of loading cycles applied expressed as a percentage of the number to failure at a given stress level would be the proportion of useful life expended . when the total damage, as defined by this concept, reached 100 per cent, the fatigue specimen should fail . experimental verification of this concept for an aluminum alloy, using different types of specimens, various stress ratios, and various combinations of loading cycles is presented . these data are also analyzed to provide information on different stress ratios when an s-n curve for any one ratio is known . results of a sample analysis based on experiments are given . it is concluded that a simple and conservative analysis is possible using the concept of cumulative fatigue damage .\n",
            "\n",
            "=============================================================\n",
            "\n",
            "SAMPLE 3 BEFORE: \n",
            "\n",
            "the use of models for the determination of critical flutter speeds . the use of model tests in the prediction of full-scale critical flutter\n",
            "speeds is now well established, and the technique of such tests is\n",
            "therefore worthy of discussion . in order to obtain critical speeds for\n",
            "the model within the speed range of ordinary wind tunnels it is\n",
            "necessary that the model should differ in some respect from a mere small\n",
            "suggested by mckinnon wood the modification of the model consists in a\n",
            "reduction of its effective stiffnesses . this method has the defect /in\n",
            "most cases probably not serious/ that the model experiment is conducted\n",
            "at a reynolds number much below that for full-scale . in the present\n",
            "paper it is pointed out that an alternative method of reducing the\n",
            "critical speed is to increase the mass loading of the model and to make\n",
            "the flutter tests in compressed air . * it is then quite feasible to\n",
            "reach the full-scale reynolds number . this method of reducing the\n",
            "critical speeds by a proportionate increase of all effective densities\n",
            "may also be combined with a reduction of the elasticity of the model .\n",
            "the relation of model and full-scale stresses at the critical flutter\n",
            "speeds is considered . where the reduction in critical speed is effected\n",
            " by increase of density only, the model and full-scale stresses are\n",
            "equal . in a model of reduced elasticity the stresses in the wires are\n",
            "the same as for full-scale,  whereas, the stresses in the spars are less\n",
            " than for full-scale . this is in accord with the usual experience that\n",
            "the wires of such a model are the first parts of the structure to fail\n",
            "in a flutter .\n",
            "lastly, the influence of gravity on flutter is considered . this is\n",
            "negligibly small for full-scale, but not necessarily so for the model .\n",
            "gravitational effects can sometimes be corrected by suitable orientation\n",
            " of the model .\n",
            "\n",
            "SAMPLE 3 AFTER: \n",
            "\n",
            "the use of models for the determination of critical flutter speeds . the use of model tests in the prediction of full-scale critical flutter speeds is now well established, and the technique of such tests is therefore worthy of discussion . in order to obtain critical speeds for the model within the speed range of ordinary wind tunnels it is necessary that the model should differ in some respect from a mere small suggested by mckinnon wood the modification of the model consists in a reduction of its effective stiffnesses . this method has the defect /in most cases probably not serious/ that the model experiment is conducted at a reynolds number much below that for full-scale . in the present paper it is pointed out that an alternative method of reducing the critical speed is to increase the mass loading of the model and to make the flutter tests in compressed air . * it is then quite feasible to reach the full-scale reynolds number . this method of reducing the critical speeds by a proportionate increase of all effective densities may also be combined with a reduction of the elasticity of the model . the relation of model and full-scale stresses at the critical flutter speeds is considered . where the reduction in critical speed is effected by increase of density only, the model and full-scale stresses are equal . in a model of reduced elasticity the stresses in the wires are the same as for full-scale, whereas, the stresses in the spars are less than for full-scale . this is in accord with the usual experience that the wires of such a model are the first parts of the structure to fail in a flutter . lastly, the influence of gravity on flutter is considered . this is negligibly small for full-scale, but not necessarily so for the model . gravitational effects can sometimes be corrected by suitable orientation of the model .\n",
            "\n",
            "=============================================================\n",
            "\n",
            "SAMPLE 4 BEFORE: \n",
            "\n",
            "the influence of aerodynamic heating on the flexural\n",
            "rigidity of a thin wing . this report considers the loss of flexural rigidity of a thin wing due\n",
            "to the presence of middle-surface stresses resulting from aerodynamic\n",
            "heating .  the spanwise properties of the wing are assumed constant but\n",
            "the wing section is arbitrary .  the loss of flexural rigidity is\n",
            "comparable with the corresponding loss of torsional rigidity .\n",
            "\n",
            "SAMPLE 4 AFTER: \n",
            "\n",
            "the influence of aerodynamic heating on the flexural rigidity of a thin wing . this report considers the loss of flexural rigidity of a thin wing due to the presence of middle-surface stresses resulting from aerodynamic heating . the spanwise properties of the wing are assumed constant but the wing section is arbitrary . the loss of flexural rigidity is comparable with the corresponding loss of torsional rigidity .\n",
            "\n",
            "=============================================================\n",
            "\n",
            "SAMPLE 5 BEFORE: \n",
            "\n",
            "lagrangian thermodynamics of heat transfer in systems\n",
            "including fluid motion . the lagrangian thermodynamic equations of irreversible\n",
            "processes are extended to convective heat transfer .  this generalization\n",
            "provides equations for the unified analysis of transient\n",
            "heat flow in complex systems comprising solid structures and\n",
            "moving fluids in either laminar or turbulent flow .  the concept\n",
            "of a surface-heat-transfer coefficient is eliminated from the formulation\n",
            ".  the theory is developed along two different lines .  in\n",
            "one approach a new concept referred to as the /trailing function/\n",
            "is introduced .  it represents the surface-heat-transfer properties\n",
            "and may be evaluated by quite simple but remarkably accurate\n",
            "variational procedures .  the method of /associated fields/ is also\n",
            "generalized to convective phenomena .  the second line of approach\n",
            "extends to convective heat transfer the thermodynamic\n",
            "concept of entropy production for both laminar and turbulent\n",
            "flow .  the theory amounts to an extension of the thermodynamics\n",
            "of irreversible processes to systems for which onsager's\n",
            "relations are not valid .\n",
            "\n",
            "SAMPLE 5 AFTER: \n",
            "\n",
            "lagrangian thermodynamics of heat transfer in systems including fluid motion . the lagrangian thermodynamic equations of irreversible processes are extended to convective heat transfer . this generalization provides equations for the unified analysis of transient heat flow in complex systems comprising solid structures and moving fluids in either laminar or turbulent flow . the concept of a surface-heat-transfer coefficient is eliminated from the formulation . the theory is developed along two different lines . in one approach a new concept referred to as the /trailing function/ is introduced . it represents the surface-heat-transfer properties and may be evaluated by quite simple but remarkably accurate variational procedures . the method of /associated fields/ is also generalized to convective phenomena . the second line of approach extends to convective heat transfer the thermodynamic concept of entropy production for both laminar and turbulent flow . the theory amounts to an extension of the thermodynamics of irreversible processes to systems for which onsager's relations are not valid .\n",
            "\n",
            "=============================================================\n"
          ]
        }
      ]
    },
    {
      "cell_type": "code",
      "source": [
        "dataset[0]"
      ],
      "metadata": {
        "colab": {
          "base_uri": "https://localhost:8080/",
          "height": 73
        },
        "id": "o5IPpgzVKyWw",
        "outputId": "cf434810-3013-47bc-d533-1142664a5a20"
      },
      "execution_count": 170,
      "outputs": [
        {
          "output_type": "execute_result",
          "data": {
            "text/plain": [
              "'combinations of temperature and axial compression required for buckling of a ring-stiffened cylinder . a theory is presented to predict the buckling temperature of an axially compressed, uniformly heated ring-stiffened cylinder . the cylinder buckles because of the interaction of the axial stress due to applied compressive loads and the circumferential stress resulting from restraint of thermal expansion by the rings . buckling charts covering a wide range of cylinder proportions are presented for both clamped and simply supported cylinders . the buckling temperature for a given axial loading is determined from a simple equation involving a coefficient given in the buckling charts and the radius-thickness ratio of the cylinder .'"
            ],
            "application/vnd.google.colaboratory.intrinsic+json": {
              "type": "string"
            }
          },
          "metadata": {},
          "execution_count": 170
        }
      ]
    },
    {
      "cell_type": "markdown",
      "source": [
        "3. Tokenization"
      ],
      "metadata": {
        "id": "qAahRBeKJrUs"
      }
    },
    {
      "cell_type": "code",
      "source": [
        "import nltk\n",
        "nltk.download('punkt')\n",
        "from nltk.tokenize import word_tokenize\n",
        "count=0\n",
        "for i in range(len(dataset)):\n",
        "  if(count<5):\n",
        "    print(\"\\nSAMPLE \"+ str(count+1) + \" BEFORE: \\n\\n\" + dataset[i])\n",
        "  dataset[i]= word_tokenize(dataset[i])\n",
        "  # print(i)\n",
        "  if(count<5):\n",
        "    print(\"\\nSAMPLE \"+ str(count+1) + \" AFTER: \\n\\n\", dataset[i], '\\n')\n",
        "    print(\"=============================================================\")\n",
        "  count+=1"
      ],
      "metadata": {
        "colab": {
          "base_uri": "https://localhost:8080/"
        },
        "id": "CYrJW4m2Juq-",
        "outputId": "cae59931-0bdf-467c-b2c1-22c91f046b3e"
      },
      "execution_count": 171,
      "outputs": [
        {
          "output_type": "stream",
          "name": "stderr",
          "text": [
            "[nltk_data] Downloading package punkt to /root/nltk_data...\n",
            "[nltk_data]   Package punkt is already up-to-date!\n"
          ]
        },
        {
          "output_type": "stream",
          "name": "stdout",
          "text": [
            "\n",
            "SAMPLE 1 BEFORE: \n",
            "\n",
            "combinations of temperature and axial compression required for buckling of a ring-stiffened cylinder . a theory is presented to predict the buckling temperature of an axially compressed, uniformly heated ring-stiffened cylinder . the cylinder buckles because of the interaction of the axial stress due to applied compressive loads and the circumferential stress resulting from restraint of thermal expansion by the rings . buckling charts covering a wide range of cylinder proportions are presented for both clamped and simply supported cylinders . the buckling temperature for a given axial loading is determined from a simple equation involving a coefficient given in the buckling charts and the radius-thickness ratio of the cylinder .\n",
            "\n",
            "SAMPLE 1 AFTER: \n",
            "\n",
            " ['combinations', 'of', 'temperature', 'and', 'axial', 'compression', 'required', 'for', 'buckling', 'of', 'a', 'ring-stiffened', 'cylinder', '.', 'a', 'theory', 'is', 'presented', 'to', 'predict', 'the', 'buckling', 'temperature', 'of', 'an', 'axially', 'compressed', ',', 'uniformly', 'heated', 'ring-stiffened', 'cylinder', '.', 'the', 'cylinder', 'buckles', 'because', 'of', 'the', 'interaction', 'of', 'the', 'axial', 'stress', 'due', 'to', 'applied', 'compressive', 'loads', 'and', 'the', 'circumferential', 'stress', 'resulting', 'from', 'restraint', 'of', 'thermal', 'expansion', 'by', 'the', 'rings', '.', 'buckling', 'charts', 'covering', 'a', 'wide', 'range', 'of', 'cylinder', 'proportions', 'are', 'presented', 'for', 'both', 'clamped', 'and', 'simply', 'supported', 'cylinders', '.', 'the', 'buckling', 'temperature', 'for', 'a', 'given', 'axial', 'loading', 'is', 'determined', 'from', 'a', 'simple', 'equation', 'involving', 'a', 'coefficient', 'given', 'in', 'the', 'buckling', 'charts', 'and', 'the', 'radius-thickness', 'ratio', 'of', 'the', 'cylinder', '.'] \n",
            "\n",
            "=============================================================\n",
            "\n",
            "SAMPLE 2 BEFORE: \n",
            "\n",
            "cumulative damage in fatigue . the phenomenon of cumulative damage under repeated loads was assumed to be related to the net work absorbed by a specimen . the number of loading cycles applied expressed as a percentage of the number to failure at a given stress level would be the proportion of useful life expended . when the total damage, as defined by this concept, reached 100 per cent, the fatigue specimen should fail . experimental verification of this concept for an aluminum alloy, using different types of specimens, various stress ratios, and various combinations of loading cycles is presented . these data are also analyzed to provide information on different stress ratios when an s-n curve for any one ratio is known . results of a sample analysis based on experiments are given . it is concluded that a simple and conservative analysis is possible using the concept of cumulative fatigue damage .\n",
            "\n",
            "SAMPLE 2 AFTER: \n",
            "\n",
            " ['cumulative', 'damage', 'in', 'fatigue', '.', 'the', 'phenomenon', 'of', 'cumulative', 'damage', 'under', 'repeated', 'loads', 'was', 'assumed', 'to', 'be', 'related', 'to', 'the', 'net', 'work', 'absorbed', 'by', 'a', 'specimen', '.', 'the', 'number', 'of', 'loading', 'cycles', 'applied', 'expressed', 'as', 'a', 'percentage', 'of', 'the', 'number', 'to', 'failure', 'at', 'a', 'given', 'stress', 'level', 'would', 'be', 'the', 'proportion', 'of', 'useful', 'life', 'expended', '.', 'when', 'the', 'total', 'damage', ',', 'as', 'defined', 'by', 'this', 'concept', ',', 'reached', '100', 'per', 'cent', ',', 'the', 'fatigue', 'specimen', 'should', 'fail', '.', 'experimental', 'verification', 'of', 'this', 'concept', 'for', 'an', 'aluminum', 'alloy', ',', 'using', 'different', 'types', 'of', 'specimens', ',', 'various', 'stress', 'ratios', ',', 'and', 'various', 'combinations', 'of', 'loading', 'cycles', 'is', 'presented', '.', 'these', 'data', 'are', 'also', 'analyzed', 'to', 'provide', 'information', 'on', 'different', 'stress', 'ratios', 'when', 'an', 's-n', 'curve', 'for', 'any', 'one', 'ratio', 'is', 'known', '.', 'results', 'of', 'a', 'sample', 'analysis', 'based', 'on', 'experiments', 'are', 'given', '.', 'it', 'is', 'concluded', 'that', 'a', 'simple', 'and', 'conservative', 'analysis', 'is', 'possible', 'using', 'the', 'concept', 'of', 'cumulative', 'fatigue', 'damage', '.'] \n",
            "\n",
            "=============================================================\n",
            "\n",
            "SAMPLE 3 BEFORE: \n",
            "\n",
            "the use of models for the determination of critical flutter speeds . the use of model tests in the prediction of full-scale critical flutter speeds is now well established, and the technique of such tests is therefore worthy of discussion . in order to obtain critical speeds for the model within the speed range of ordinary wind tunnels it is necessary that the model should differ in some respect from a mere small suggested by mckinnon wood the modification of the model consists in a reduction of its effective stiffnesses . this method has the defect /in most cases probably not serious/ that the model experiment is conducted at a reynolds number much below that for full-scale . in the present paper it is pointed out that an alternative method of reducing the critical speed is to increase the mass loading of the model and to make the flutter tests in compressed air . * it is then quite feasible to reach the full-scale reynolds number . this method of reducing the critical speeds by a proportionate increase of all effective densities may also be combined with a reduction of the elasticity of the model . the relation of model and full-scale stresses at the critical flutter speeds is considered . where the reduction in critical speed is effected by increase of density only, the model and full-scale stresses are equal . in a model of reduced elasticity the stresses in the wires are the same as for full-scale, whereas, the stresses in the spars are less than for full-scale . this is in accord with the usual experience that the wires of such a model are the first parts of the structure to fail in a flutter . lastly, the influence of gravity on flutter is considered . this is negligibly small for full-scale, but not necessarily so for the model . gravitational effects can sometimes be corrected by suitable orientation of the model .\n",
            "\n",
            "SAMPLE 3 AFTER: \n",
            "\n",
            " ['the', 'use', 'of', 'models', 'for', 'the', 'determination', 'of', 'critical', 'flutter', 'speeds', '.', 'the', 'use', 'of', 'model', 'tests', 'in', 'the', 'prediction', 'of', 'full-scale', 'critical', 'flutter', 'speeds', 'is', 'now', 'well', 'established', ',', 'and', 'the', 'technique', 'of', 'such', 'tests', 'is', 'therefore', 'worthy', 'of', 'discussion', '.', 'in', 'order', 'to', 'obtain', 'critical', 'speeds', 'for', 'the', 'model', 'within', 'the', 'speed', 'range', 'of', 'ordinary', 'wind', 'tunnels', 'it', 'is', 'necessary', 'that', 'the', 'model', 'should', 'differ', 'in', 'some', 'respect', 'from', 'a', 'mere', 'small', 'suggested', 'by', 'mckinnon', 'wood', 'the', 'modification', 'of', 'the', 'model', 'consists', 'in', 'a', 'reduction', 'of', 'its', 'effective', 'stiffnesses', '.', 'this', 'method', 'has', 'the', 'defect', '/in', 'most', 'cases', 'probably', 'not', 'serious/', 'that', 'the', 'model', 'experiment', 'is', 'conducted', 'at', 'a', 'reynolds', 'number', 'much', 'below', 'that', 'for', 'full-scale', '.', 'in', 'the', 'present', 'paper', 'it', 'is', 'pointed', 'out', 'that', 'an', 'alternative', 'method', 'of', 'reducing', 'the', 'critical', 'speed', 'is', 'to', 'increase', 'the', 'mass', 'loading', 'of', 'the', 'model', 'and', 'to', 'make', 'the', 'flutter', 'tests', 'in', 'compressed', 'air', '.', '*', 'it', 'is', 'then', 'quite', 'feasible', 'to', 'reach', 'the', 'full-scale', 'reynolds', 'number', '.', 'this', 'method', 'of', 'reducing', 'the', 'critical', 'speeds', 'by', 'a', 'proportionate', 'increase', 'of', 'all', 'effective', 'densities', 'may', 'also', 'be', 'combined', 'with', 'a', 'reduction', 'of', 'the', 'elasticity', 'of', 'the', 'model', '.', 'the', 'relation', 'of', 'model', 'and', 'full-scale', 'stresses', 'at', 'the', 'critical', 'flutter', 'speeds', 'is', 'considered', '.', 'where', 'the', 'reduction', 'in', 'critical', 'speed', 'is', 'effected', 'by', 'increase', 'of', 'density', 'only', ',', 'the', 'model', 'and', 'full-scale', 'stresses', 'are', 'equal', '.', 'in', 'a', 'model', 'of', 'reduced', 'elasticity', 'the', 'stresses', 'in', 'the', 'wires', 'are', 'the', 'same', 'as', 'for', 'full-scale', ',', 'whereas', ',', 'the', 'stresses', 'in', 'the', 'spars', 'are', 'less', 'than', 'for', 'full-scale', '.', 'this', 'is', 'in', 'accord', 'with', 'the', 'usual', 'experience', 'that', 'the', 'wires', 'of', 'such', 'a', 'model', 'are', 'the', 'first', 'parts', 'of', 'the', 'structure', 'to', 'fail', 'in', 'a', 'flutter', '.', 'lastly', ',', 'the', 'influence', 'of', 'gravity', 'on', 'flutter', 'is', 'considered', '.', 'this', 'is', 'negligibly', 'small', 'for', 'full-scale', ',', 'but', 'not', 'necessarily', 'so', 'for', 'the', 'model', '.', 'gravitational', 'effects', 'can', 'sometimes', 'be', 'corrected', 'by', 'suitable', 'orientation', 'of', 'the', 'model', '.'] \n",
            "\n",
            "=============================================================\n",
            "\n",
            "SAMPLE 4 BEFORE: \n",
            "\n",
            "the influence of aerodynamic heating on the flexural rigidity of a thin wing . this report considers the loss of flexural rigidity of a thin wing due to the presence of middle-surface stresses resulting from aerodynamic heating . the spanwise properties of the wing are assumed constant but the wing section is arbitrary . the loss of flexural rigidity is comparable with the corresponding loss of torsional rigidity .\n",
            "\n",
            "SAMPLE 4 AFTER: \n",
            "\n",
            " ['the', 'influence', 'of', 'aerodynamic', 'heating', 'on', 'the', 'flexural', 'rigidity', 'of', 'a', 'thin', 'wing', '.', 'this', 'report', 'considers', 'the', 'loss', 'of', 'flexural', 'rigidity', 'of', 'a', 'thin', 'wing', 'due', 'to', 'the', 'presence', 'of', 'middle-surface', 'stresses', 'resulting', 'from', 'aerodynamic', 'heating', '.', 'the', 'spanwise', 'properties', 'of', 'the', 'wing', 'are', 'assumed', 'constant', 'but', 'the', 'wing', 'section', 'is', 'arbitrary', '.', 'the', 'loss', 'of', 'flexural', 'rigidity', 'is', 'comparable', 'with', 'the', 'corresponding', 'loss', 'of', 'torsional', 'rigidity', '.'] \n",
            "\n",
            "=============================================================\n",
            "\n",
            "SAMPLE 5 BEFORE: \n",
            "\n",
            "lagrangian thermodynamics of heat transfer in systems including fluid motion . the lagrangian thermodynamic equations of irreversible processes are extended to convective heat transfer . this generalization provides equations for the unified analysis of transient heat flow in complex systems comprising solid structures and moving fluids in either laminar or turbulent flow . the concept of a surface-heat-transfer coefficient is eliminated from the formulation . the theory is developed along two different lines . in one approach a new concept referred to as the /trailing function/ is introduced . it represents the surface-heat-transfer properties and may be evaluated by quite simple but remarkably accurate variational procedures . the method of /associated fields/ is also generalized to convective phenomena . the second line of approach extends to convective heat transfer the thermodynamic concept of entropy production for both laminar and turbulent flow . the theory amounts to an extension of the thermodynamics of irreversible processes to systems for which onsager's relations are not valid .\n",
            "\n",
            "SAMPLE 5 AFTER: \n",
            "\n",
            " ['lagrangian', 'thermodynamics', 'of', 'heat', 'transfer', 'in', 'systems', 'including', 'fluid', 'motion', '.', 'the', 'lagrangian', 'thermodynamic', 'equations', 'of', 'irreversible', 'processes', 'are', 'extended', 'to', 'convective', 'heat', 'transfer', '.', 'this', 'generalization', 'provides', 'equations', 'for', 'the', 'unified', 'analysis', 'of', 'transient', 'heat', 'flow', 'in', 'complex', 'systems', 'comprising', 'solid', 'structures', 'and', 'moving', 'fluids', 'in', 'either', 'laminar', 'or', 'turbulent', 'flow', '.', 'the', 'concept', 'of', 'a', 'surface-heat-transfer', 'coefficient', 'is', 'eliminated', 'from', 'the', 'formulation', '.', 'the', 'theory', 'is', 'developed', 'along', 'two', 'different', 'lines', '.', 'in', 'one', 'approach', 'a', 'new', 'concept', 'referred', 'to', 'as', 'the', '/trailing', 'function/', 'is', 'introduced', '.', 'it', 'represents', 'the', 'surface-heat-transfer', 'properties', 'and', 'may', 'be', 'evaluated', 'by', 'quite', 'simple', 'but', 'remarkably', 'accurate', 'variational', 'procedures', '.', 'the', 'method', 'of', '/associated', 'fields/', 'is', 'also', 'generalized', 'to', 'convective', 'phenomena', '.', 'the', 'second', 'line', 'of', 'approach', 'extends', 'to', 'convective', 'heat', 'transfer', 'the', 'thermodynamic', 'concept', 'of', 'entropy', 'production', 'for', 'both', 'laminar', 'and', 'turbulent', 'flow', '.', 'the', 'theory', 'amounts', 'to', 'an', 'extension', 'of', 'the', 'thermodynamics', 'of', 'irreversible', 'processes', 'to', 'systems', 'for', 'which', 'onsager', \"'s\", 'relations', 'are', 'not', 'valid', '.'] \n",
            "\n",
            "=============================================================\n"
          ]
        }
      ]
    },
    {
      "cell_type": "code",
      "source": [
        "dataset[0]"
      ],
      "metadata": {
        "colab": {
          "base_uri": "https://localhost:8080/"
        },
        "id": "7xCXKgh2OfyD",
        "outputId": "1f80263e-df36-4d23-cd1b-b36e30584f86"
      },
      "execution_count": 172,
      "outputs": [
        {
          "output_type": "execute_result",
          "data": {
            "text/plain": [
              "['combinations',\n",
              " 'of',\n",
              " 'temperature',\n",
              " 'and',\n",
              " 'axial',\n",
              " 'compression',\n",
              " 'required',\n",
              " 'for',\n",
              " 'buckling',\n",
              " 'of',\n",
              " 'a',\n",
              " 'ring-stiffened',\n",
              " 'cylinder',\n",
              " '.',\n",
              " 'a',\n",
              " 'theory',\n",
              " 'is',\n",
              " 'presented',\n",
              " 'to',\n",
              " 'predict',\n",
              " 'the',\n",
              " 'buckling',\n",
              " 'temperature',\n",
              " 'of',\n",
              " 'an',\n",
              " 'axially',\n",
              " 'compressed',\n",
              " ',',\n",
              " 'uniformly',\n",
              " 'heated',\n",
              " 'ring-stiffened',\n",
              " 'cylinder',\n",
              " '.',\n",
              " 'the',\n",
              " 'cylinder',\n",
              " 'buckles',\n",
              " 'because',\n",
              " 'of',\n",
              " 'the',\n",
              " 'interaction',\n",
              " 'of',\n",
              " 'the',\n",
              " 'axial',\n",
              " 'stress',\n",
              " 'due',\n",
              " 'to',\n",
              " 'applied',\n",
              " 'compressive',\n",
              " 'loads',\n",
              " 'and',\n",
              " 'the',\n",
              " 'circumferential',\n",
              " 'stress',\n",
              " 'resulting',\n",
              " 'from',\n",
              " 'restraint',\n",
              " 'of',\n",
              " 'thermal',\n",
              " 'expansion',\n",
              " 'by',\n",
              " 'the',\n",
              " 'rings',\n",
              " '.',\n",
              " 'buckling',\n",
              " 'charts',\n",
              " 'covering',\n",
              " 'a',\n",
              " 'wide',\n",
              " 'range',\n",
              " 'of',\n",
              " 'cylinder',\n",
              " 'proportions',\n",
              " 'are',\n",
              " 'presented',\n",
              " 'for',\n",
              " 'both',\n",
              " 'clamped',\n",
              " 'and',\n",
              " 'simply',\n",
              " 'supported',\n",
              " 'cylinders',\n",
              " '.',\n",
              " 'the',\n",
              " 'buckling',\n",
              " 'temperature',\n",
              " 'for',\n",
              " 'a',\n",
              " 'given',\n",
              " 'axial',\n",
              " 'loading',\n",
              " 'is',\n",
              " 'determined',\n",
              " 'from',\n",
              " 'a',\n",
              " 'simple',\n",
              " 'equation',\n",
              " 'involving',\n",
              " 'a',\n",
              " 'coefficient',\n",
              " 'given',\n",
              " 'in',\n",
              " 'the',\n",
              " 'buckling',\n",
              " 'charts',\n",
              " 'and',\n",
              " 'the',\n",
              " 'radius-thickness',\n",
              " 'ratio',\n",
              " 'of',\n",
              " 'the',\n",
              " 'cylinder',\n",
              " '.']"
            ]
          },
          "metadata": {},
          "execution_count": 172
        }
      ]
    },
    {
      "cell_type": "markdown",
      "source": [
        "4. Remove Stopwords\n"
      ],
      "metadata": {
        "id": "Mhgw-JZ6NdaL"
      }
    },
    {
      "cell_type": "code",
      "source": [
        "nltk.download('stopwords')\n",
        "from nltk.corpus import stopwords\n",
        "count=0\n",
        "for i in range(len(dataset)):\n",
        "  if(count<5):\n",
        "    print(\"\\nSAMPLE \"+ str(count+1) + \" BEFORE: \\n\\n\", dataset[i])\n",
        "  stop_words = set(stopwords.words(\"english\"))\n",
        "  dataset[i] = [token for token in dataset[i] if token not in stop_words]\n",
        " \n",
        "#  tokens = [token for token in tokens if token not in stop_words]\n",
        "  if(count<5):\n",
        "    print(\"\\nSAMPLE \"+ str(count+1) + \" AFTER: \\n\\n\", dataset[i], '\\n')\n",
        "    print(\"=============================================================\")\n",
        "  count+=1"
      ],
      "metadata": {
        "colab": {
          "base_uri": "https://localhost:8080/"
        },
        "id": "2qJX6Ch6Nfz_",
        "outputId": "00904567-af1d-4a4d-bbdd-ee3bc67aaff5"
      },
      "execution_count": 173,
      "outputs": [
        {
          "output_type": "stream",
          "name": "stderr",
          "text": [
            "[nltk_data] Downloading package stopwords to /root/nltk_data...\n",
            "[nltk_data]   Package stopwords is already up-to-date!\n"
          ]
        },
        {
          "output_type": "stream",
          "name": "stdout",
          "text": [
            "\n",
            "SAMPLE 1 BEFORE: \n",
            "\n",
            " ['combinations', 'of', 'temperature', 'and', 'axial', 'compression', 'required', 'for', 'buckling', 'of', 'a', 'ring-stiffened', 'cylinder', '.', 'a', 'theory', 'is', 'presented', 'to', 'predict', 'the', 'buckling', 'temperature', 'of', 'an', 'axially', 'compressed', ',', 'uniformly', 'heated', 'ring-stiffened', 'cylinder', '.', 'the', 'cylinder', 'buckles', 'because', 'of', 'the', 'interaction', 'of', 'the', 'axial', 'stress', 'due', 'to', 'applied', 'compressive', 'loads', 'and', 'the', 'circumferential', 'stress', 'resulting', 'from', 'restraint', 'of', 'thermal', 'expansion', 'by', 'the', 'rings', '.', 'buckling', 'charts', 'covering', 'a', 'wide', 'range', 'of', 'cylinder', 'proportions', 'are', 'presented', 'for', 'both', 'clamped', 'and', 'simply', 'supported', 'cylinders', '.', 'the', 'buckling', 'temperature', 'for', 'a', 'given', 'axial', 'loading', 'is', 'determined', 'from', 'a', 'simple', 'equation', 'involving', 'a', 'coefficient', 'given', 'in', 'the', 'buckling', 'charts', 'and', 'the', 'radius-thickness', 'ratio', 'of', 'the', 'cylinder', '.']\n",
            "\n",
            "SAMPLE 1 AFTER: \n",
            "\n",
            " ['combinations', 'temperature', 'axial', 'compression', 'required', 'buckling', 'ring-stiffened', 'cylinder', '.', 'theory', 'presented', 'predict', 'buckling', 'temperature', 'axially', 'compressed', ',', 'uniformly', 'heated', 'ring-stiffened', 'cylinder', '.', 'cylinder', 'buckles', 'interaction', 'axial', 'stress', 'due', 'applied', 'compressive', 'loads', 'circumferential', 'stress', 'resulting', 'restraint', 'thermal', 'expansion', 'rings', '.', 'buckling', 'charts', 'covering', 'wide', 'range', 'cylinder', 'proportions', 'presented', 'clamped', 'simply', 'supported', 'cylinders', '.', 'buckling', 'temperature', 'given', 'axial', 'loading', 'determined', 'simple', 'equation', 'involving', 'coefficient', 'given', 'buckling', 'charts', 'radius-thickness', 'ratio', 'cylinder', '.'] \n",
            "\n",
            "=============================================================\n",
            "\n",
            "SAMPLE 2 BEFORE: \n",
            "\n",
            " ['cumulative', 'damage', 'in', 'fatigue', '.', 'the', 'phenomenon', 'of', 'cumulative', 'damage', 'under', 'repeated', 'loads', 'was', 'assumed', 'to', 'be', 'related', 'to', 'the', 'net', 'work', 'absorbed', 'by', 'a', 'specimen', '.', 'the', 'number', 'of', 'loading', 'cycles', 'applied', 'expressed', 'as', 'a', 'percentage', 'of', 'the', 'number', 'to', 'failure', 'at', 'a', 'given', 'stress', 'level', 'would', 'be', 'the', 'proportion', 'of', 'useful', 'life', 'expended', '.', 'when', 'the', 'total', 'damage', ',', 'as', 'defined', 'by', 'this', 'concept', ',', 'reached', '100', 'per', 'cent', ',', 'the', 'fatigue', 'specimen', 'should', 'fail', '.', 'experimental', 'verification', 'of', 'this', 'concept', 'for', 'an', 'aluminum', 'alloy', ',', 'using', 'different', 'types', 'of', 'specimens', ',', 'various', 'stress', 'ratios', ',', 'and', 'various', 'combinations', 'of', 'loading', 'cycles', 'is', 'presented', '.', 'these', 'data', 'are', 'also', 'analyzed', 'to', 'provide', 'information', 'on', 'different', 'stress', 'ratios', 'when', 'an', 's-n', 'curve', 'for', 'any', 'one', 'ratio', 'is', 'known', '.', 'results', 'of', 'a', 'sample', 'analysis', 'based', 'on', 'experiments', 'are', 'given', '.', 'it', 'is', 'concluded', 'that', 'a', 'simple', 'and', 'conservative', 'analysis', 'is', 'possible', 'using', 'the', 'concept', 'of', 'cumulative', 'fatigue', 'damage', '.']\n",
            "\n",
            "SAMPLE 2 AFTER: \n",
            "\n",
            " ['cumulative', 'damage', 'fatigue', '.', 'phenomenon', 'cumulative', 'damage', 'repeated', 'loads', 'assumed', 'related', 'net', 'work', 'absorbed', 'specimen', '.', 'number', 'loading', 'cycles', 'applied', 'expressed', 'percentage', 'number', 'failure', 'given', 'stress', 'level', 'would', 'proportion', 'useful', 'life', 'expended', '.', 'total', 'damage', ',', 'defined', 'concept', ',', 'reached', '100', 'per', 'cent', ',', 'fatigue', 'specimen', 'fail', '.', 'experimental', 'verification', 'concept', 'aluminum', 'alloy', ',', 'using', 'different', 'types', 'specimens', ',', 'various', 'stress', 'ratios', ',', 'various', 'combinations', 'loading', 'cycles', 'presented', '.', 'data', 'also', 'analyzed', 'provide', 'information', 'different', 'stress', 'ratios', 's-n', 'curve', 'one', 'ratio', 'known', '.', 'results', 'sample', 'analysis', 'based', 'experiments', 'given', '.', 'concluded', 'simple', 'conservative', 'analysis', 'possible', 'using', 'concept', 'cumulative', 'fatigue', 'damage', '.'] \n",
            "\n",
            "=============================================================\n",
            "\n",
            "SAMPLE 3 BEFORE: \n",
            "\n",
            " ['the', 'use', 'of', 'models', 'for', 'the', 'determination', 'of', 'critical', 'flutter', 'speeds', '.', 'the', 'use', 'of', 'model', 'tests', 'in', 'the', 'prediction', 'of', 'full-scale', 'critical', 'flutter', 'speeds', 'is', 'now', 'well', 'established', ',', 'and', 'the', 'technique', 'of', 'such', 'tests', 'is', 'therefore', 'worthy', 'of', 'discussion', '.', 'in', 'order', 'to', 'obtain', 'critical', 'speeds', 'for', 'the', 'model', 'within', 'the', 'speed', 'range', 'of', 'ordinary', 'wind', 'tunnels', 'it', 'is', 'necessary', 'that', 'the', 'model', 'should', 'differ', 'in', 'some', 'respect', 'from', 'a', 'mere', 'small', 'suggested', 'by', 'mckinnon', 'wood', 'the', 'modification', 'of', 'the', 'model', 'consists', 'in', 'a', 'reduction', 'of', 'its', 'effective', 'stiffnesses', '.', 'this', 'method', 'has', 'the', 'defect', '/in', 'most', 'cases', 'probably', 'not', 'serious/', 'that', 'the', 'model', 'experiment', 'is', 'conducted', 'at', 'a', 'reynolds', 'number', 'much', 'below', 'that', 'for', 'full-scale', '.', 'in', 'the', 'present', 'paper', 'it', 'is', 'pointed', 'out', 'that', 'an', 'alternative', 'method', 'of', 'reducing', 'the', 'critical', 'speed', 'is', 'to', 'increase', 'the', 'mass', 'loading', 'of', 'the', 'model', 'and', 'to', 'make', 'the', 'flutter', 'tests', 'in', 'compressed', 'air', '.', '*', 'it', 'is', 'then', 'quite', 'feasible', 'to', 'reach', 'the', 'full-scale', 'reynolds', 'number', '.', 'this', 'method', 'of', 'reducing', 'the', 'critical', 'speeds', 'by', 'a', 'proportionate', 'increase', 'of', 'all', 'effective', 'densities', 'may', 'also', 'be', 'combined', 'with', 'a', 'reduction', 'of', 'the', 'elasticity', 'of', 'the', 'model', '.', 'the', 'relation', 'of', 'model', 'and', 'full-scale', 'stresses', 'at', 'the', 'critical', 'flutter', 'speeds', 'is', 'considered', '.', 'where', 'the', 'reduction', 'in', 'critical', 'speed', 'is', 'effected', 'by', 'increase', 'of', 'density', 'only', ',', 'the', 'model', 'and', 'full-scale', 'stresses', 'are', 'equal', '.', 'in', 'a', 'model', 'of', 'reduced', 'elasticity', 'the', 'stresses', 'in', 'the', 'wires', 'are', 'the', 'same', 'as', 'for', 'full-scale', ',', 'whereas', ',', 'the', 'stresses', 'in', 'the', 'spars', 'are', 'less', 'than', 'for', 'full-scale', '.', 'this', 'is', 'in', 'accord', 'with', 'the', 'usual', 'experience', 'that', 'the', 'wires', 'of', 'such', 'a', 'model', 'are', 'the', 'first', 'parts', 'of', 'the', 'structure', 'to', 'fail', 'in', 'a', 'flutter', '.', 'lastly', ',', 'the', 'influence', 'of', 'gravity', 'on', 'flutter', 'is', 'considered', '.', 'this', 'is', 'negligibly', 'small', 'for', 'full-scale', ',', 'but', 'not', 'necessarily', 'so', 'for', 'the', 'model', '.', 'gravitational', 'effects', 'can', 'sometimes', 'be', 'corrected', 'by', 'suitable', 'orientation', 'of', 'the', 'model', '.']\n",
            "\n",
            "SAMPLE 3 AFTER: \n",
            "\n",
            " ['use', 'models', 'determination', 'critical', 'flutter', 'speeds', '.', 'use', 'model', 'tests', 'prediction', 'full-scale', 'critical', 'flutter', 'speeds', 'well', 'established', ',', 'technique', 'tests', 'therefore', 'worthy', 'discussion', '.', 'order', 'obtain', 'critical', 'speeds', 'model', 'within', 'speed', 'range', 'ordinary', 'wind', 'tunnels', 'necessary', 'model', 'differ', 'respect', 'mere', 'small', 'suggested', 'mckinnon', 'wood', 'modification', 'model', 'consists', 'reduction', 'effective', 'stiffnesses', '.', 'method', 'defect', '/in', 'cases', 'probably', 'serious/', 'model', 'experiment', 'conducted', 'reynolds', 'number', 'much', 'full-scale', '.', 'present', 'paper', 'pointed', 'alternative', 'method', 'reducing', 'critical', 'speed', 'increase', 'mass', 'loading', 'model', 'make', 'flutter', 'tests', 'compressed', 'air', '.', '*', 'quite', 'feasible', 'reach', 'full-scale', 'reynolds', 'number', '.', 'method', 'reducing', 'critical', 'speeds', 'proportionate', 'increase', 'effective', 'densities', 'may', 'also', 'combined', 'reduction', 'elasticity', 'model', '.', 'relation', 'model', 'full-scale', 'stresses', 'critical', 'flutter', 'speeds', 'considered', '.', 'reduction', 'critical', 'speed', 'effected', 'increase', 'density', ',', 'model', 'full-scale', 'stresses', 'equal', '.', 'model', 'reduced', 'elasticity', 'stresses', 'wires', 'full-scale', ',', 'whereas', ',', 'stresses', 'spars', 'less', 'full-scale', '.', 'accord', 'usual', 'experience', 'wires', 'model', 'first', 'parts', 'structure', 'fail', 'flutter', '.', 'lastly', ',', 'influence', 'gravity', 'flutter', 'considered', '.', 'negligibly', 'small', 'full-scale', ',', 'necessarily', 'model', '.', 'gravitational', 'effects', 'sometimes', 'corrected', 'suitable', 'orientation', 'model', '.'] \n",
            "\n",
            "=============================================================\n",
            "\n",
            "SAMPLE 4 BEFORE: \n",
            "\n",
            " ['the', 'influence', 'of', 'aerodynamic', 'heating', 'on', 'the', 'flexural', 'rigidity', 'of', 'a', 'thin', 'wing', '.', 'this', 'report', 'considers', 'the', 'loss', 'of', 'flexural', 'rigidity', 'of', 'a', 'thin', 'wing', 'due', 'to', 'the', 'presence', 'of', 'middle-surface', 'stresses', 'resulting', 'from', 'aerodynamic', 'heating', '.', 'the', 'spanwise', 'properties', 'of', 'the', 'wing', 'are', 'assumed', 'constant', 'but', 'the', 'wing', 'section', 'is', 'arbitrary', '.', 'the', 'loss', 'of', 'flexural', 'rigidity', 'is', 'comparable', 'with', 'the', 'corresponding', 'loss', 'of', 'torsional', 'rigidity', '.']\n",
            "\n",
            "SAMPLE 4 AFTER: \n",
            "\n",
            " ['influence', 'aerodynamic', 'heating', 'flexural', 'rigidity', 'thin', 'wing', '.', 'report', 'considers', 'loss', 'flexural', 'rigidity', 'thin', 'wing', 'due', 'presence', 'middle-surface', 'stresses', 'resulting', 'aerodynamic', 'heating', '.', 'spanwise', 'properties', 'wing', 'assumed', 'constant', 'wing', 'section', 'arbitrary', '.', 'loss', 'flexural', 'rigidity', 'comparable', 'corresponding', 'loss', 'torsional', 'rigidity', '.'] \n",
            "\n",
            "=============================================================\n",
            "\n",
            "SAMPLE 5 BEFORE: \n",
            "\n",
            " ['lagrangian', 'thermodynamics', 'of', 'heat', 'transfer', 'in', 'systems', 'including', 'fluid', 'motion', '.', 'the', 'lagrangian', 'thermodynamic', 'equations', 'of', 'irreversible', 'processes', 'are', 'extended', 'to', 'convective', 'heat', 'transfer', '.', 'this', 'generalization', 'provides', 'equations', 'for', 'the', 'unified', 'analysis', 'of', 'transient', 'heat', 'flow', 'in', 'complex', 'systems', 'comprising', 'solid', 'structures', 'and', 'moving', 'fluids', 'in', 'either', 'laminar', 'or', 'turbulent', 'flow', '.', 'the', 'concept', 'of', 'a', 'surface-heat-transfer', 'coefficient', 'is', 'eliminated', 'from', 'the', 'formulation', '.', 'the', 'theory', 'is', 'developed', 'along', 'two', 'different', 'lines', '.', 'in', 'one', 'approach', 'a', 'new', 'concept', 'referred', 'to', 'as', 'the', '/trailing', 'function/', 'is', 'introduced', '.', 'it', 'represents', 'the', 'surface-heat-transfer', 'properties', 'and', 'may', 'be', 'evaluated', 'by', 'quite', 'simple', 'but', 'remarkably', 'accurate', 'variational', 'procedures', '.', 'the', 'method', 'of', '/associated', 'fields/', 'is', 'also', 'generalized', 'to', 'convective', 'phenomena', '.', 'the', 'second', 'line', 'of', 'approach', 'extends', 'to', 'convective', 'heat', 'transfer', 'the', 'thermodynamic', 'concept', 'of', 'entropy', 'production', 'for', 'both', 'laminar', 'and', 'turbulent', 'flow', '.', 'the', 'theory', 'amounts', 'to', 'an', 'extension', 'of', 'the', 'thermodynamics', 'of', 'irreversible', 'processes', 'to', 'systems', 'for', 'which', 'onsager', \"'s\", 'relations', 'are', 'not', 'valid', '.']\n",
            "\n",
            "SAMPLE 5 AFTER: \n",
            "\n",
            " ['lagrangian', 'thermodynamics', 'heat', 'transfer', 'systems', 'including', 'fluid', 'motion', '.', 'lagrangian', 'thermodynamic', 'equations', 'irreversible', 'processes', 'extended', 'convective', 'heat', 'transfer', '.', 'generalization', 'provides', 'equations', 'unified', 'analysis', 'transient', 'heat', 'flow', 'complex', 'systems', 'comprising', 'solid', 'structures', 'moving', 'fluids', 'either', 'laminar', 'turbulent', 'flow', '.', 'concept', 'surface-heat-transfer', 'coefficient', 'eliminated', 'formulation', '.', 'theory', 'developed', 'along', 'two', 'different', 'lines', '.', 'one', 'approach', 'new', 'concept', 'referred', '/trailing', 'function/', 'introduced', '.', 'represents', 'surface-heat-transfer', 'properties', 'may', 'evaluated', 'quite', 'simple', 'remarkably', 'accurate', 'variational', 'procedures', '.', 'method', '/associated', 'fields/', 'also', 'generalized', 'convective', 'phenomena', '.', 'second', 'line', 'approach', 'extends', 'convective', 'heat', 'transfer', 'thermodynamic', 'concept', 'entropy', 'production', 'laminar', 'turbulent', 'flow', '.', 'theory', 'amounts', 'extension', 'thermodynamics', 'irreversible', 'processes', 'systems', 'onsager', \"'s\", 'relations', 'valid', '.'] \n",
            "\n",
            "=============================================================\n"
          ]
        }
      ]
    },
    {
      "cell_type": "markdown",
      "source": [
        "5. Remove Punctuation"
      ],
      "metadata": {
        "id": "SskdKSBmPuMs"
      }
    },
    {
      "cell_type": "code",
      "source": [
        "import string\n",
        "nltk.download('punkt')    \n",
        "count=0\n",
        "for i in range(len(dataset)):\n",
        "  if(count<5):\n",
        "    print(\"\\nSAMPLE \"+ str(count+1) + \" BEFORE: \\n\\n\", dataset[i])\n",
        "  dataset[i] = [token.translate(str.maketrans(\"\", \"\", string.punctuation)) for token in dataset[i]]\n",
        "  if(count<5):\n",
        "    print(\"\\nSAMPLE \"+ str(count+1) + \" AFTER: \\n\\n\", dataset[i], '\\n')\n",
        "    print(\"=============================================================\")\n",
        "  count+=1"
      ],
      "metadata": {
        "colab": {
          "base_uri": "https://localhost:8080/"
        },
        "id": "EtR5RQOXPxOk",
        "outputId": "edf053c6-820e-47cd-bbdd-6cfbeb21dd03"
      },
      "execution_count": 174,
      "outputs": [
        {
          "output_type": "stream",
          "name": "stderr",
          "text": [
            "[nltk_data] Downloading package punkt to /root/nltk_data...\n",
            "[nltk_data]   Package punkt is already up-to-date!\n"
          ]
        },
        {
          "output_type": "stream",
          "name": "stdout",
          "text": [
            "\n",
            "SAMPLE 1 BEFORE: \n",
            "\n",
            " ['combinations', 'temperature', 'axial', 'compression', 'required', 'buckling', 'ring-stiffened', 'cylinder', '.', 'theory', 'presented', 'predict', 'buckling', 'temperature', 'axially', 'compressed', ',', 'uniformly', 'heated', 'ring-stiffened', 'cylinder', '.', 'cylinder', 'buckles', 'interaction', 'axial', 'stress', 'due', 'applied', 'compressive', 'loads', 'circumferential', 'stress', 'resulting', 'restraint', 'thermal', 'expansion', 'rings', '.', 'buckling', 'charts', 'covering', 'wide', 'range', 'cylinder', 'proportions', 'presented', 'clamped', 'simply', 'supported', 'cylinders', '.', 'buckling', 'temperature', 'given', 'axial', 'loading', 'determined', 'simple', 'equation', 'involving', 'coefficient', 'given', 'buckling', 'charts', 'radius-thickness', 'ratio', 'cylinder', '.']\n",
            "\n",
            "SAMPLE 1 AFTER: \n",
            "\n",
            " ['combinations', 'temperature', 'axial', 'compression', 'required', 'buckling', 'ringstiffened', 'cylinder', '', 'theory', 'presented', 'predict', 'buckling', 'temperature', 'axially', 'compressed', '', 'uniformly', 'heated', 'ringstiffened', 'cylinder', '', 'cylinder', 'buckles', 'interaction', 'axial', 'stress', 'due', 'applied', 'compressive', 'loads', 'circumferential', 'stress', 'resulting', 'restraint', 'thermal', 'expansion', 'rings', '', 'buckling', 'charts', 'covering', 'wide', 'range', 'cylinder', 'proportions', 'presented', 'clamped', 'simply', 'supported', 'cylinders', '', 'buckling', 'temperature', 'given', 'axial', 'loading', 'determined', 'simple', 'equation', 'involving', 'coefficient', 'given', 'buckling', 'charts', 'radiusthickness', 'ratio', 'cylinder', ''] \n",
            "\n",
            "=============================================================\n",
            "\n",
            "SAMPLE 2 BEFORE: \n",
            "\n",
            " ['cumulative', 'damage', 'fatigue', '.', 'phenomenon', 'cumulative', 'damage', 'repeated', 'loads', 'assumed', 'related', 'net', 'work', 'absorbed', 'specimen', '.', 'number', 'loading', 'cycles', 'applied', 'expressed', 'percentage', 'number', 'failure', 'given', 'stress', 'level', 'would', 'proportion', 'useful', 'life', 'expended', '.', 'total', 'damage', ',', 'defined', 'concept', ',', 'reached', '100', 'per', 'cent', ',', 'fatigue', 'specimen', 'fail', '.', 'experimental', 'verification', 'concept', 'aluminum', 'alloy', ',', 'using', 'different', 'types', 'specimens', ',', 'various', 'stress', 'ratios', ',', 'various', 'combinations', 'loading', 'cycles', 'presented', '.', 'data', 'also', 'analyzed', 'provide', 'information', 'different', 'stress', 'ratios', 's-n', 'curve', 'one', 'ratio', 'known', '.', 'results', 'sample', 'analysis', 'based', 'experiments', 'given', '.', 'concluded', 'simple', 'conservative', 'analysis', 'possible', 'using', 'concept', 'cumulative', 'fatigue', 'damage', '.']\n",
            "\n",
            "SAMPLE 2 AFTER: \n",
            "\n",
            " ['cumulative', 'damage', 'fatigue', '', 'phenomenon', 'cumulative', 'damage', 'repeated', 'loads', 'assumed', 'related', 'net', 'work', 'absorbed', 'specimen', '', 'number', 'loading', 'cycles', 'applied', 'expressed', 'percentage', 'number', 'failure', 'given', 'stress', 'level', 'would', 'proportion', 'useful', 'life', 'expended', '', 'total', 'damage', '', 'defined', 'concept', '', 'reached', '100', 'per', 'cent', '', 'fatigue', 'specimen', 'fail', '', 'experimental', 'verification', 'concept', 'aluminum', 'alloy', '', 'using', 'different', 'types', 'specimens', '', 'various', 'stress', 'ratios', '', 'various', 'combinations', 'loading', 'cycles', 'presented', '', 'data', 'also', 'analyzed', 'provide', 'information', 'different', 'stress', 'ratios', 'sn', 'curve', 'one', 'ratio', 'known', '', 'results', 'sample', 'analysis', 'based', 'experiments', 'given', '', 'concluded', 'simple', 'conservative', 'analysis', 'possible', 'using', 'concept', 'cumulative', 'fatigue', 'damage', ''] \n",
            "\n",
            "=============================================================\n",
            "\n",
            "SAMPLE 3 BEFORE: \n",
            "\n",
            " ['use', 'models', 'determination', 'critical', 'flutter', 'speeds', '.', 'use', 'model', 'tests', 'prediction', 'full-scale', 'critical', 'flutter', 'speeds', 'well', 'established', ',', 'technique', 'tests', 'therefore', 'worthy', 'discussion', '.', 'order', 'obtain', 'critical', 'speeds', 'model', 'within', 'speed', 'range', 'ordinary', 'wind', 'tunnels', 'necessary', 'model', 'differ', 'respect', 'mere', 'small', 'suggested', 'mckinnon', 'wood', 'modification', 'model', 'consists', 'reduction', 'effective', 'stiffnesses', '.', 'method', 'defect', '/in', 'cases', 'probably', 'serious/', 'model', 'experiment', 'conducted', 'reynolds', 'number', 'much', 'full-scale', '.', 'present', 'paper', 'pointed', 'alternative', 'method', 'reducing', 'critical', 'speed', 'increase', 'mass', 'loading', 'model', 'make', 'flutter', 'tests', 'compressed', 'air', '.', '*', 'quite', 'feasible', 'reach', 'full-scale', 'reynolds', 'number', '.', 'method', 'reducing', 'critical', 'speeds', 'proportionate', 'increase', 'effective', 'densities', 'may', 'also', 'combined', 'reduction', 'elasticity', 'model', '.', 'relation', 'model', 'full-scale', 'stresses', 'critical', 'flutter', 'speeds', 'considered', '.', 'reduction', 'critical', 'speed', 'effected', 'increase', 'density', ',', 'model', 'full-scale', 'stresses', 'equal', '.', 'model', 'reduced', 'elasticity', 'stresses', 'wires', 'full-scale', ',', 'whereas', ',', 'stresses', 'spars', 'less', 'full-scale', '.', 'accord', 'usual', 'experience', 'wires', 'model', 'first', 'parts', 'structure', 'fail', 'flutter', '.', 'lastly', ',', 'influence', 'gravity', 'flutter', 'considered', '.', 'negligibly', 'small', 'full-scale', ',', 'necessarily', 'model', '.', 'gravitational', 'effects', 'sometimes', 'corrected', 'suitable', 'orientation', 'model', '.']\n",
            "\n",
            "SAMPLE 3 AFTER: \n",
            "\n",
            " ['use', 'models', 'determination', 'critical', 'flutter', 'speeds', '', 'use', 'model', 'tests', 'prediction', 'fullscale', 'critical', 'flutter', 'speeds', 'well', 'established', '', 'technique', 'tests', 'therefore', 'worthy', 'discussion', '', 'order', 'obtain', 'critical', 'speeds', 'model', 'within', 'speed', 'range', 'ordinary', 'wind', 'tunnels', 'necessary', 'model', 'differ', 'respect', 'mere', 'small', 'suggested', 'mckinnon', 'wood', 'modification', 'model', 'consists', 'reduction', 'effective', 'stiffnesses', '', 'method', 'defect', 'in', 'cases', 'probably', 'serious', 'model', 'experiment', 'conducted', 'reynolds', 'number', 'much', 'fullscale', '', 'present', 'paper', 'pointed', 'alternative', 'method', 'reducing', 'critical', 'speed', 'increase', 'mass', 'loading', 'model', 'make', 'flutter', 'tests', 'compressed', 'air', '', '', 'quite', 'feasible', 'reach', 'fullscale', 'reynolds', 'number', '', 'method', 'reducing', 'critical', 'speeds', 'proportionate', 'increase', 'effective', 'densities', 'may', 'also', 'combined', 'reduction', 'elasticity', 'model', '', 'relation', 'model', 'fullscale', 'stresses', 'critical', 'flutter', 'speeds', 'considered', '', 'reduction', 'critical', 'speed', 'effected', 'increase', 'density', '', 'model', 'fullscale', 'stresses', 'equal', '', 'model', 'reduced', 'elasticity', 'stresses', 'wires', 'fullscale', '', 'whereas', '', 'stresses', 'spars', 'less', 'fullscale', '', 'accord', 'usual', 'experience', 'wires', 'model', 'first', 'parts', 'structure', 'fail', 'flutter', '', 'lastly', '', 'influence', 'gravity', 'flutter', 'considered', '', 'negligibly', 'small', 'fullscale', '', 'necessarily', 'model', '', 'gravitational', 'effects', 'sometimes', 'corrected', 'suitable', 'orientation', 'model', ''] \n",
            "\n",
            "=============================================================\n",
            "\n",
            "SAMPLE 4 BEFORE: \n",
            "\n",
            " ['influence', 'aerodynamic', 'heating', 'flexural', 'rigidity', 'thin', 'wing', '.', 'report', 'considers', 'loss', 'flexural', 'rigidity', 'thin', 'wing', 'due', 'presence', 'middle-surface', 'stresses', 'resulting', 'aerodynamic', 'heating', '.', 'spanwise', 'properties', 'wing', 'assumed', 'constant', 'wing', 'section', 'arbitrary', '.', 'loss', 'flexural', 'rigidity', 'comparable', 'corresponding', 'loss', 'torsional', 'rigidity', '.']\n",
            "\n",
            "SAMPLE 4 AFTER: \n",
            "\n",
            " ['influence', 'aerodynamic', 'heating', 'flexural', 'rigidity', 'thin', 'wing', '', 'report', 'considers', 'loss', 'flexural', 'rigidity', 'thin', 'wing', 'due', 'presence', 'middlesurface', 'stresses', 'resulting', 'aerodynamic', 'heating', '', 'spanwise', 'properties', 'wing', 'assumed', 'constant', 'wing', 'section', 'arbitrary', '', 'loss', 'flexural', 'rigidity', 'comparable', 'corresponding', 'loss', 'torsional', 'rigidity', ''] \n",
            "\n",
            "=============================================================\n",
            "\n",
            "SAMPLE 5 BEFORE: \n",
            "\n",
            " ['lagrangian', 'thermodynamics', 'heat', 'transfer', 'systems', 'including', 'fluid', 'motion', '.', 'lagrangian', 'thermodynamic', 'equations', 'irreversible', 'processes', 'extended', 'convective', 'heat', 'transfer', '.', 'generalization', 'provides', 'equations', 'unified', 'analysis', 'transient', 'heat', 'flow', 'complex', 'systems', 'comprising', 'solid', 'structures', 'moving', 'fluids', 'either', 'laminar', 'turbulent', 'flow', '.', 'concept', 'surface-heat-transfer', 'coefficient', 'eliminated', 'formulation', '.', 'theory', 'developed', 'along', 'two', 'different', 'lines', '.', 'one', 'approach', 'new', 'concept', 'referred', '/trailing', 'function/', 'introduced', '.', 'represents', 'surface-heat-transfer', 'properties', 'may', 'evaluated', 'quite', 'simple', 'remarkably', 'accurate', 'variational', 'procedures', '.', 'method', '/associated', 'fields/', 'also', 'generalized', 'convective', 'phenomena', '.', 'second', 'line', 'approach', 'extends', 'convective', 'heat', 'transfer', 'thermodynamic', 'concept', 'entropy', 'production', 'laminar', 'turbulent', 'flow', '.', 'theory', 'amounts', 'extension', 'thermodynamics', 'irreversible', 'processes', 'systems', 'onsager', \"'s\", 'relations', 'valid', '.']\n",
            "\n",
            "SAMPLE 5 AFTER: \n",
            "\n",
            " ['lagrangian', 'thermodynamics', 'heat', 'transfer', 'systems', 'including', 'fluid', 'motion', '', 'lagrangian', 'thermodynamic', 'equations', 'irreversible', 'processes', 'extended', 'convective', 'heat', 'transfer', '', 'generalization', 'provides', 'equations', 'unified', 'analysis', 'transient', 'heat', 'flow', 'complex', 'systems', 'comprising', 'solid', 'structures', 'moving', 'fluids', 'either', 'laminar', 'turbulent', 'flow', '', 'concept', 'surfaceheattransfer', 'coefficient', 'eliminated', 'formulation', '', 'theory', 'developed', 'along', 'two', 'different', 'lines', '', 'one', 'approach', 'new', 'concept', 'referred', 'trailing', 'function', 'introduced', '', 'represents', 'surfaceheattransfer', 'properties', 'may', 'evaluated', 'quite', 'simple', 'remarkably', 'accurate', 'variational', 'procedures', '', 'method', 'associated', 'fields', 'also', 'generalized', 'convective', 'phenomena', '', 'second', 'line', 'approach', 'extends', 'convective', 'heat', 'transfer', 'thermodynamic', 'concept', 'entropy', 'production', 'laminar', 'turbulent', 'flow', '', 'theory', 'amounts', 'extension', 'thermodynamics', 'irreversible', 'processes', 'systems', 'onsager', 's', 'relations', 'valid', ''] \n",
            "\n",
            "=============================================================\n"
          ]
        }
      ]
    },
    {
      "cell_type": "markdown",
      "source": [
        "6. Remove blank space tokens"
      ],
      "metadata": {
        "id": "A_pke2YcQnMW"
      }
    },
    {
      "cell_type": "code",
      "source": [
        "import string\n",
        "nltk.download('punkt')    \n",
        "count=0\n",
        "for i in range(len(dataset)):\n",
        "  if(count<5):\n",
        "    print(\"\\nSAMPLE \"+ str(count+1) + \" BEFORE: \\n\\n\", dataset[i])\n",
        "  dataset[i] = [token for token in dataset[i] if token.strip()]\n",
        "  if(count<5):\n",
        "    print(\"\\nSAMPLE \"+ str(count+1) + \" AFTER: \\n\\n\", dataset[i], '\\n')\n",
        "    print(\"=============================================================\")\n",
        "  count+=1"
      ],
      "metadata": {
        "colab": {
          "base_uri": "https://localhost:8080/"
        },
        "id": "U4kRjZAlQrdf",
        "outputId": "e311be89-4605-412a-8cef-c55912f4baac"
      },
      "execution_count": 175,
      "outputs": [
        {
          "output_type": "stream",
          "name": "stdout",
          "text": [
            "\n",
            "SAMPLE 1 BEFORE: \n",
            "\n",
            " ['combinations', 'temperature', 'axial', 'compression', 'required', 'buckling', 'ringstiffened', 'cylinder', '', 'theory', 'presented', 'predict', 'buckling', 'temperature', 'axially', 'compressed', '', 'uniformly', 'heated', 'ringstiffened', 'cylinder', '', 'cylinder', 'buckles', 'interaction', 'axial', 'stress', 'due', 'applied', 'compressive', 'loads', 'circumferential', 'stress', 'resulting', 'restraint', 'thermal', 'expansion', 'rings', '', 'buckling', 'charts', 'covering', 'wide', 'range', 'cylinder', 'proportions', 'presented', 'clamped', 'simply', 'supported', 'cylinders', '', 'buckling', 'temperature', 'given', 'axial', 'loading', 'determined', 'simple', 'equation', 'involving', 'coefficient', 'given', 'buckling', 'charts', 'radiusthickness', 'ratio', 'cylinder', '']\n",
            "\n",
            "SAMPLE 1 AFTER: \n",
            "\n",
            " ['combinations', 'temperature', 'axial', 'compression', 'required', 'buckling', 'ringstiffened', 'cylinder', 'theory', 'presented', 'predict', 'buckling', 'temperature', 'axially', 'compressed', 'uniformly', 'heated', 'ringstiffened', 'cylinder', 'cylinder', 'buckles', 'interaction', 'axial', 'stress', 'due', 'applied', 'compressive', 'loads', 'circumferential', 'stress', 'resulting', 'restraint', 'thermal', 'expansion', 'rings', 'buckling', 'charts', 'covering', 'wide', 'range', 'cylinder', 'proportions', 'presented', 'clamped', 'simply', 'supported', 'cylinders', 'buckling', 'temperature', 'given', 'axial', 'loading', 'determined', 'simple', 'equation', 'involving', 'coefficient', 'given', 'buckling', 'charts', 'radiusthickness', 'ratio', 'cylinder'] \n",
            "\n",
            "=============================================================\n",
            "\n",
            "SAMPLE 2 BEFORE: \n",
            "\n",
            " ['cumulative', 'damage', 'fatigue', '', 'phenomenon', 'cumulative', 'damage', 'repeated', 'loads', 'assumed', 'related', 'net', 'work', 'absorbed', 'specimen', '', 'number', 'loading', 'cycles', 'applied', 'expressed', 'percentage', 'number', 'failure', 'given', 'stress', 'level', 'would', 'proportion', 'useful', 'life', 'expended', '', 'total', 'damage', '', 'defined', 'concept', '', 'reached', '100', 'per', 'cent', '', 'fatigue', 'specimen', 'fail', '', 'experimental', 'verification', 'concept', 'aluminum', 'alloy', '', 'using', 'different', 'types', 'specimens', '', 'various', 'stress', 'ratios', '', 'various', 'combinations', 'loading', 'cycles', 'presented', '', 'data', 'also', 'analyzed', 'provide', 'information', 'different', 'stress', 'ratios', 'sn', 'curve', 'one', 'ratio', 'known', '', 'results', 'sample', 'analysis', 'based', 'experiments', 'given', '', 'concluded', 'simple', 'conservative', 'analysis', 'possible', 'using', 'concept', 'cumulative', 'fatigue', 'damage', '']\n",
            "\n",
            "SAMPLE 2 AFTER: \n",
            "\n",
            " ['cumulative', 'damage', 'fatigue', 'phenomenon', 'cumulative', 'damage', 'repeated', 'loads', 'assumed', 'related', 'net', 'work', 'absorbed', 'specimen', 'number', 'loading', 'cycles', 'applied', 'expressed', 'percentage', 'number', 'failure', 'given', 'stress', 'level', 'would', 'proportion', 'useful', 'life', 'expended', 'total', 'damage', 'defined', 'concept', 'reached', '100', 'per', 'cent', 'fatigue', 'specimen', 'fail', 'experimental', 'verification', 'concept', 'aluminum', 'alloy', 'using', 'different', 'types', 'specimens', 'various', 'stress', 'ratios', 'various', 'combinations', 'loading', 'cycles', 'presented', 'data', 'also', 'analyzed', 'provide', 'information', 'different', 'stress', 'ratios', 'sn', 'curve', 'one', 'ratio', 'known', 'results', 'sample', 'analysis', 'based', 'experiments', 'given', 'concluded', 'simple', 'conservative', 'analysis', 'possible', 'using', 'concept', 'cumulative', 'fatigue', 'damage'] \n",
            "\n",
            "=============================================================\n",
            "\n",
            "SAMPLE 3 BEFORE: \n",
            "\n",
            " ['use', 'models', 'determination', 'critical', 'flutter', 'speeds', '', 'use', 'model', 'tests', 'prediction', 'fullscale', 'critical', 'flutter', 'speeds', 'well', 'established', '', 'technique', 'tests', 'therefore', 'worthy', 'discussion', '', 'order', 'obtain', 'critical', 'speeds', 'model', 'within', 'speed', 'range', 'ordinary', 'wind', 'tunnels', 'necessary', 'model', 'differ', 'respect', 'mere', 'small', 'suggested', 'mckinnon', 'wood', 'modification', 'model', 'consists', 'reduction', 'effective', 'stiffnesses', '', 'method', 'defect', 'in', 'cases', 'probably', 'serious', 'model', 'experiment', 'conducted', 'reynolds', 'number', 'much', 'fullscale', '', 'present', 'paper', 'pointed', 'alternative', 'method', 'reducing', 'critical', 'speed', 'increase', 'mass', 'loading', 'model', 'make', 'flutter', 'tests', 'compressed', 'air', '', '', 'quite', 'feasible', 'reach', 'fullscale', 'reynolds', 'number', '', 'method', 'reducing', 'critical', 'speeds', 'proportionate', 'increase', 'effective', 'densities', 'may', 'also', 'combined', 'reduction', 'elasticity', 'model', '', 'relation', 'model', 'fullscale', 'stresses', 'critical', 'flutter', 'speeds', 'considered', '', 'reduction', 'critical', 'speed', 'effected', 'increase', 'density', '', 'model', 'fullscale', 'stresses', 'equal', '', 'model', 'reduced', 'elasticity', 'stresses', 'wires', 'fullscale', '', 'whereas', '', 'stresses', 'spars', 'less', 'fullscale', '', 'accord', 'usual', 'experience', 'wires', 'model', 'first', 'parts', 'structure', 'fail', 'flutter', '', 'lastly', '', 'influence', 'gravity', 'flutter', 'considered', '', 'negligibly', 'small', 'fullscale', '', 'necessarily', 'model', '', 'gravitational', 'effects', 'sometimes', 'corrected', 'suitable', 'orientation', 'model', '']\n",
            "\n",
            "SAMPLE 3 AFTER: \n",
            "\n",
            " ['use', 'models', 'determination', 'critical', 'flutter', 'speeds', 'use', 'model', 'tests', 'prediction', 'fullscale', 'critical', 'flutter', 'speeds', 'well', 'established', 'technique', 'tests', 'therefore', 'worthy', 'discussion', 'order', 'obtain', 'critical', 'speeds', 'model', 'within', 'speed', 'range', 'ordinary', 'wind', 'tunnels', 'necessary', 'model', 'differ', 'respect', 'mere', 'small', 'suggested', 'mckinnon', 'wood', 'modification', 'model', 'consists', 'reduction', 'effective', 'stiffnesses', 'method', 'defect', 'in', 'cases', 'probably', 'serious', 'model', 'experiment', 'conducted', 'reynolds', 'number', 'much', 'fullscale', 'present', 'paper', 'pointed', 'alternative', 'method', 'reducing', 'critical', 'speed', 'increase', 'mass', 'loading', 'model', 'make', 'flutter', 'tests', 'compressed', 'air', 'quite', 'feasible', 'reach', 'fullscale', 'reynolds', 'number', 'method', 'reducing', 'critical', 'speeds', 'proportionate', 'increase', 'effective', 'densities', 'may', 'also', 'combined', 'reduction', 'elasticity', 'model', 'relation', 'model', 'fullscale', 'stresses', 'critical', 'flutter', 'speeds', 'considered', 'reduction', 'critical', 'speed', 'effected', 'increase', 'density', 'model', 'fullscale', 'stresses', 'equal', 'model', 'reduced', 'elasticity', 'stresses', 'wires', 'fullscale', 'whereas', 'stresses', 'spars', 'less', 'fullscale', 'accord', 'usual', 'experience', 'wires', 'model', 'first', 'parts', 'structure', 'fail', 'flutter', 'lastly', 'influence', 'gravity', 'flutter', 'considered', 'negligibly', 'small', 'fullscale', 'necessarily', 'model', 'gravitational', 'effects', 'sometimes', 'corrected', 'suitable', 'orientation', 'model'] \n",
            "\n",
            "=============================================================\n",
            "\n",
            "SAMPLE 4 BEFORE: \n",
            "\n",
            " ['influence', 'aerodynamic', 'heating', 'flexural', 'rigidity', 'thin', 'wing', '', 'report', 'considers', 'loss', 'flexural', 'rigidity', 'thin', 'wing', 'due', 'presence', 'middlesurface', 'stresses', 'resulting', 'aerodynamic', 'heating', '', 'spanwise', 'properties', 'wing', 'assumed', 'constant', 'wing', 'section', 'arbitrary', '', 'loss', 'flexural', 'rigidity', 'comparable', 'corresponding', 'loss', 'torsional', 'rigidity', '']\n",
            "\n",
            "SAMPLE 4 AFTER: \n",
            "\n",
            " ['influence', 'aerodynamic', 'heating', 'flexural', 'rigidity', 'thin', 'wing', 'report', 'considers', 'loss', 'flexural', 'rigidity', 'thin', 'wing', 'due', 'presence', 'middlesurface', 'stresses', 'resulting', 'aerodynamic', 'heating', 'spanwise', 'properties', 'wing', 'assumed', 'constant', 'wing', 'section', 'arbitrary', 'loss', 'flexural', 'rigidity', 'comparable', 'corresponding', 'loss', 'torsional', 'rigidity'] \n",
            "\n",
            "=============================================================\n",
            "\n",
            "SAMPLE 5 BEFORE: \n",
            "\n",
            " ['lagrangian', 'thermodynamics', 'heat', 'transfer', 'systems', 'including', 'fluid', 'motion', '', 'lagrangian', 'thermodynamic', 'equations', 'irreversible', 'processes', 'extended', 'convective', 'heat', 'transfer', '', 'generalization', 'provides', 'equations', 'unified', 'analysis', 'transient', 'heat', 'flow', 'complex', 'systems', 'comprising', 'solid', 'structures', 'moving', 'fluids', 'either', 'laminar', 'turbulent', 'flow', '', 'concept', 'surfaceheattransfer', 'coefficient', 'eliminated', 'formulation', '', 'theory', 'developed', 'along', 'two', 'different', 'lines', '', 'one', 'approach', 'new', 'concept', 'referred', 'trailing', 'function', 'introduced', '', 'represents', 'surfaceheattransfer', 'properties', 'may', 'evaluated', 'quite', 'simple', 'remarkably', 'accurate', 'variational', 'procedures', '', 'method', 'associated', 'fields', 'also', 'generalized', 'convective', 'phenomena', '', 'second', 'line', 'approach', 'extends', 'convective', 'heat', 'transfer', 'thermodynamic', 'concept', 'entropy', 'production', 'laminar', 'turbulent', 'flow', '', 'theory', 'amounts', 'extension', 'thermodynamics', 'irreversible', 'processes', 'systems', 'onsager', 's', 'relations', 'valid', '']\n",
            "\n",
            "SAMPLE 5 AFTER: \n",
            "\n",
            " ['lagrangian', 'thermodynamics', 'heat', 'transfer', 'systems', 'including', 'fluid', 'motion', 'lagrangian', 'thermodynamic', 'equations', 'irreversible', 'processes', 'extended', 'convective', 'heat', 'transfer', 'generalization', 'provides', 'equations', 'unified', 'analysis', 'transient', 'heat', 'flow', 'complex', 'systems', 'comprising', 'solid', 'structures', 'moving', 'fluids', 'either', 'laminar', 'turbulent', 'flow', 'concept', 'surfaceheattransfer', 'coefficient', 'eliminated', 'formulation', 'theory', 'developed', 'along', 'two', 'different', 'lines', 'one', 'approach', 'new', 'concept', 'referred', 'trailing', 'function', 'introduced', 'represents', 'surfaceheattransfer', 'properties', 'may', 'evaluated', 'quite', 'simple', 'remarkably', 'accurate', 'variational', 'procedures', 'method', 'associated', 'fields', 'also', 'generalized', 'convective', 'phenomena', 'second', 'line', 'approach', 'extends', 'convective', 'heat', 'transfer', 'thermodynamic', 'concept', 'entropy', 'production', 'laminar', 'turbulent', 'flow', 'theory', 'amounts', 'extension', 'thermodynamics', 'irreversible', 'processes', 'systems', 'onsager', 's', 'relations', 'valid'] \n",
            "\n",
            "=============================================================\n"
          ]
        },
        {
          "output_type": "stream",
          "name": "stderr",
          "text": [
            "[nltk_data] Downloading package punkt to /root/nltk_data...\n",
            "[nltk_data]   Package punkt is already up-to-date!\n"
          ]
        }
      ]
    },
    {
      "cell_type": "code",
      "source": [
        "finaldataset= dataset"
      ],
      "metadata": {
        "id": "B5dnb9TLQmlX"
      },
      "execution_count": 176,
      "outputs": []
    },
    {
      "cell_type": "markdown",
      "source": [
        "# Q2) BOOLEAN QUERIES"
      ],
      "metadata": {
        "id": "e0Nb7T7CdU-S"
      }
    },
    {
      "cell_type": "markdown",
      "source": [
        "(i) Inverted Index\n"
      ],
      "metadata": {
        "id": "UxgSKjDgeXS9"
      }
    },
    {
      "cell_type": "code",
      "source": [
        "corpus=[] # [[term: docid], [term: docid ]\n",
        "corpus_words = []\n",
        "# word_freq=\n",
        "for i in range(len(dataset)):\n",
        "  for k in range(len(dataset[i])):\n",
        "    temp = [dataset[i][k], i]\n",
        "    corpus.append(temp)\n",
        "\n",
        "corpus=sorted(corpus,key=lambda l:l[0])\n",
        "corpus[55000:55123]"
      ],
      "metadata": {
        "colab": {
          "base_uri": "https://localhost:8080/"
        },
        "id": "HJNv2cqxdUtn",
        "outputId": "ea41b1d6-0a0e-4c58-c097-bc9cfbe15439"
      },
      "execution_count": 204,
      "outputs": [
        {
          "output_type": "execute_result",
          "data": {
            "text/plain": [
              "[['improve', 119],\n",
              " ['improve', 162],\n",
              " ['improve', 346],\n",
              " ['improve', 362],\n",
              " ['improve', 552],\n",
              " ['improve', 963],\n",
              " ['improve', 1053],\n",
              " ['improve', 1239],\n",
              " ['improved', 30],\n",
              " ['improved', 33],\n",
              " ['improved', 205],\n",
              " ['improved', 208],\n",
              " ['improved', 233],\n",
              " ['improved', 258],\n",
              " ['improved', 355],\n",
              " ['improved', 355],\n",
              " ['improved', 438],\n",
              " ['improved', 477],\n",
              " ['improved', 552],\n",
              " ['improved', 577],\n",
              " ['improved', 587],\n",
              " ['improved', 677],\n",
              " ['improved', 723],\n",
              " ['improved', 933],\n",
              " ['improved', 957],\n",
              " ['improved', 1222],\n",
              " ['improved', 1291],\n",
              " ['improvement', 130],\n",
              " ['improvement', 133],\n",
              " ['improvement', 133],\n",
              " ['improvement', 279],\n",
              " ['improvement', 439],\n",
              " ['improvement', 445],\n",
              " ['improvement', 552],\n",
              " ['improvement', 552],\n",
              " ['improvement', 654],\n",
              " ['improvement', 654],\n",
              " ['improvement', 654],\n",
              " ['improvement', 654],\n",
              " ['improvement', 842],\n",
              " ['improvement', 878],\n",
              " ['improvement', 884],\n",
              " ['improvement', 1045],\n",
              " ['improvement', 1102],\n",
              " ['improvement', 1144],\n",
              " ['improvement', 1395],\n",
              " ['improvements', 182],\n",
              " ['improvements', 467],\n",
              " ['improvements', 486],\n",
              " ['improving', 494],\n",
              " ['improving', 570],\n",
              " ['improving', 570],\n",
              " ['impulse', 1236],\n",
              " ['impulse', 1236],\n",
              " ['impulse', 1237],\n",
              " ['impulse', 1237],\n",
              " ['impulse', 1248],\n",
              " ['impulsive', 192],\n",
              " ['impulsive', 742],\n",
              " ['impulsive', 1031],\n",
              " ['impulsively', 692],\n",
              " ['impulsively', 768],\n",
              " ['in', 2],\n",
              " ['in', 444],\n",
              " ['in', 444],\n",
              " ['in', 744],\n",
              " ['in', 777],\n",
              " ['in', 777],\n",
              " ['in', 1334],\n",
              " ['inaccessible', 1264],\n",
              " ['inaccuracies', 63],\n",
              " ['inaccuracies', 912],\n",
              " ['inaccuracies', 1330],\n",
              " ['inaccurate', 455],\n",
              " ['inaccurate', 1239],\n",
              " ['inadequacy', 156],\n",
              " ['inadequacy', 958],\n",
              " ['inadequacy', 1372],\n",
              " ['inadequate', 55],\n",
              " ['inadequate', 165],\n",
              " ['inadequate', 795],\n",
              " ['inadequate', 958],\n",
              " ['inadequate', 1061],\n",
              " ['inadequate', 1080],\n",
              " ['inadequate', 1240],\n",
              " ['inadequate', 1395],\n",
              " ['inadmissable', 1040],\n",
              " ['inadvertently', 1357],\n",
              " ['inafinite', 1193],\n",
              " ['inapplicable', 377],\n",
              " ['inappropriate', 719],\n",
              " ['inasmuch', 605],\n",
              " ['inboard', 584],\n",
              " ['inch', 316],\n",
              " ['inch', 375],\n",
              " ['inch', 521],\n",
              " ['inch', 617],\n",
              " ['inch', 751],\n",
              " ['inch', 976],\n",
              " ['inch', 976],\n",
              " ['inch', 1074],\n",
              " ['inch', 1074],\n",
              " ['inch', 1101],\n",
              " ['inch', 1242],\n",
              " ['inch', 1358],\n",
              " ['inches', 170],\n",
              " ['inches', 180],\n",
              " ['inches', 521],\n",
              " ['inches', 762],\n",
              " ['inches', 1039],\n",
              " ['inches', 1086],\n",
              " ['inches', 1199],\n",
              " ['incidence', 42],\n",
              " ['incidence', 42],\n",
              " ['incidence', 44],\n",
              " ['incidence', 44],\n",
              " ['incidence', 44],\n",
              " ['incidence', 51],\n",
              " ['incidence', 103],\n",
              " ['incidence', 105],\n",
              " ['incidence', 108],\n",
              " ['incidence', 109],\n",
              " ['incidence', 110]]"
            ]
          },
          "metadata": {},
          "execution_count": 204
        }
      ]
    },
    {
      "cell_type": "code",
      "source": [
        "# inverted_index={} # {\"term\": [doc freq, list of docs]}\n",
        "\n",
        "# for i in range(len(dataset)):\n",
        "#   # doc_freq=0\n",
        "#   doc_id=[]\n",
        "#   for k in range(len(dataset[i])):\n",
        "#     if(dataset[i][k] not in inverted_index):\n",
        "#       # doc_freq=1\n",
        "#       doc_id.append(i)\n",
        "#       temp = [1, doc_id]\n",
        "#       inverted_index[dataset[i][k]] = temp\n",
        "\n",
        "#     else:\n",
        "#       inverted_index[dataset[i][k]][0]+=1\n",
        "#       doc_id.append(i)\n",
        "#       inverted_index[dataset[i][k]] = inverted_index[dataset[i][k]][0], doc_id\n",
        "\n",
        "\n",
        "# inverted_index"
      ],
      "metadata": {
        "id": "vS24B-1WnOEh"
      },
      "execution_count": null,
      "outputs": []
    },
    {
      "cell_type": "code",
      "source": [
        "inverted_index = {}\n",
        "\n",
        "for i, doc in enumerate(dataset):\n",
        "    for term in doc:\n",
        "        if term not in inverted_index:\n",
        "            inverted_index[term] = [1, [i]]\n",
        "        else:\n",
        "            inverted_index[term][0] += 1\n",
        "            if i not in inverted_index[term][1]:\n",
        "                inverted_index[term][1].append(i)\n",
        "\n",
        "inverted_index"
      ],
      "metadata": {
        "id": "mXL2yUJ4wjdB"
      },
      "execution_count": null,
      "outputs": []
    },
    {
      "cell_type": "markdown",
      "source": [
        "## 2. Use Python’s pickle module to save and load the unigram inverted index."
      ],
      "metadata": {
        "id": "U-l_Rfo90vd8"
      }
    },
    {
      "cell_type": "code",
      "source": [
        "import pickle\n",
        "\n",
        "with open('inverted_index.pkl', 'wb') as f:\n",
        "    pickle.dump(inverted_index, f)\n",
        "\n",
        "with open('inverted_index.pkl', 'rb') as f:\n",
        "    loaded_index = pickle.load(f)\n",
        "\n",
        "# check that the loaded index is the same as the original index\n",
        "print(loaded_index == inverted_index)"
      ],
      "metadata": {
        "colab": {
          "base_uri": "https://localhost:8080/"
        },
        "id": "Cu5lZv-6Ffx_",
        "outputId": "5d0fa910-fe55-42a7-94f0-30cc16c2e38c"
      },
      "execution_count": 246,
      "outputs": [
        {
          "output_type": "stream",
          "name": "stdout",
          "text": [
            "True\n"
          ]
        }
      ]
    },
    {
      "cell_type": "markdown",
      "source": [
        "## Query input taking"
      ],
      "metadata": {
        "id": "X5AEWfjr1QXC"
      }
    },
    {
      "cell_type": "code",
      "source": [
        "import nltk\n",
        "nltk.download('punkt')\n",
        "from nltk.tokenize import word_tokenize\n",
        "\n",
        "\n",
        "def preprocess(twoD_list):\n",
        "  ans=[]\n",
        "  for text in twoD_list:\n",
        "    # Lowercase the text\n",
        "    text = text.lower()\n",
        "\n",
        "    #tokenizting\n",
        "    tokens = word_tokenize(text)\n",
        "\n",
        "    # Removing stopwordss\n",
        "    stop_words = set(stopwords.words(\"english\"))\n",
        "    tokens = [token for token in tokens if token not in stop_words]\n",
        "\n",
        "    # Removig punctuations\n",
        "    punc_removed = [token.translate(str.maketrans(\"\", \"\", string.punctuation)) for token in tokens]\n",
        "\n",
        "    # Removing blank space tokens\n",
        "    tokens = [token for token in punc_removed if token.strip()]\n",
        "    ans.append(tokens)\n",
        "\n",
        "  return ans\n",
        "\n",
        "# final= preprocess([\"this is one\", \"sjsdjs\", \" badiya hai cpde\", \"samarth raina  hero\"])\n",
        "# final"
      ],
      "metadata": {
        "colab": {
          "base_uri": "https://localhost:8080/"
        },
        "id": "oI1cq2ym45NI",
        "outputId": "0d58c230-f443-42b6-ac5d-62be6476181c"
      },
      "execution_count": 264,
      "outputs": [
        {
          "output_type": "stream",
          "name": "stderr",
          "text": [
            "[nltk_data] Downloading package punkt to /root/nltk_data...\n",
            "[nltk_data]   Package punkt is already up-to-date!\n"
          ]
        },
        {
          "output_type": "execute_result",
          "data": {
            "text/plain": [
              "[['one'], ['sjsdjs'], ['badiya', 'hai', 'cpde'], ['samarth', 'raina', 'hero']]"
            ]
          },
          "metadata": {},
          "execution_count": 264
        }
      ]
    },
    {
      "cell_type": "code",
      "source": [
        "# n= int(input(\"Enter the number of queries to execute: \")).\n",
        "n= int(input())\n",
        "\n",
        "print()\n",
        "seq= []\n",
        "op=[]\n",
        "# for i in range(n):\n",
        "#   sequence_input = input(\"Enter the input sequence \" +str(i+1) + \": \")\n",
        "#   seq.append(sequence_input)\n",
        "#   operations_input= input(\"Enter the operations separated by comma: \") \n",
        "#   op.append(operations_input)\n",
        "#   print()\n",
        "\n",
        "for i in range(n):\n",
        "  sequence_input = input()\n",
        "  seq.append(sequence_input)\n",
        "  operations_input= input() \n",
        "  op.append(operations_input)\n",
        "  print()"
      ],
      "metadata": {
        "colab": {
          "base_uri": "https://localhost:8080/"
        },
        "id": "n5wSJHC407Hl",
        "outputId": "c485edd2-d5a2-45e1-8dd7-9ded9d5ea3e3"
      },
      "execution_count": 335,
      "outputs": [
        {
          "output_type": "stream",
          "name": "stdout",
          "text": [
            "2\n",
            "\n",
            "Car bag in a canister\n",
            "OR, AND NOT\n",
            "\n",
            "Coffee brewing techniques in cookbook\n",
            "AND, OR NOT, OR\n",
            "\n"
          ]
        }
      ]
    },
    {
      "cell_type": "code",
      "source": [
        "seq"
      ],
      "metadata": {
        "colab": {
          "base_uri": "https://localhost:8080/"
        },
        "id": "LGoLkjec8Qzv",
        "outputId": "68543f8d-3c81-41a1-d339-582012103bdf"
      },
      "execution_count": 336,
      "outputs": [
        {
          "output_type": "execute_result",
          "data": {
            "text/plain": [
              "['Car bag in a canister', 'Coffee brewing techniques in cookbook']"
            ]
          },
          "metadata": {},
          "execution_count": 336
        }
      ]
    },
    {
      "cell_type": "code",
      "source": [
        "seq= preprocess(seq)\n",
        "seq"
      ],
      "metadata": {
        "colab": {
          "base_uri": "https://localhost:8080/"
        },
        "id": "jxIVQFXJ1flX",
        "outputId": "8a53f3d2-8413-4720-858c-77cfdc7558f3"
      },
      "execution_count": 337,
      "outputs": [
        {
          "output_type": "execute_result",
          "data": {
            "text/plain": [
              "[['car', 'bag', 'canister'], ['coffee', 'brewing', 'techniques', 'cookbook']]"
            ]
          },
          "metadata": {},
          "execution_count": 337
        }
      ]
    },
    {
      "cell_type": "code",
      "source": [
        "op"
      ],
      "metadata": {
        "colab": {
          "base_uri": "https://localhost:8080/"
        },
        "id": "YKQa9V6M_0U-",
        "outputId": "a69af85c-6810-4d8b-aa6f-c2a5590f8707"
      },
      "execution_count": 338,
      "outputs": [
        {
          "output_type": "execute_result",
          "data": {
            "text/plain": [
              "['OR, AND NOT', 'AND, OR NOT, OR']"
            ]
          },
          "metadata": {},
          "execution_count": 338
        }
      ]
    },
    {
      "cell_type": "code",
      "source": [
        "for i in range(len(op)):\n",
        "  op[i]=op[i].split(',')\n",
        "op"
      ],
      "metadata": {
        "colab": {
          "base_uri": "https://localhost:8080/"
        },
        "id": "DxOWKIYD_ZpT",
        "outputId": "333fb0ce-c81d-4315-b4c0-7d2158013f12"
      },
      "execution_count": 339,
      "outputs": [
        {
          "output_type": "execute_result",
          "data": {
            "text/plain": [
              "[['OR', ' AND NOT'], ['AND', ' OR NOT', ' OR']]"
            ]
          },
          "metadata": {},
          "execution_count": 339
        }
      ]
    },
    {
      "cell_type": "code",
      "source": [
        "print(seq)\n",
        "print(op)\n",
        "\n",
        "for i in range(len(op)):\n",
        "  for k in range(len(op[i])):\n",
        "    op[i][k]= op[i][k].lstrip()\n",
        "  \n",
        "  # Use the .lstrip() method to remove whitespace and characters only from the beginning of a string.\n",
        "\n",
        "op\n"
      ],
      "metadata": {
        "colab": {
          "base_uri": "https://localhost:8080/"
        },
        "id": "yh78AgJoIfKW",
        "outputId": "b3906929-c7cf-45b7-c261-0853f3eb2404"
      },
      "execution_count": 367,
      "outputs": [
        {
          "output_type": "stream",
          "name": "stdout",
          "text": [
            "[['car', 'bag', 'canister'], ['coffee', 'brewing', 'techniques', 'cookbook']]\n",
            "[['OR', 'AND NOT'], ['AND', 'OR NOT', 'OR']]\n"
          ]
        },
        {
          "output_type": "execute_result",
          "data": {
            "text/plain": [
              "[['OR', 'AND NOT'], ['AND', 'OR NOT', 'OR']]"
            ]
          },
          "metadata": {},
          "execution_count": 367
        }
      ]
    },
    {
      "cell_type": "code",
      "source": [
        "# a. T1 AND T2\n",
        "# b. T1 AND NOT T2\n",
        "# c. T1 OR T2\n",
        "# d. T1 OR NOT T2"
      ],
      "metadata": {
        "id": "DbfSqp_QG6jz"
      },
      "execution_count": 352,
      "outputs": []
    },
    {
      "cell_type": "code",
      "source": [
        "# inverted_index={} # {\"term\": [doc freq, list of docs]}\n",
        "def AND(word1, word2):\n",
        "  list1= inverted_index[word1][1]\n",
        "  list2= inverted_index[word2][1]\n",
        "\n",
        "  i=0\n",
        "  j=0\n",
        "  final=[]\n",
        "  count=0\n",
        "  while (j < len(list2) and i < len(list1)):\n",
        "    count+=1\n",
        "\n",
        "    if list1[i] < list2[j]:\n",
        "        i=i+ 1\n",
        "    elif list1[i] == list2[j]:\n",
        "        final.append(list1[i])\n",
        "        i=i+1\n",
        "        j=j+1\n",
        "    \n",
        "    else:\n",
        "        j=j+ 1\n",
        "  # print(list1, list2)\n",
        "\n",
        "  return final, count\n",
        "   \n",
        "\n",
        "def AND_NOT(word1, word2):\n",
        "  list1= inverted_index[word1][1]\n",
        "  list2= inverted_index[word2][1]\n",
        "  #A-B ==> A + (-B) \n",
        "\n",
        "  # ====================================\n",
        "  # temp3 = []\n",
        "  # count=0\n",
        "  # for element in list1:\n",
        "  #   count+=1\n",
        "  #   if element not in list2:\n",
        "  #       temp3.append(element)\n",
        "  # return len(temp3), count\n",
        "   # ====================================\n",
        "\n",
        "  # alldocs= []\n",
        "  # for i in range(1400):\n",
        "  #   alldocs.append(i)\n",
        "\n",
        "  # # list3 = []\n",
        "  # for i in list2:\n",
        "  #   if i in alldocs:\n",
        "  #     alldocs.remove(i)\n",
        "\n",
        "  \n",
        "  i=0\n",
        "  j=0\n",
        "  final = []\n",
        "  count=0\n",
        "  while (j < len(list2) and i < len(list1)):\n",
        "    count+=1\n",
        "\n",
        "    if(list1[i] < list2[j]):\n",
        "      final.append(list1[i])\n",
        "      i=i+ 1\n",
        "    elif(list1[i] == list2[j]):\n",
        "      i=i+1\n",
        "      j=j+1\n",
        "\n",
        "    # if list1[i] == list2[j]:\n",
        "    #   i=i+1\n",
        "    #   j=j+1\n",
        "    # elif list1[i] < list2[j]:\n",
        "    #   final.append(list1[i])\n",
        "    #   i=i+ 1\n",
        "    else:\n",
        "      # final.append(list1[i])    \n",
        "      j=j+1\n",
        "\n",
        "  final=final+ list1[i:]\n",
        "  return len(final), count\n",
        "\n",
        "def OR(word1, word2):\n",
        "  list1= inverted_index[word1][1]\n",
        "  list2= inverted_index[word2][1]\n",
        "  print(len(list1))\n",
        "  print(len(list2))\n",
        "  i=0\n",
        "  j=0\n",
        "  final = []\n",
        "  count=0\n",
        "  while j < len(list2) and i < len(list1):      \n",
        "    count+=1\n",
        "    if list1[i] < list2[j]:\n",
        "        final.append(list1[i])\n",
        "        i += 1\n",
        "    elif list1[i] == list2[j]:\n",
        "        final.append(list1[i])\n",
        "        i += 1\n",
        "        j += 1\n",
        "    else:\n",
        "        final.append(list2[j])\n",
        "        j += 1\n",
        "  final += list1[i:] + list2[j:]\n",
        "  return final, count\n",
        "  \n",
        "def OR_NOT(word1, word2):\n",
        "  list1= inverted_index[word1][1]\n",
        "  list2= inverted_index[word2][1]\n",
        "  print(len(list1))\n",
        "  print(len(list2))\n",
        "  i=0\n",
        "  j=0\n",
        "  final = []\n",
        "  count=0\n",
        "\n",
        "  alldocs= []\n",
        "  for i in range(1400):\n",
        "    alldocs.append(i)\n",
        "\n",
        "  #alldocs-B + A INTERSECTION B\n",
        "\n",
        "  t= AND_NOT(alldocs, list2)\n",
        "\n",
        "  r= AND(list1, list2)\n",
        "\n",
        "  finalans= OR(t, r)\n",
        "\n",
        "  return finalans\n",
        "\n",
        "print(AND('combination', 'models'))\n",
        "print(AND_NOT('combination', 'models'))\n",
        "print(OR('combination', 'models'))\n",
        "\n",
        "\n"
      ],
      "metadata": {
        "colab": {
          "base_uri": "https://localhost:8080/"
        },
        "id": "MIHhubujQuB7",
        "outputId": "8dfb39b8-a21c-45ad-f79b-d2752d329ff9"
      },
      "execution_count": 411,
      "outputs": [
        {
          "output_type": "stream",
          "name": "stdout",
          "text": [
            "([87, 247, 1328], 100)\n",
            "(38, 100)\n",
            "41\n",
            "63\n",
            "([2, 5, 6, 7, 10, 55, 87, 96, 99, 100, 107, 138, 140, 142, 149, 179, 208, 209, 211, 238, 239, 247, 251, 273, 288, 310, 327, 331, 335, 359, 383, 384, 392, 404, 433, 474, 475, 482, 514, 516, 542, 552, 556, 563, 565, 569, 591, 594, 598, 604, 616, 654, 656, 670, 690, 707, 712, 736, 764, 792, 820, 829, 836, 840, 849, 851, 854, 869, 871, 886, 887, 899, 908, 946, 953, 979, 983, 993, 1034, 1044, 1050, 1074, 1084, 1088, 1097, 1129, 1137, 1156, 1233, 1234, 1259, 1264, 1270, 1287, 1290, 1328, 1332, 1358, 1368, 1375, 1390], 100)\n"
          ]
        }
      ]
    },
    {
      "cell_type": "code",
      "source": [
        "ques = []\n",
        "\n",
        "# iterate through each query\n",
        "for i in range(len(seq)):\n",
        "    query = seq[i]\n",
        "    operators = op[i]\n",
        "    \n",
        "    # create a list to store the query fragments\n",
        "    fragments = []\n",
        "    \n",
        "    # iterate through each word in the query\n",
        "    for j in range(len(query)):\n",
        "        word = query[j]\n",
        "        \n",
        "        # if the word is the last one in the query, add it to the fragments list\n",
        "        if j == len(query) - 1:\n",
        "            fragments.append(word)\n",
        "        \n",
        "        # otherwise, add the word and the operator that follows it to the fragments list\n",
        "        else:\n",
        "            operator = operators[j]\n",
        "            fragments.append(word + ' ' + operator)\n",
        "    \n",
        "    # join the fragments together to form the complete sentence for this query\n",
        "    sentence = ' '.join(fragments)\n",
        "    ques.append(sentence)\n",
        "\n",
        "# join the sentences together with a comma and space to create the final output\n",
        "# output = ', '.join(sentences)\n",
        "\n",
        "# print(output)\n",
        "print(ques)\n"
      ],
      "metadata": {
        "colab": {
          "base_uri": "https://localhost:8080/"
        },
        "id": "KXncjXJy_jqf",
        "outputId": "58ee41a5-2d8d-484b-f2b5-5e3924c67878"
      },
      "execution_count": 412,
      "outputs": [
        {
          "output_type": "stream",
          "name": "stdout",
          "text": [
            "['car OR bag AND NOT canister', 'coffee AND brewing OR NOT techniques OR cookbook']\n"
          ]
        }
      ]
    },
    {
      "cell_type": "code",
      "source": [
        "def query_exec(sentence):\n",
        "\n",
        "  sentence=sentence.split()\n",
        "  final = []\n",
        "  for word in sentence:\n",
        "    if word.startswith('NOT'):\n",
        "\n",
        "      word = word[3:]\n",
        "      if word in inverted_index:\n",
        "          final.append(AND_NOT(list(range(1400)), word))\n",
        "      else:\n",
        "          final.append(list(range(1400)))\n",
        "    else:\n",
        "        if term in inverted_index:\n",
        "            final.append(inverted_index[term])\n",
        "        else:\n",
        "            final.append([])\n",
        "  if len(final) == 0:\n",
        "    return []\n",
        "  if len(final) == 1:\n",
        "      return final[0]\n",
        "  while len(final) > 1:\n",
        "      op = sentence.pop(1)\n",
        "      if op == 'AND':\n",
        "          final[1] = AND(final[0], final[1])\n",
        "      elif op == 'OR':\n",
        "          final[1] = OR(final[0], final[1])\n",
        "      final.pop(0)\n",
        "  return final[0]\n"
      ],
      "metadata": {
        "id": "_azzi5DSlu-N"
      },
      "execution_count": 416,
      "outputs": []
    },
    {
      "cell_type": "code",
      "source": [
        "ans=[]\n",
        "for i in range(len(ques)):\n",
        "  if(ques[i][1]==\"OR\"):\n",
        "    ans=OR(ques[i][0], ques[i][2])\n",
        "  elif(ques[i][1]==\"AND\"):\n",
        "    ans=AND(ques[i][0], ques[i][2])\n",
        "  elif(ques[i][1]==\"OR_NOT\"):\n",
        "    ans=OR_NOT(ques[i][0], ques[i][2])\n",
        "  elif(ques[i][1]==\"AND_NOT\"):\n",
        "    ans=AND_NOT(ques[i][0], ques[i][2])\n",
        "\n",
        "print(ans)\n"
      ],
      "metadata": {
        "id": "9ZitM8YfwRFX"
      },
      "execution_count": null,
      "outputs": []
    }
  ]
}